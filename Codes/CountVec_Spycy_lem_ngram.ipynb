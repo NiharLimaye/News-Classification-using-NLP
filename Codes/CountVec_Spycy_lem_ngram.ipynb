{
 "cells": [
  {
   "cell_type": "markdown",
   "metadata": {},
   "source": [
    "# Classification using CountVec & spaCy"
   ]
  },
  {
   "cell_type": "code",
   "execution_count": 1,
   "metadata": {},
   "outputs": [],
   "source": [
    "import numpy as np\n",
    "import pandas as pd\n",
    "import re\n",
    "import string\n",
    "\n",
    "%matplotlib inline\n",
    "import matplotlib.pyplot as plt\n",
    "import seaborn as sns\n",
    "\n",
    "from sklearn.model_selection import train_test_split, GridSearchCV\n",
    "from sklearn_evaluation.plot import confusion_matrix\n",
    "from sklearn.feature_extraction.text import CountVectorizer\n",
    "from sklearn.base import TransformerMixin\n",
    "from sklearn.metrics import accuracy_score, recall_score, plot_confusion_matrix\n",
    "from sklearn.linear_model import LogisticRegression\n",
    "from sklearn.multiclass import OneVsRestClassifier\n",
    "from sklearn.ensemble import RandomForestClassifier, GradientBoostingClassifier\n",
    "from sklearn.metrics import classification_report\n",
    "from sklearn.model_selection import cross_val_score\n",
    "from sklearn.metrics import precision_recall_fscore_support as score\n",
    "from sklearn.naive_bayes import MultinomialNB\n",
    "\n",
    "import time\n",
    "import spacy\n",
    "from spacy.lang.en.stop_words import STOP_WORDS\n",
    "from spacy.lang.en import English"
   ]
  },
  {
   "cell_type": "code",
   "execution_count": 2,
   "metadata": {},
   "outputs": [
    {
     "data": {
      "text/html": [
       "<div>\n",
       "<style scoped>\n",
       "    .dataframe tbody tr th:only-of-type {\n",
       "        vertical-align: middle;\n",
       "    }\n",
       "\n",
       "    .dataframe tbody tr th {\n",
       "        vertical-align: top;\n",
       "    }\n",
       "\n",
       "    .dataframe thead th {\n",
       "        text-align: right;\n",
       "    }\n",
       "</style>\n",
       "<table border=\"1\" class=\"dataframe\">\n",
       "  <thead>\n",
       "    <tr style=\"text-align: right;\">\n",
       "      <th></th>\n",
       "      <th>ID</th>\n",
       "      <th>TITLE</th>\n",
       "      <th>URL</th>\n",
       "      <th>PUBLISHER</th>\n",
       "      <th>CATEGORY</th>\n",
       "      <th>STORY</th>\n",
       "      <th>HOSTNAME</th>\n",
       "      <th>TIMESTAMP</th>\n",
       "    </tr>\n",
       "  </thead>\n",
       "  <tbody>\n",
       "    <tr>\n",
       "      <th>0</th>\n",
       "      <td>1</td>\n",
       "      <td>Fed official says weak data caused by weather,...</td>\n",
       "      <td>http://www.latimes.com/business/money/la-fi-mo...</td>\n",
       "      <td>Los Angeles Times</td>\n",
       "      <td>b</td>\n",
       "      <td>ddUyU0VZz0BRneMioxUPQVP6sIxvM</td>\n",
       "      <td>www.latimes.com</td>\n",
       "      <td>1.394470e+12</td>\n",
       "    </tr>\n",
       "    <tr>\n",
       "      <th>1</th>\n",
       "      <td>2</td>\n",
       "      <td>Fed's Charles Plosser sees high bar for change...</td>\n",
       "      <td>http://www.livemint.com/Politics/H2EvwJSK2VE6O...</td>\n",
       "      <td>Livemint</td>\n",
       "      <td>b</td>\n",
       "      <td>ddUyU0VZz0BRneMioxUPQVP6sIxvM</td>\n",
       "      <td>www.livemint.com</td>\n",
       "      <td>1.394470e+12</td>\n",
       "    </tr>\n",
       "    <tr>\n",
       "      <th>2</th>\n",
       "      <td>3</td>\n",
       "      <td>US open: Stocks fall after Fed official hints ...</td>\n",
       "      <td>http://www.ifamagazine.com/news/us-open-stocks...</td>\n",
       "      <td>IFA Magazine</td>\n",
       "      <td>b</td>\n",
       "      <td>ddUyU0VZz0BRneMioxUPQVP6sIxvM</td>\n",
       "      <td>www.ifamagazine.com</td>\n",
       "      <td>1.394470e+12</td>\n",
       "    </tr>\n",
       "    <tr>\n",
       "      <th>3</th>\n",
       "      <td>4</td>\n",
       "      <td>Fed risks falling 'behind the curve', Charles ...</td>\n",
       "      <td>http://www.ifamagazine.com/news/fed-risks-fall...</td>\n",
       "      <td>IFA Magazine</td>\n",
       "      <td>b</td>\n",
       "      <td>ddUyU0VZz0BRneMioxUPQVP6sIxvM</td>\n",
       "      <td>www.ifamagazine.com</td>\n",
       "      <td>1.394470e+12</td>\n",
       "    </tr>\n",
       "    <tr>\n",
       "      <th>4</th>\n",
       "      <td>5</td>\n",
       "      <td>Fed's Plosser: Nasty Weather Has Curbed Job Gr...</td>\n",
       "      <td>http://www.moneynews.com/Economy/federal-reser...</td>\n",
       "      <td>Moneynews</td>\n",
       "      <td>b</td>\n",
       "      <td>ddUyU0VZz0BRneMioxUPQVP6sIxvM</td>\n",
       "      <td>www.moneynews.com</td>\n",
       "      <td>1.394470e+12</td>\n",
       "    </tr>\n",
       "  </tbody>\n",
       "</table>\n",
       "</div>"
      ],
      "text/plain": [
       "   ID                                              TITLE  \\\n",
       "0   1  Fed official says weak data caused by weather,...   \n",
       "1   2  Fed's Charles Plosser sees high bar for change...   \n",
       "2   3  US open: Stocks fall after Fed official hints ...   \n",
       "3   4  Fed risks falling 'behind the curve', Charles ...   \n",
       "4   5  Fed's Plosser: Nasty Weather Has Curbed Job Gr...   \n",
       "\n",
       "                                                 URL          PUBLISHER  \\\n",
       "0  http://www.latimes.com/business/money/la-fi-mo...  Los Angeles Times   \n",
       "1  http://www.livemint.com/Politics/H2EvwJSK2VE6O...           Livemint   \n",
       "2  http://www.ifamagazine.com/news/us-open-stocks...       IFA Magazine   \n",
       "3  http://www.ifamagazine.com/news/fed-risks-fall...       IFA Magazine   \n",
       "4  http://www.moneynews.com/Economy/federal-reser...          Moneynews   \n",
       "\n",
       "  CATEGORY                          STORY             HOSTNAME     TIMESTAMP  \n",
       "0        b  ddUyU0VZz0BRneMioxUPQVP6sIxvM      www.latimes.com  1.394470e+12  \n",
       "1        b  ddUyU0VZz0BRneMioxUPQVP6sIxvM     www.livemint.com  1.394470e+12  \n",
       "2        b  ddUyU0VZz0BRneMioxUPQVP6sIxvM  www.ifamagazine.com  1.394470e+12  \n",
       "3        b  ddUyU0VZz0BRneMioxUPQVP6sIxvM  www.ifamagazine.com  1.394470e+12  \n",
       "4        b  ddUyU0VZz0BRneMioxUPQVP6sIxvM    www.moneynews.com  1.394470e+12  "
      ]
     },
     "execution_count": 2,
     "metadata": {},
     "output_type": "execute_result"
    }
   ],
   "source": [
    "news = pd.read_csv('News Aggregator/uci-news-aggregator.csv')\n",
    "news.head()"
   ]
  },
  {
   "cell_type": "code",
   "execution_count": 3,
   "metadata": {},
   "outputs": [
    {
     "data": {
      "text/plain": [
       "ID           422406\n",
       "TITLE        422406\n",
       "URL          422406\n",
       "PUBLISHER    422404\n",
       "CATEGORY     422406\n",
       "STORY        422406\n",
       "HOSTNAME     422406\n",
       "TIMESTAMP    422406\n",
       "dtype: int64"
      ]
     },
     "execution_count": 3,
     "metadata": {},
     "output_type": "execute_result"
    }
   ],
   "source": [
    "news.count()"
   ]
  },
  {
   "cell_type": "code",
   "execution_count": 4,
   "metadata": {},
   "outputs": [
    {
     "data": {
      "text/plain": [
       "e    152462\n",
       "b    115964\n",
       "t    108341\n",
       "m     45639\n",
       "Name: CATEGORY, dtype: int64"
      ]
     },
     "execution_count": 4,
     "metadata": {},
     "output_type": "execute_result"
    }
   ],
   "source": [
    "news.CATEGORY.value_counts()"
   ]
  },
  {
   "cell_type": "code",
   "execution_count": 5,
   "metadata": {},
   "outputs": [
    {
     "data": {
      "image/png": "[encoded data removed]",
      "text/plain": [
       "<Figure size 432x288 with 1 Axes>"
      ]
     },
     "metadata": {
      "needs_background": "light"
     },
     "output_type": "display_data"
    }
   ],
   "source": [
    "cat_map = {\n",
    "    'b': 'Business',\n",
    "    't': 'Science',\n",
    "    'e': 'Entertainment',\n",
    "    'm': 'Health'\n",
    "}\n",
    "ax = sns.countplot(news['CATEGORY'])\n",
    "ax.set_title(\"Category Counts\")\n",
    "ax.set_xlabel(\"Category\")\n",
    "# Manipulate the labels to make them more readable\n",
    "ax.set_xticklabels([cat_map[x.get_text()] for x in ax.get_xticklabels()], rotation=45)\n",
    "plt.show()"
   ]
  },
  {
   "cell_type": "code",
   "execution_count": 6,
   "metadata": {},
   "outputs": [
    {
     "data": {
      "text/html": [
       "<div>\n",
       "<style scoped>\n",
       "    .dataframe tbody tr th:only-of-type {\n",
       "        vertical-align: middle;\n",
       "    }\n",
       "\n",
       "    .dataframe tbody tr th {\n",
       "        vertical-align: top;\n",
       "    }\n",
       "\n",
       "    .dataframe thead th {\n",
       "        text-align: right;\n",
       "    }\n",
       "</style>\n",
       "<table border=\"1\" class=\"dataframe\">\n",
       "  <thead>\n",
       "    <tr style=\"text-align: right;\">\n",
       "      <th></th>\n",
       "      <th>ID</th>\n",
       "      <th>TITLE</th>\n",
       "      <th>URL</th>\n",
       "      <th>PUBLISHER</th>\n",
       "      <th>CATEGORY</th>\n",
       "      <th>STORY</th>\n",
       "      <th>HOSTNAME</th>\n",
       "      <th>TIMESTAMP</th>\n",
       "    </tr>\n",
       "  </thead>\n",
       "  <tbody>\n",
       "    <tr>\n",
       "      <th>0</th>\n",
       "      <td>1</td>\n",
       "      <td>Fed official says weak data caused by weather,...</td>\n",
       "      <td>http://www.latimes.com/business/money/la-fi-mo...</td>\n",
       "      <td>Los Angeles Times</td>\n",
       "      <td>b</td>\n",
       "      <td>ddUyU0VZz0BRneMioxUPQVP6sIxvM</td>\n",
       "      <td>www.latimes.com</td>\n",
       "      <td>1.394470e+12</td>\n",
       "    </tr>\n",
       "    <tr>\n",
       "      <th>1</th>\n",
       "      <td>2</td>\n",
       "      <td>Fed's Charles Plosser sees high bar for change...</td>\n",
       "      <td>http://www.livemint.com/Politics/H2EvwJSK2VE6O...</td>\n",
       "      <td>Livemint</td>\n",
       "      <td>b</td>\n",
       "      <td>ddUyU0VZz0BRneMioxUPQVP6sIxvM</td>\n",
       "      <td>www.livemint.com</td>\n",
       "      <td>1.394470e+12</td>\n",
       "    </tr>\n",
       "    <tr>\n",
       "      <th>2</th>\n",
       "      <td>3</td>\n",
       "      <td>US open: Stocks fall after Fed official hints ...</td>\n",
       "      <td>http://www.ifamagazine.com/news/us-open-stocks...</td>\n",
       "      <td>IFA Magazine</td>\n",
       "      <td>b</td>\n",
       "      <td>ddUyU0VZz0BRneMioxUPQVP6sIxvM</td>\n",
       "      <td>www.ifamagazine.com</td>\n",
       "      <td>1.394470e+12</td>\n",
       "    </tr>\n",
       "    <tr>\n",
       "      <th>3</th>\n",
       "      <td>4</td>\n",
       "      <td>Fed risks falling 'behind the curve', Charles ...</td>\n",
       "      <td>http://www.ifamagazine.com/news/fed-risks-fall...</td>\n",
       "      <td>IFA Magazine</td>\n",
       "      <td>b</td>\n",
       "      <td>ddUyU0VZz0BRneMioxUPQVP6sIxvM</td>\n",
       "      <td>www.ifamagazine.com</td>\n",
       "      <td>1.394470e+12</td>\n",
       "    </tr>\n",
       "    <tr>\n",
       "      <th>4</th>\n",
       "      <td>5</td>\n",
       "      <td>Fed's Plosser: Nasty Weather Has Curbed Job Gr...</td>\n",
       "      <td>http://www.moneynews.com/Economy/federal-reser...</td>\n",
       "      <td>Moneynews</td>\n",
       "      <td>b</td>\n",
       "      <td>ddUyU0VZz0BRneMioxUPQVP6sIxvM</td>\n",
       "      <td>www.moneynews.com</td>\n",
       "      <td>1.394470e+12</td>\n",
       "    </tr>\n",
       "  </tbody>\n",
       "</table>\n",
       "</div>"
      ],
      "text/plain": [
       "   ID                                              TITLE  \\\n",
       "0   1  Fed official says weak data caused by weather,...   \n",
       "1   2  Fed's Charles Plosser sees high bar for change...   \n",
       "2   3  US open: Stocks fall after Fed official hints ...   \n",
       "3   4  Fed risks falling 'behind the curve', Charles ...   \n",
       "4   5  Fed's Plosser: Nasty Weather Has Curbed Job Gr...   \n",
       "\n",
       "                                                 URL          PUBLISHER  \\\n",
       "0  http://www.latimes.com/business/money/la-fi-mo...  Los Angeles Times   \n",
       "1  http://www.livemint.com/Politics/H2EvwJSK2VE6O...           Livemint   \n",
       "2  http://www.ifamagazine.com/news/us-open-stocks...       IFA Magazine   \n",
       "3  http://www.ifamagazine.com/news/fed-risks-fall...       IFA Magazine   \n",
       "4  http://www.moneynews.com/Economy/federal-reser...          Moneynews   \n",
       "\n",
       "  CATEGORY                          STORY             HOSTNAME     TIMESTAMP  \n",
       "0        b  ddUyU0VZz0BRneMioxUPQVP6sIxvM      www.latimes.com  1.394470e+12  \n",
       "1        b  ddUyU0VZz0BRneMioxUPQVP6sIxvM     www.livemint.com  1.394470e+12  \n",
       "2        b  ddUyU0VZz0BRneMioxUPQVP6sIxvM  www.ifamagazine.com  1.394470e+12  \n",
       "3        b  ddUyU0VZz0BRneMioxUPQVP6sIxvM  www.ifamagazine.com  1.394470e+12  \n",
       "4        b  ddUyU0VZz0BRneMioxUPQVP6sIxvM    www.moneynews.com  1.394470e+12  "
      ]
     },
     "execution_count": 6,
     "metadata": {},
     "output_type": "execute_result"
    }
   ],
   "source": [
    "news.head()"
   ]
  },
  {
   "cell_type": "code",
   "execution_count": 7,
   "metadata": {},
   "outputs": [
    {
     "data": {
      "text/html": [
       "<div>\n",
       "<style scoped>\n",
       "    .dataframe tbody tr th:only-of-type {\n",
       "        vertical-align: middle;\n",
       "    }\n",
       "\n",
       "    .dataframe tbody tr th {\n",
       "        vertical-align: top;\n",
       "    }\n",
       "\n",
       "    .dataframe thead th {\n",
       "        text-align: right;\n",
       "    }\n",
       "</style>\n",
       "<table border=\"1\" class=\"dataframe\">\n",
       "  <thead>\n",
       "    <tr style=\"text-align: right;\">\n",
       "      <th></th>\n",
       "      <th>ID</th>\n",
       "      <th>TITLE</th>\n",
       "      <th>URL</th>\n",
       "      <th>PUBLISHER</th>\n",
       "      <th>CATEGORY</th>\n",
       "      <th>STORY</th>\n",
       "      <th>HOSTNAME</th>\n",
       "      <th>TIMESTAMP</th>\n",
       "    </tr>\n",
       "  </thead>\n",
       "  <tbody>\n",
       "    <tr>\n",
       "      <th>422401</th>\n",
       "      <td>422933</td>\n",
       "      <td>Surgeons to remove 4-year-old's rib to rebuild...</td>\n",
       "      <td>http://www.cbs3springfield.com/story/26378648/...</td>\n",
       "      <td>WSHM-TV</td>\n",
       "      <td>m</td>\n",
       "      <td>dpcLMoJD69UYMXMxaoEFnWql9YjQM</td>\n",
       "      <td>www.cbs3springfield.com</td>\n",
       "      <td>1.409230e+12</td>\n",
       "    </tr>\n",
       "    <tr>\n",
       "      <th>422402</th>\n",
       "      <td>422934</td>\n",
       "      <td>Boy to have surgery on esophagus after battery...</td>\n",
       "      <td>http://www.wlwt.com/news/boy-to-have-surgery-o...</td>\n",
       "      <td>WLWT Cincinnati</td>\n",
       "      <td>m</td>\n",
       "      <td>dpcLMoJD69UYMXMxaoEFnWql9YjQM</td>\n",
       "      <td>www.wlwt.com</td>\n",
       "      <td>1.409230e+12</td>\n",
       "    </tr>\n",
       "    <tr>\n",
       "      <th>422403</th>\n",
       "      <td>422935</td>\n",
       "      <td>Child who swallowed battery to have reconstruc...</td>\n",
       "      <td>http://www.newsnet5.com/news/local-news/child-...</td>\n",
       "      <td>NewsNet5.com</td>\n",
       "      <td>m</td>\n",
       "      <td>dpcLMoJD69UYMXMxaoEFnWql9YjQM</td>\n",
       "      <td>www.newsnet5.com</td>\n",
       "      <td>1.409230e+12</td>\n",
       "    </tr>\n",
       "    <tr>\n",
       "      <th>422404</th>\n",
       "      <td>422936</td>\n",
       "      <td>Phoenix boy undergoes surgery to repair throat...</td>\n",
       "      <td>http://www.wfsb.com/story/26368078/phoenix-boy...</td>\n",
       "      <td>WFSB</td>\n",
       "      <td>m</td>\n",
       "      <td>dpcLMoJD69UYMXMxaoEFnWql9YjQM</td>\n",
       "      <td>www.wfsb.com</td>\n",
       "      <td>1.409230e+12</td>\n",
       "    </tr>\n",
       "    <tr>\n",
       "      <th>422405</th>\n",
       "      <td>422937</td>\n",
       "      <td>Phoenix boy undergoes surgery to repair throat...</td>\n",
       "      <td>http://www.cbs3springfield.com/story/26368078/...</td>\n",
       "      <td>WSHM-TV</td>\n",
       "      <td>m</td>\n",
       "      <td>dpcLMoJD69UYMXMxaoEFnWql9YjQM</td>\n",
       "      <td>www.cbs3springfield.com</td>\n",
       "      <td>1.409230e+12</td>\n",
       "    </tr>\n",
       "  </tbody>\n",
       "</table>\n",
       "</div>"
      ],
      "text/plain": [
       "            ID                                              TITLE  \\\n",
       "422401  422933  Surgeons to remove 4-year-old's rib to rebuild...   \n",
       "422402  422934  Boy to have surgery on esophagus after battery...   \n",
       "422403  422935  Child who swallowed battery to have reconstruc...   \n",
       "422404  422936  Phoenix boy undergoes surgery to repair throat...   \n",
       "422405  422937  Phoenix boy undergoes surgery to repair throat...   \n",
       "\n",
       "                                                      URL        PUBLISHER  \\\n",
       "422401  http://www.cbs3springfield.com/story/26378648/...          WSHM-TV   \n",
       "422402  http://www.wlwt.com/news/boy-to-have-surgery-o...  WLWT Cincinnati   \n",
       "422403  http://www.newsnet5.com/news/local-news/child-...     NewsNet5.com   \n",
       "422404  http://www.wfsb.com/story/26368078/phoenix-boy...             WFSB   \n",
       "422405  http://www.cbs3springfield.com/story/26368078/...          WSHM-TV   \n",
       "\n",
       "       CATEGORY                          STORY                 HOSTNAME  \\\n",
       "422401        m  dpcLMoJD69UYMXMxaoEFnWql9YjQM  www.cbs3springfield.com   \n",
       "422402        m  dpcLMoJD69UYMXMxaoEFnWql9YjQM             www.wlwt.com   \n",
       "422403        m  dpcLMoJD69UYMXMxaoEFnWql9YjQM         www.newsnet5.com   \n",
       "422404        m  dpcLMoJD69UYMXMxaoEFnWql9YjQM             www.wfsb.com   \n",
       "422405        m  dpcLMoJD69UYMXMxaoEFnWql9YjQM  www.cbs3springfield.com   \n",
       "\n",
       "           TIMESTAMP  \n",
       "422401  1.409230e+12  \n",
       "422402  1.409230e+12  \n",
       "422403  1.409230e+12  \n",
       "422404  1.409230e+12  \n",
       "422405  1.409230e+12  "
      ]
     },
     "execution_count": 7,
     "metadata": {},
     "output_type": "execute_result"
    }
   ],
   "source": [
    "news.tail()"
   ]
  },
  {
   "cell_type": "code",
   "execution_count": 8,
   "metadata": {},
   "outputs": [],
   "source": [
    "#Converting categories as balanced\n",
    "num_of_categories = 45639 #45639\n",
    "shuffled = news.reindex(np.random.permutation(news.index))\n",
    "e = shuffled[shuffled['CATEGORY'] == 'e'][:num_of_categories]\n",
    "b = shuffled[shuffled['CATEGORY'] == 'b'][:num_of_categories]\n",
    "t = shuffled[shuffled['CATEGORY'] == 't'][:num_of_categories]\n",
    "m = shuffled[shuffled['CATEGORY'] == 'm'][:num_of_categories]\n",
    "concated = pd.concat([e,b,t,m], ignore_index=True)\n",
    "#Shuffle the dataset\n",
    "concated = concated.reindex(np.random.permutation(concated.index))"
   ]
  },
  {
   "cell_type": "code",
   "execution_count": 9,
   "metadata": {},
   "outputs": [
    {
     "data": {
      "text/plain": [
       "ID           182556\n",
       "TITLE        182556\n",
       "URL          182556\n",
       "PUBLISHER    182556\n",
       "CATEGORY     182556\n",
       "STORY        182556\n",
       "HOSTNAME     182556\n",
       "TIMESTAMP    182556\n",
       "dtype: int64"
      ]
     },
     "execution_count": 9,
     "metadata": {},
     "output_type": "execute_result"
    }
   ],
   "source": [
    "concated.count()"
   ]
  },
  {
   "cell_type": "code",
   "execution_count": 10,
   "metadata": {},
   "outputs": [
    {
     "data": {
      "text/plain": [
       "e    45639\n",
       "t    45639\n",
       "m    45639\n",
       "b    45639\n",
       "Name: CATEGORY, dtype: int64"
      ]
     },
     "execution_count": 10,
     "metadata": {},
     "output_type": "execute_result"
    }
   ],
   "source": [
    "concated.CATEGORY.value_counts()"
   ]
  },
  {
   "cell_type": "code",
   "execution_count": 11,
   "metadata": {},
   "outputs": [
    {
     "data": {
      "image/png": "[encoded data removed]",
      "text/plain": [
       "<Figure size 432x288 with 1 Axes>"
      ]
     },
     "metadata": {
      "needs_background": "light"
     },
     "output_type": "display_data"
    }
   ],
   "source": [
    "cat_map = {\n",
    "    'b': 'Business',\n",
    "    't': 'Science',\n",
    "    'e': 'Entertainment',\n",
    "    'm': 'Health'\n",
    "}\n",
    "ax = sns.countplot(concated['CATEGORY'])\n",
    "ax.set_title(\"Category Counts\")\n",
    "ax.set_xlabel(\"Category\")\n",
    "# Manipulate the labels to make them more readable\n",
    "ax.set_xticklabels([cat_map[x.get_text()] for x in ax.get_xticklabels()], rotation=45)\n",
    "plt.show()"
   ]
  },
  {
   "cell_type": "code",
   "execution_count": 12,
   "metadata": {},
   "outputs": [
    {
     "data": {
      "text/html": [
       "<div>\n",
       "<style scoped>\n",
       "    .dataframe tbody tr th:only-of-type {\n",
       "        vertical-align: middle;\n",
       "    }\n",
       "\n",
       "    .dataframe tbody tr th {\n",
       "        vertical-align: top;\n",
       "    }\n",
       "\n",
       "    .dataframe thead th {\n",
       "        text-align: right;\n",
       "    }\n",
       "</style>\n",
       "<table border=\"1\" class=\"dataframe\">\n",
       "  <thead>\n",
       "    <tr style=\"text-align: right;\">\n",
       "      <th></th>\n",
       "      <th>ID</th>\n",
       "      <th>TITLE</th>\n",
       "      <th>URL</th>\n",
       "      <th>PUBLISHER</th>\n",
       "      <th>CATEGORY</th>\n",
       "      <th>STORY</th>\n",
       "      <th>HOSTNAME</th>\n",
       "      <th>TIMESTAMP</th>\n",
       "    </tr>\n",
       "  </thead>\n",
       "  <tbody>\n",
       "    <tr>\n",
       "      <th>64973</th>\n",
       "      <td>394332</td>\n",
       "      <td>Combined Dollar Tree And Family Dollar To Give...</td>\n",
       "      <td>http://www.ibtimes.com/combined-dollar-tree-fa...</td>\n",
       "      <td>International Business Times</td>\n",
       "      <td>b</td>\n",
       "      <td>dyKLaN8mKAL7bIMJ9OSn_lHbS4hpM</td>\n",
       "      <td>www.ibtimes.com</td>\n",
       "      <td>1.406640e+12</td>\n",
       "    </tr>\n",
       "    <tr>\n",
       "      <th>159237</th>\n",
       "      <td>70188</td>\n",
       "      <td>CDC estimates 1 in 68 kids autistic</td>\n",
       "      <td>http://www.columbiatribune.com/news/cdc-estima...</td>\n",
       "      <td>Columbia Daily Tribune</td>\n",
       "      <td>m</td>\n",
       "      <td>dNVj8wWWsAeCtVMFik_KyFLLNAkGM</td>\n",
       "      <td>www.columbiatribune.com</td>\n",
       "      <td>1.396240e+12</td>\n",
       "    </tr>\n",
       "    <tr>\n",
       "      <th>86904</th>\n",
       "      <td>56989</td>\n",
       "      <td>Obama says more than 6M signed up for health care</td>\n",
       "      <td>http://www.petoskeynews.com/news/nation/obama-...</td>\n",
       "      <td>Petoskey News-Review</td>\n",
       "      <td>b</td>\n",
       "      <td>d1hmHBJbhlOJTnMlDuMQwIQpN2-NM</td>\n",
       "      <td>www.petoskeynews.com</td>\n",
       "      <td>1.396010e+12</td>\n",
       "    </tr>\n",
       "    <tr>\n",
       "      <th>120892</th>\n",
       "      <td>205108</td>\n",
       "      <td>Here's An Interview With The CEO Who Missed Ou...</td>\n",
       "      <td>http://www.bastropenterprise.com/article/20140...</td>\n",
       "      <td>Bastrop Daily Enterprise</td>\n",
       "      <td>t</td>\n",
       "      <td>dNjXO8Zs_TigtUMkkEOQaL07qvQ3M</td>\n",
       "      <td>www.bastropenterprise.com</td>\n",
       "      <td>1.399910e+12</td>\n",
       "    </tr>\n",
       "    <tr>\n",
       "      <th>52802</th>\n",
       "      <td>359713</td>\n",
       "      <td>Tour de France Chart</td>\n",
       "      <td>http://thegardenisland.com/sports_wire/tour-de...</td>\n",
       "      <td>Thegardenisland.com</td>\n",
       "      <td>b</td>\n",
       "      <td>duar2JiCmGe52RMmy-hhvYbAMXM9M</td>\n",
       "      <td>thegardenisland.com</td>\n",
       "      <td>1.404580e+12</td>\n",
       "    </tr>\n",
       "  </tbody>\n",
       "</table>\n",
       "</div>"
      ],
      "text/plain": [
       "            ID                                              TITLE  \\\n",
       "64973   394332  Combined Dollar Tree And Family Dollar To Give...   \n",
       "159237   70188                CDC estimates 1 in 68 kids autistic   \n",
       "86904    56989  Obama says more than 6M signed up for health care   \n",
       "120892  205108  Here's An Interview With The CEO Who Missed Ou...   \n",
       "52802   359713                               Tour de France Chart   \n",
       "\n",
       "                                                      URL  \\\n",
       "64973   http://www.ibtimes.com/combined-dollar-tree-fa...   \n",
       "159237  http://www.columbiatribune.com/news/cdc-estima...   \n",
       "86904   http://www.petoskeynews.com/news/nation/obama-...   \n",
       "120892  http://www.bastropenterprise.com/article/20140...   \n",
       "52802   http://thegardenisland.com/sports_wire/tour-de...   \n",
       "\n",
       "                           PUBLISHER CATEGORY                          STORY  \\\n",
       "64973   International Business Times        b  dyKLaN8mKAL7bIMJ9OSn_lHbS4hpM   \n",
       "159237        Columbia Daily Tribune        m  dNVj8wWWsAeCtVMFik_KyFLLNAkGM   \n",
       "86904           Petoskey News-Review        b  d1hmHBJbhlOJTnMlDuMQwIQpN2-NM   \n",
       "120892      Bastrop Daily Enterprise        t  dNjXO8Zs_TigtUMkkEOQaL07qvQ3M   \n",
       "52802            Thegardenisland.com        b  duar2JiCmGe52RMmy-hhvYbAMXM9M   \n",
       "\n",
       "                         HOSTNAME     TIMESTAMP  \n",
       "64973             www.ibtimes.com  1.406640e+12  \n",
       "159237    www.columbiatribune.com  1.396240e+12  \n",
       "86904        www.petoskeynews.com  1.396010e+12  \n",
       "120892  www.bastropenterprise.com  1.399910e+12  \n",
       "52802         thegardenisland.com  1.404580e+12  "
      ]
     },
     "execution_count": 12,
     "metadata": {},
     "output_type": "execute_result"
    }
   ],
   "source": [
    "concated.head()"
   ]
  },
  {
   "cell_type": "code",
   "execution_count": 13,
   "metadata": {},
   "outputs": [
    {
     "data": {
      "text/plain": [
       "ID           0\n",
       "TITLE        0\n",
       "URL          0\n",
       "PUBLISHER    0\n",
       "CATEGORY     0\n",
       "STORY        0\n",
       "HOSTNAME     0\n",
       "TIMESTAMP    0\n",
       "dtype: int64"
      ]
     },
     "execution_count": 13,
     "metadata": {},
     "output_type": "execute_result"
    }
   ],
   "source": [
    "# remove duplicates\n",
    "concated = concated.drop_duplicates()\n",
    "concated.isnull().sum()"
   ]
  },
  {
   "cell_type": "code",
   "execution_count": 14,
   "metadata": {},
   "outputs": [
    {
     "name": "stdout",
     "output_type": "stream",
     "text": [
      "<class 'pandas.core.frame.DataFrame'>\n",
      "Int64Index: 182556 entries, 64973 to 51260\n",
      "Data columns (total 8 columns):\n",
      " #   Column     Non-Null Count   Dtype  \n",
      "---  ------     --------------   -----  \n",
      " 0   ID         182556 non-null  int64  \n",
      " 1   TITLE      182556 non-null  object \n",
      " 2   URL        182556 non-null  object \n",
      " 3   PUBLISHER  182556 non-null  object \n",
      " 4   CATEGORY   182556 non-null  object \n",
      " 5   STORY      182556 non-null  object \n",
      " 6   HOSTNAME   182556 non-null  object \n",
      " 7   TIMESTAMP  182556 non-null  float64\n",
      "dtypes: float64(1), int64(1), object(6)\n",
      "memory usage: 12.5+ MB\n"
     ]
    }
   ],
   "source": [
    "concated.info()"
   ]
  },
  {
   "cell_type": "code",
   "execution_count": 15,
   "metadata": {},
   "outputs": [
    {
     "name": "stdout",
     "output_type": "stream",
     "text": [
      "<class 'pandas.core.frame.DataFrame'>\n",
      "Int64Index: 182556 entries, 64973 to 51260\n",
      "Data columns (total 9 columns):\n",
      " #   Column     Non-Null Count   Dtype  \n",
      "---  ------     --------------   -----  \n",
      " 0   ID         182556 non-null  int64  \n",
      " 1   TITLE      182556 non-null  object \n",
      " 2   URL        182556 non-null  object \n",
      " 3   PUBLISHER  182556 non-null  object \n",
      " 4   CATEGORY   182556 non-null  object \n",
      " 5   STORY      182556 non-null  object \n",
      " 6   HOSTNAME   182556 non-null  object \n",
      " 7   TIMESTAMP  182556 non-null  float64\n",
      " 8   text       182556 non-null  object \n",
      "dtypes: float64(1), int64(1), object(7)\n",
      "memory usage: 13.9+ MB\n"
     ]
    }
   ],
   "source": [
    "concated['text'] = concated.TITLE + \" \" + concated.PUBLISHER\n",
    "concated.info()\n",
    "#df.text.to_string()"
   ]
  },
  {
   "cell_type": "code",
   "execution_count": 16,
   "metadata": {},
   "outputs": [],
   "source": [
    "# Drop null\n",
    "concated= concated.dropna(subset=['text'])"
   ]
  },
  {
   "cell_type": "code",
   "execution_count": 17,
   "metadata": {},
   "outputs": [
    {
     "name": "stdout",
     "output_type": "stream",
     "text": [
      "<class 'pandas.core.frame.DataFrame'>\n",
      "Int64Index: 182556 entries, 64973 to 51260\n",
      "Data columns (total 9 columns):\n",
      " #   Column     Non-Null Count   Dtype  \n",
      "---  ------     --------------   -----  \n",
      " 0   ID         182556 non-null  int64  \n",
      " 1   TITLE      182556 non-null  object \n",
      " 2   URL        182556 non-null  object \n",
      " 3   PUBLISHER  182556 non-null  object \n",
      " 4   CATEGORY   182556 non-null  object \n",
      " 5   STORY      182556 non-null  object \n",
      " 6   HOSTNAME   182556 non-null  object \n",
      " 7   TIMESTAMP  182556 non-null  float64\n",
      " 8   text       182556 non-null  object \n",
      "dtypes: float64(1), int64(1), object(7)\n",
      "memory usage: 13.9+ MB\n"
     ]
    }
   ],
   "source": [
    "concated.info()"
   ]
  },
  {
   "cell_type": "code",
   "execution_count": 18,
   "metadata": {},
   "outputs": [
    {
     "data": {
      "text/plain": [
       "'MannKind - A Trail Of Failure Leading To Success Seeking Alpha'"
      ]
     },
     "execution_count": 18,
     "metadata": {},
     "output_type": "execute_result"
    }
   ],
   "source": [
    "concated.text.iloc[86]"
   ]
  },
  {
   "cell_type": "code",
   "execution_count": 19,
   "metadata": {},
   "outputs": [],
   "source": [
    "concated['text'].dropna(inplace=True)"
   ]
  },
  {
   "cell_type": "code",
   "execution_count": 20,
   "metadata": {},
   "outputs": [
    {
     "data": {
      "text/plain": [
       "'MannKind - A Trail Of Failure Leading To Success Seeking Alpha'"
      ]
     },
     "execution_count": 20,
     "metadata": {},
     "output_type": "execute_result"
    }
   ],
   "source": [
    "concated.text.iloc[86]"
   ]
  },
  {
   "cell_type": "code",
   "execution_count": 21,
   "metadata": {},
   "outputs": [],
   "source": [
    "symbols = [',', '.', '\"', ':', ')', '(', '-', '!', '?', '|', \n",
    "           ';', \"'\", '$', '&', '/', '[', ']', '>', '%', '=', \n",
    "           '#', '*', '+', '\\\\', '•',  '~', '@', '£', '·', '_', \n",
    "           '{', '}', '©', '^', '®', '`',  '<', '→', '°', '€', \n",
    "           '™', '›',  '♥', '←', '×', '§', '″', '′', 'Â', '█', \n",
    "           '½', 'à', '…', '“', '★', '”', '–', '●', 'â', '►', \n",
    "           '−', '¢', '²', '¬', '░', '¶', '↑', '±', '¿', '▾', \n",
    "           '═', '¦', '║', '―', '¥', '▓', '—', '‹', '─', '▒', '：', \n",
    "           '¼', '⊕', '▼', '▪', '†', '■', '’', '▀', '¨', '▄', '♫', \n",
    "           '☆', 'é', '¯', '♦', '¤', '▲', 'è', '¸', '¾', 'Ã', '⋅', \n",
    "           '‘', '∞', '∙', '）', '↓', '、', '│', '（', '»', '，', '♪', \n",
    "           '╩', '╚', '³', '・', '╦', '╣', '╔', '╗', '▬', '❤', 'ï', 'Ø', \n",
    "           '¹', '≤', '‡', '√', ]"
   ]
  },
  {
   "cell_type": "code",
   "execution_count": 22,
   "metadata": {},
   "outputs": [],
   "source": [
    "def clean_symbol(text):\n",
    "    text = str(text)\n",
    "    for symbol in symbols:\n",
    "        text = text.replace(symbol, '')\n",
    "    return text\n",
    "\n",
    "# remove symbols and punctuations \n",
    "concated['text'] = concated['text'].apply(lambda x: clean_symbol(x))"
   ]
  },
  {
   "cell_type": "code",
   "execution_count": 23,
   "metadata": {},
   "outputs": [],
   "source": [
    "concated['text'] = concated['text'].str.replace('[^\\w\\s]','') # unpunctuate"
   ]
  },
  {
   "cell_type": "code",
   "execution_count": 24,
   "metadata": {},
   "outputs": [],
   "source": [
    "def clean_text(s):\n",
    "    s = re.sub(\"[0-9]+\", \"\",s)\n",
    "    s = re.sub(' +',' ', s)\n",
    "    return s\n",
    "\n",
    "concated['text'] = [clean_text(s) for s in concated['text']]"
   ]
  },
  {
   "cell_type": "code",
   "execution_count": 25,
   "metadata": {},
   "outputs": [
    {
     "data": {
      "text/plain": [
       "'MannKind A Trail Of Failure Leading To Success Seeking Alpha'"
      ]
     },
     "execution_count": 25,
     "metadata": {},
     "output_type": "execute_result"
    }
   ],
   "source": [
    "concated.text.iloc[86]"
   ]
  },
  {
   "cell_type": "code",
   "execution_count": 26,
   "metadata": {},
   "outputs": [],
   "source": [
    "# Dictionary of short form words and mispellings\n",
    "short_forms_dict = {\"ain't\": \"is not\", \"aren't\": \"are not\",\"can't\": \"cannot\", \n",
    "                    \"'cause\": \"because\", \"could've\": \"could have\", \"couldn't\": \"could not\", \n",
    "                    \"didn't\": \"did not\",  \"doesn't\": \"does not\", \"don't\": \"do not\", \"hadn't\": \"had not\", \n",
    "                    \"hasn't\": \"has not\", \"haven't\": \"have not\", \"he'd\": \"he would\",\"he'll\": \"he will\", \n",
    "                    \"he's\": \"he is\", \"how'd\": \"how did\", \"how'd'y\": \"how do you\", \"how'll\": \"how will\", \n",
    "                    \"how's\": \"how is\",  \"I'd\": \"I would\", \"I'd've\": \"I would have\", \"I'll\": \"I will\", \n",
    "                    \"I'll've\": \"I will have\",\"I'm\": \"I am\", \"I've\": \"I have\", \"i'd\": \"i would\", \n",
    "                    \"i'd've\": \"i would have\", \"i'll\": \"i will\",  \"i'll've\": \"i will have\",\"i'm\": \"i am\", \n",
    "                    \"i've\": \"i have\", \"isn't\": \"is not\", \"it'd\": \"it would\", \"it'd've\": \"it would have\", \n",
    "                    \"it'll\": \"it will\", \"it'll've\": \"it will have\",\"it's\": \"it is\", \"let's\": \"let us\", \n",
    "                    \"ma'am\": \"madam\", \"mayn't\": \"may not\", \"might've\": \"might have\",\"mightn't\": \"might not\",\n",
    "                    \"mightn't've\": \"might not have\", \"must've\": \"must have\", \"mustn't\": \"must not\", \n",
    "                    \"mustn't've\": \"must not have\", \"needn't\": \"need not\", \"needn't've\": \"need not have\",\n",
    "                    \"o'clock\": \"of the clock\", \"oughtn't\": \"ought not\", \"oughtn't've\": \"ought not have\", \n",
    "                    \"shan't\": \"shall not\", \"sha'n't\": \"shall not\", \"shan't've\": \"shall not have\", \n",
    "                    \"she'd\": \"she would\", \"she'd've\": \"she would have\", \"she'll\": \"she will\", \n",
    "                    \"she'll've\": \"she will have\", \"she's\": \"she is\", \"should've\": \"should have\", \n",
    "                    \"shouldn't\": \"should not\", \"shouldn't've\": \"should not have\", \"so've\": \"so have\",\n",
    "                    \"so's\": \"so as\", \"this's\": \"this is\",\"that'd\": \"that would\", \"that'd've\": \"that would have\", \n",
    "                    \"that's\": \"that is\", \"there'd\": \"there would\", \"there'd've\": \"there would have\", \n",
    "                    \"there's\": \"there is\", \"here's\": \"here is\",\"they'd\": \"they would\", \n",
    "                    \"they'd've\": \"they would have\", \"they'll\": \"they will\", \"they'll've\": \"they will have\", \n",
    "                    \"they're\": \"they are\", \"they've\": \"they have\", \"to've\": \"to have\", \"wasn't\": \"was not\", \n",
    "                    \"we'd\": \"we would\", \"we'd've\": \"we would have\", \"we'll\": \"we will\", \n",
    "                    \"we'll've\": \"we will have\", \"we're\": \"we are\", \"we've\": \"we have\", \n",
    "                    \"weren't\": \"were not\", \"what'll\": \"what will\", \"what'll've\": \"what will have\", \n",
    "                    \"what're\": \"what are\",  \"what's\": \"what is\", \"what've\": \"what have\", \n",
    "                    \"when's\": \"when is\", \"when've\": \"when have\", \"where'd\": \"where did\", \n",
    "                    \"where's\": \"where is\", \"where've\": \"where have\", \"who'll\": \"who will\", \n",
    "                    \"who'll've\": \"who will have\", \"who's\": \"who is\", \"who've\": \"who have\", \"why's\": \"why is\", \n",
    "                    \"why've\": \"why have\", \"will've\": \"will have\", \"won't\": \"will not\", \"won't've\": \"will not have\", \n",
    "                    \"would've\": \"would have\", \"wouldn't\": \"would not\", \"wouldn't've\": \"would not have\", \n",
    "                    \"y'all\": \"you all\", \"y'all'd\": \"you all would\",\"y'all'd've\": \"you all would have\",\n",
    "                    \"y'all're\": \"you all are\",\"y'all've\": \"you all have\",\"you'd\": \"you would\", \n",
    "                    \"you'd've\": \"you would have\", \"you'll\": \"you will\", \"you'll've\": \"you will have\", \n",
    "                    \"you're\": \"you are\", \"you've\": \"you have\"}"
   ]
  },
  {
   "cell_type": "code",
   "execution_count": 27,
   "metadata": {},
   "outputs": [],
   "source": [
    "def clean_shortforms(text):\n",
    "    clean_text = text\n",
    "    for shortform in short_forms_dict.keys():\n",
    "        if re.search(shortform, text):\n",
    "            clean_text = re.sub(shortform, short_forms_dict[shortform], text)\n",
    "    return clean_text\n",
    "\n",
    "# fix short forms\n",
    "concated['text'] = concated['text'].apply(lambda x: clean_shortforms(x))"
   ]
  },
  {
   "cell_type": "code",
   "execution_count": 28,
   "metadata": {},
   "outputs": [],
   "source": [
    "concated['text'] = concated['text'].str.replace('[^\\w\\s]','')# unpunctuate"
   ]
  },
  {
   "cell_type": "code",
   "execution_count": 29,
   "metadata": {},
   "outputs": [],
   "source": [
    "# Create our list of punctuation marks\n",
    "punctuations = string.punctuation\n",
    "\n",
    "# Create our list of stopwords\n",
    "nlp = spacy.load('en_core_web_sm')\n",
    "stop_words = spacy.lang.en.stop_words.STOP_WORDS\n",
    "\n",
    "# Load English tokenizer, tagger, parser, NER and word vectors\n",
    "parser = English()\n",
    "\n",
    "# Creating our tokenizer function\n",
    "def spacy_tokenizer(sentence):\n",
    "    # Creating our token object, which is used to create documents with linguistic annotations.\n",
    "    mytokens = parser(sentence)\n",
    "\n",
    "    # Lemmatizing each token and converting each token into lowercase\n",
    "    mytokens = [ word.lemma_.lower().strip() if word.lemma_ != \"-PRON-\" else word.lower_ for word in mytokens ]\n",
    "\n",
    "    # Removing stop words\n",
    "    mytokens = [ word for word in mytokens if(len(word) >= 3 and len(word) < 11 ) and word not in stop_words and word not in punctuations]\n",
    "\n",
    "    # return preprocessed list of tokens\n",
    "    return mytokens"
   ]
  },
  {
   "cell_type": "code",
   "execution_count": 30,
   "metadata": {},
   "outputs": [],
   "source": [
    "count_vect = CountVectorizer(tokenizer = spacy_tokenizer, ngram_range=(1,3))\n",
    "\n",
    "X = count_vect.fit_transform(concated['text'])\n",
    "\n",
    "y = concated['CATEGORY']"
   ]
  },
  {
   "cell_type": "code",
   "execution_count": 31,
   "metadata": {},
   "outputs": [],
   "source": [
    "X_train, X_test, y_train, y_test = train_test_split(X, y, test_size=0.3,shuffle=True) # 30% split"
   ]
  },
  {
   "cell_type": "markdown",
   "metadata": {},
   "source": [
    "Naive Bayes"
   ]
  },
  {
   "cell_type": "code",
   "execution_count": 32,
   "metadata": {},
   "outputs": [
    {
     "name": "stdout",
     "output_type": "stream",
     "text": [
      "Test Accuracy 92.7584129128855\n",
      "Train Accuracy 98.47091690208077\n",
      "Cross Validation Accuracy 92.57447590411226\n"
     ]
    }
   ],
   "source": [
    "# fit and score the bayesian classifier\n",
    "mnb = MultinomialNB(alpha=1)\n",
    "mnb.fit(X_train, y_train)\n",
    "y_pred_test_mnb=mnb.predict(X_test)\n",
    "a=accuracy_score(y_pred_test_mnb, y_test)*100\n",
    "print ('Test Accuracy',a)\n",
    "y_pred_train_mnb=mnb.predict(X_train)\n",
    "b=accuracy_score(y_train, y_pred_train_mnb)*100\n",
    "print ('Train Accuracy',b)\n",
    "\n",
    "results_mnb_cv = cross_val_score(mnb, X_train, y_train, cv=10)\n",
    "print('Cross Validation Accuracy',results_mnb_cv.mean()*100)"
   ]
  },
  {
   "cell_type": "code",
   "execution_count": 33,
   "metadata": {},
   "outputs": [
    {
     "name": "stdout",
     "output_type": "stream",
     "text": [
      "              precision    recall  f1-score   support\n",
      "\n",
      "           b       0.89      0.90      0.90     13668\n",
      "           e       0.96      0.95      0.96     13714\n",
      "           m       0.94      0.95      0.94     13875\n",
      "           t       0.92      0.91      0.91     13510\n",
      "\n",
      "    accuracy                           0.93     54767\n",
      "   macro avg       0.93      0.93      0.93     54767\n",
      "weighted avg       0.93      0.93      0.93     54767\n",
      "\n"
     ]
    }
   ],
   "source": [
    "print(classification_report(y_test, y_pred_test_mnb))"
   ]
  },
  {
   "cell_type": "code",
   "execution_count": 34,
   "metadata": {},
   "outputs": [
    {
     "data": {
      "image/png": "[encoded data removed]",
      "text/plain": [
       "<Figure size 432x288 with 2 Axes>"
      ]
     },
     "metadata": {
      "needs_background": "light"
     },
     "output_type": "display_data"
    }
   ],
   "source": [
    "# Test Confusion Matrix\n",
    "confusion_matrix(y_test, y_pred_test_mnb, target_names = ['b','e','m','t']).grid(False)"
   ]
  },
  {
   "cell_type": "code",
   "execution_count": 35,
   "metadata": {},
   "outputs": [
    {
     "data": {
      "image/png": "[encoded data removed]",
      "text/plain": [
       "<Figure size 432x288 with 2 Axes>"
      ]
     },
     "metadata": {
      "needs_background": "light"
     },
     "output_type": "display_data"
    }
   ],
   "source": [
    "# Train Confusion Matrix\n",
    "confusion_matrix(y_train, y_pred_train_mnb, target_names = ['b','e','m','t']).grid(False)"
   ]
  },
  {
   "cell_type": "markdown",
   "metadata": {},
   "source": [
    "Log Regression"
   ]
  },
  {
   "cell_type": "code",
   "execution_count": 36,
   "metadata": {},
   "outputs": [
    {
     "name": "stdout",
     "output_type": "stream",
     "text": [
      "Wall time: 4min 41s\n"
     ]
    },
    {
     "data": {
      "text/plain": [
       "LogisticRegression(C=1.0, class_weight=None, dual=False, fit_intercept=True,\n",
       "                   intercept_scaling=1, l1_ratio=None, max_iter=100,\n",
       "                   multi_class='multinomial', n_jobs=-1, penalty='l2',\n",
       "                   random_state=None, solver='lbfgs', tol=0.0001, verbose=0,\n",
       "                   warm_start=False)"
      ]
     },
     "execution_count": 36,
     "metadata": {},
     "output_type": "execute_result"
    }
   ],
   "source": [
    "%%time\n",
    "# First create the base model to tune\n",
    "logreg = LogisticRegression(n_jobs=-1,solver='lbfgs',penalty='l2',multi_class='multinomial',class_weight=None)\n",
    "\n",
    "# Fit the random search model\n",
    "logreg.fit(X_train, y_train)"
   ]
  },
  {
   "cell_type": "code",
   "execution_count": 37,
   "metadata": {},
   "outputs": [
    {
     "name": "stdout",
     "output_type": "stream",
     "text": [
      "Logistic Test Accuracy: 93.4413058958862\n",
      "Logistic Train Accuracy: 99.87244598517869\n"
     ]
    }
   ],
   "source": [
    "y_pred_log_test = logreg.predict(X_test)\n",
    "y_pred_log_train = logreg.predict(X_train)\n",
    "#results_log_cv = cross_val_score(logreg, X_train, y_train, cv=5)\n",
    "\n",
    "# Model Accuracy\n",
    "print(\"Logistic Test Accuracy:\", accuracy_score(y_test, y_pred_log_test)*100)\n",
    "print(\"Logistic Train Accuracy:\", accuracy_score(y_train, y_pred_log_train)*100)\n",
    "#print('Cross Validation Accuracy',results_log_cv.mean()*100)"
   ]
  },
  {
   "cell_type": "code",
   "execution_count": 38,
   "metadata": {},
   "outputs": [
    {
     "data": {
      "image/png": "[encoded data removed]",
      "text/plain": [
       "<Figure size 432x288 with 2 Axes>"
      ]
     },
     "metadata": {
      "needs_background": "light"
     },
     "output_type": "display_data"
    }
   ],
   "source": [
    "# Test Confusion Matrix\n",
    "confusion_matrix(y_test, y_pred_log_test, target_names = ['b','e','m','t']).grid(False)"
   ]
  },
  {
   "cell_type": "code",
   "execution_count": 39,
   "metadata": {},
   "outputs": [
    {
     "data": {
      "image/png": "[encoded data removed]",
      "text/plain": [
       "<Figure size 432x288 with 2 Axes>"
      ]
     },
     "metadata": {
      "needs_background": "light"
     },
     "output_type": "display_data"
    }
   ],
   "source": [
    "# Train Confusion Matrix\n",
    "confusion_matrix(y_train, y_pred_log_train, target_names = ['b','e','m','t']).grid(False)"
   ]
  },
  {
   "cell_type": "code",
   "execution_count": 40,
   "metadata": {},
   "outputs": [
    {
     "name": "stdout",
     "output_type": "stream",
     "text": [
      "              precision    recall  f1-score   support\n",
      "\n",
      "           b       0.90      0.92      0.91     13668\n",
      "           e       0.96      0.96      0.96     13714\n",
      "           m       0.95      0.95      0.95     13875\n",
      "           t       0.93      0.91      0.92     13510\n",
      "\n",
      "    accuracy                           0.93     54767\n",
      "   macro avg       0.93      0.93      0.93     54767\n",
      "weighted avg       0.93      0.93      0.93     54767\n",
      "\n"
     ]
    }
   ],
   "source": [
    "print(classification_report(y_test, y_pred_log_test))"
   ]
  },
  {
   "cell_type": "markdown",
   "metadata": {},
   "source": [
    "SGD Classifier"
   ]
  },
  {
   "cell_type": "code",
   "execution_count": 41,
   "metadata": {},
   "outputs": [
    {
     "name": "stderr",
     "output_type": "stream",
     "text": [
      "[Parallel(n_jobs=-1)]: Using backend ThreadingBackend with 8 concurrent workers.\n"
     ]
    },
    {
     "name": "stdout",
     "output_type": "stream",
     "text": [
      "-- Epoch 1-- Epoch 1-- Epoch 1-- Epoch 1\n",
      "\n",
      "\n",
      "\n",
      "Norm: 254.18, NNZs: 89088, Bias: -1.752918, T: 127789, Avg. loss: 0.385558\n",
      "Total training time: 0.22 seconds.\n",
      "Norm: 270.87, NNZs: 99553, Bias: -2.438314, T: 127789, Avg. loss: 0.469111\n",
      "Total training time: 0.23 seconds.\n",
      "Norm: 311.39, NNZs: 133382, Bias: -3.276708, T: 127789, Avg. loss: 0.724249\n",
      "Total training time: 0.19 seconds.\n",
      "-- Epoch 2\n",
      "-- Epoch 2\n",
      "-- Epoch 2\n",
      "Norm: 328.42, NNZs: 148926, Bias: -2.506454, T: 127789, Avg. loss: 0.817663\n",
      "Total training time: 0.23 seconds.\n",
      "-- Epoch 2\n",
      "Norm: 191.54, NNZs: 169902, Bias: -2.149251, T: 255578, Avg. loss: 0.068503\n",
      "Total training time: 0.39 seconds.\n",
      "Norm: 166.14, NNZs: 128269, Bias: -1.704662, T: 255578, Avg. loss: 0.036609\n",
      "Total training time: 0.43 seconds.\n",
      "-- Epoch 3\n",
      "Norm: 156.51, NNZs: 115510, Bias: -1.326597, T: 255578, Avg. loss: 0.030234\n",
      "Total training time: 0.43 seconds.\n",
      "-- Epoch 3\n",
      "Norm: 205.03, NNZs: 192996, Bias: -1.673877, T: 255578, Avg. loss: 0.079154\n",
      "Total training time: 0.43 seconds.\n",
      "-- Epoch 3\n",
      "-- Epoch 3\n",
      "Norm: 145.85, NNZs: 191902, Bias: -1.689089, T: 383367, Avg. loss: 0.025808\n",
      "Total training time: 0.60 seconds.\n",
      "Norm: 125.65, NNZs: 146302, Bias: -1.309745, T: 383367, Avg. loss: 0.015080\n",
      "Total training time: 0.65 seconds.\n",
      "-- Epoch 4\n",
      "Norm: 117.82, NNZs: 131377, Bias: -1.022619, T: 383367, Avg. loss: 0.011693\n",
      "Total training time: 0.64 seconds.\n",
      "-- Epoch 4\n",
      "-- Epoch 4\n",
      "Norm: 155.23, NNZs: 217215, Bias: -1.253054, T: 383367, Avg. loss: 0.030768\n",
      "Total training time: 0.65 seconds.\n",
      "-- Epoch 4\n",
      "Norm: 103.43, NNZs: 159590, Bias: -1.156893, T: 511156, Avg. loss: 0.008339\n",
      "Total training time: 0.93 seconds.\n",
      "Norm: 120.35, NNZs: 207014, Bias: -1.402860, T: 511156, Avg. loss: 0.014844Norm: 97.16, NNZs: 143829, Bias: -0.943118, T: 511156, Avg. loss: 0.006931\n",
      "Total training time: 0.93 seconds.\n",
      "\n",
      "Total training time: 0.89 seconds.\n",
      "Norm: 128.12, NNZs: 233965, Bias: -0.998446, T: 511156, Avg. loss: 0.017698\n",
      "Total training time: 0.91 seconds.\n",
      "-- Epoch 5\n",
      "-- Epoch 5\n",
      "-- Epoch 5\n",
      "-- Epoch 5\n",
      "Norm: 89.31, NNZs: 169981, Bias: -0.964905, T: 638945, Avg. loss: 0.005787\n",
      "Total training time: 1.13 seconds.\n",
      "-- Epoch 6\n",
      "Norm: 84.21, NNZs: 153979, Bias: -0.846914, T: 638945, Avg. loss: 0.005305\n",
      "Total training time: 1.14 seconds.\n",
      "Norm: 111.19, NNZs: 247653, Bias: -0.914950, T: 638945, Avg. loss: 0.012146\n",
      "Total training time: 1.13 seconds.\n",
      "Norm: 105.07, NNZs: 220676, Bias: -1.247478, T: 638945, Avg. loss: 0.010742\n",
      "Total training time: 1.10 seconds.\n",
      "-- Epoch 6\n",
      "-- Epoch 6\n",
      "-- Epoch 6\n",
      "Norm: 80.26, NNZs: 179780, Bias: -0.892430, T: 766734, Avg. loss: 0.005122\n",
      "Total training time: 1.35 seconds.\n",
      "-- Epoch 7\n",
      "Norm: 75.85, NNZs: 163181, Bias: -0.741318, T: 766734, Avg. loss: 0.004427\n",
      "Total training time: 1.35 seconds.\n",
      "Norm: 99.93, NNZs: 259788, Bias: -0.849417, T: 766734, Avg. loss: 0.009959\n",
      "Total training time: 1.34 seconds.\n",
      "Norm: 94.16, NNZs: 231092, Bias: -1.138120, T: 766734, Avg. loss: 0.008753\n",
      "Total training time: 1.32 seconds.\n",
      "-- Epoch 7\n",
      "-- Epoch 7\n",
      "-- Epoch 7\n",
      "Norm: 73.72, NNZs: 188612, Bias: -0.855404, T: 894523, Avg. loss: 0.004285\n",
      "Total training time: 1.59 seconds.\n",
      "Norm: 69.81, NNZs: 171643, Bias: -0.748536, T: 894523, Avg. loss: 0.003804\n",
      "Total training time: 1.60 seconds.\n",
      "-- Epoch 8\n",
      "Norm: 87.22, NNZs: 242182, Bias: -1.087161, T: 894523, Avg. loss: 0.007456\n",
      "Total training time: 1.56 seconds.\n",
      "-- Epoch 8\n",
      "Norm: 91.70, NNZs: 269636, Bias: -0.772295, T: 894523, Avg. loss: 0.008722\n",
      "Total training time: 1.59 seconds.\n",
      "-- Epoch 8\n",
      "-- Epoch 8\n",
      "Norm: 68.82, NNZs: 196608, Bias: -0.805222, T: 1022312, Avg. loss: 0.003949\n",
      "Total training time: 1.80 seconds.\n",
      "Norm: 65.40, NNZs: 179762, Bias: -0.692109, T: 1022312, Avg. loss: 0.003373\n",
      "Total training time: 1.80 seconds.-- Epoch 9\n",
      "\n",
      "Norm: 81.52, NNZs: 251231, Bias: -1.000669, T: 1022312, Avg. loss: 0.006541Norm: 85.88, NNZs: 278884, Bias: -0.725335, T: 1022312, Avg. loss: 0.007860\n",
      "Total training time: 1.76 seconds.\n",
      "\n",
      "Total training time: 1.79 seconds.\n",
      "-- Epoch 9\n",
      "-- Epoch 9-- Epoch 9\n",
      "\n",
      "Norm: 65.38, NNZs: 204265, Bias: -0.765754, T: 1150101, Avg. loss: 0.003697\n",
      "Norm: 61.97, NNZs: 187124, Bias: -0.656770, T: 1150101, Avg. loss: 0.003240Total training time: 2.03 seconds.\n",
      "Total training time: 2.03 seconds.\n",
      "\n",
      "Norm: 81.61, NNZs: 287847, Bias: -0.715859, T: 1150101, Avg. loss: 0.007308\n",
      "Total training time: 2.02 seconds.\n",
      "Norm: 77.53, NNZs: 260508, Bias: -0.958460, T: 1150101, Avg. loss: 0.006078\n",
      "Total training time: 2.00 seconds.\n",
      "-- Epoch 10\n",
      "-- Epoch 10\n",
      "-- Epoch 10\n",
      "-- Epoch 10\n",
      "Norm: 59.33, NNZs: 193658, Bias: -0.652088, T: 1277890, Avg. loss: 0.002929Norm: 73.98, NNZs: 267806, Bias: -0.917406, T: 1277890, Avg. loss: 0.005463\n",
      "Total training time: 2.22 seconds.\n",
      "\n",
      "Total training time: 2.26 seconds.\n",
      "Norm: 62.48, NNZs: 211190, Bias: -0.759894, T: 1277890, Avg. loss: 0.003316\n",
      "Total training time: 2.28 seconds.\n",
      "Convergence after 10 epochs took 2.27 seconds-- Epoch 11\n",
      "\n",
      "Norm: 77.91, NNZs: 295465, Bias: -0.688945, T: 1277890, Avg. loss: 0.006585\n",
      "Total training time: 2.26 seconds.\n",
      "Convergence after 10 epochs took 2.28 seconds\n",
      "-- Epoch 11\n",
      "Norm: 74.99, NNZs: 301941, Bias: -0.648182, T: 1405679, Avg. loss: 0.006230\n",
      "Total training time: 2.42 seconds.\n",
      "Norm: 71.11, NNZs: 274721, Bias: -0.897474, T: 1405679, Avg. loss: 0.004928\n",
      "Total training time: 2.41 seconds.\n",
      "-- Epoch 12\n",
      "-- Epoch 12\n",
      "Norm: 72.96, NNZs: 309246, Bias: -0.644753, T: 1533468, Avg. loss: 0.006079\n",
      "Total training time: 2.61 seconds.\n",
      "Norm: 68.73, NNZs: 281238, Bias: -0.873752, T: 1533468, Avg. loss: 0.004790\n",
      "Total training time: 2.59 seconds.\n",
      "Convergence after 12 epochs took 2.62 seconds\n",
      "Convergence after 12 epochs took 2.60 seconds\n"
     ]
    },
    {
     "name": "stderr",
     "output_type": "stream",
     "text": [
      "[Parallel(n_jobs=-1)]: Done   4 out of   4 | elapsed:    3.1s remaining:    0.0s\n",
      "[Parallel(n_jobs=-1)]: Done   4 out of   4 | elapsed:    3.1s finished\n"
     ]
    },
    {
     "data": {
      "text/plain": [
       "SGDClassifier(alpha=1e-05, average=False, class_weight=None,\n",
       "              early_stopping=False, epsilon=0.1, eta0=0.0, fit_intercept=True,\n",
       "              l1_ratio=0.15, learning_rate='optimal', loss='hinge',\n",
       "              max_iter=1000, n_iter_no_change=5, n_jobs=-1, penalty='l2',\n",
       "              power_t=0.5, random_state=None, shuffle=True, tol=0.001,\n",
       "              validation_fraction=0.1, verbose=True, warm_start=False)"
      ]
     },
     "execution_count": 41,
     "metadata": {},
     "output_type": "execute_result"
    }
   ],
   "source": [
    "from sklearn.linear_model import SGDClassifier\n",
    "sgd_grid = SGDClassifier(n_jobs=-1,alpha=0.00001,verbose=True)\n",
    "sgd_grid.fit(X_train, y_train)"
   ]
  },
  {
   "cell_type": "code",
   "execution_count": 42,
   "metadata": {},
   "outputs": [
    {
     "name": "stdout",
     "output_type": "stream",
     "text": [
      "SGD Test Accuracy: 93.8740482407289\n",
      "SGD Train Accuracy: 99.87714122498807\n"
     ]
    }
   ],
   "source": [
    "y_pred_sgd_test = sgd_grid.predict(X_test)\n",
    "y_pred_sgd_train = sgd_grid.predict(X_train)\n",
    "#results_sgd_cv = cross_val_score(sgd_grid, X_train, y_train, cv=5)\n",
    "\n",
    "# Model Accuracy\n",
    "print(\"SGD Test Accuracy:\", accuracy_score(y_test, y_pred_sgd_test)*100)\n",
    "print(\"SGD Train Accuracy:\", accuracy_score(y_train, y_pred_sgd_train)*100)\n",
    "#print('Cross Validation Accuracy',results_sgd_cv.mean()*100)"
   ]
  },
  {
   "cell_type": "code",
   "execution_count": 43,
   "metadata": {},
   "outputs": [
    {
     "data": {
      "image/png": "[encoded data removed]",
      "text/plain": [
       "<Figure size 432x288 with 2 Axes>"
      ]
     },
     "metadata": {
      "needs_background": "light"
     },
     "output_type": "display_data"
    }
   ],
   "source": [
    "# Test Confusion Matrix\n",
    "confusion_matrix(y_test, y_pred_sgd_test, target_names = ['b','e','m','t']).grid(False)"
   ]
  },
  {
   "cell_type": "code",
   "execution_count": 44,
   "metadata": {},
   "outputs": [
    {
     "data": {
      "image/png": "[encoded data removed]",
      "text/plain": [
       "<Figure size 432x288 with 2 Axes>"
      ]
     },
     "metadata": {
      "needs_background": "light"
     },
     "output_type": "display_data"
    }
   ],
   "source": [
    "# Train Confusion Matrix\n",
    "confusion_matrix(y_train, y_pred_sgd_train, target_names = ['b','e','m','t']).grid(False)"
   ]
  },
  {
   "cell_type": "code",
   "execution_count": 45,
   "metadata": {},
   "outputs": [
    {
     "name": "stdout",
     "output_type": "stream",
     "text": [
      "              precision    recall  f1-score   support\n",
      "\n",
      "           b       0.91      0.92      0.91     13668\n",
      "           e       0.96      0.96      0.96     13714\n",
      "           m       0.96      0.96      0.96     13875\n",
      "           t       0.93      0.92      0.93     13510\n",
      "\n",
      "    accuracy                           0.94     54767\n",
      "   macro avg       0.94      0.94      0.94     54767\n",
      "weighted avg       0.94      0.94      0.94     54767\n",
      "\n"
     ]
    }
   ],
   "source": [
    "print(classification_report(y_test, y_pred_sgd_test))"
   ]
  },
  {
   "cell_type": "markdown",
   "metadata": {},
   "source": [
    "Testing"
   ]
  },
  {
   "cell_type": "code",
   "execution_count": 46,
   "metadata": {},
   "outputs": [],
   "source": [
    "# title-category function\n",
    "def title_to_category(title):\n",
    "    title=clean_text(title)\n",
    "    title=clean_shortforms(title)\n",
    "    categories = {'b' : 'business', \n",
    "                  't' : 'science and technology', \n",
    "                  'e' : 'entertainment', \n",
    "                  'm' : 'health'}\n",
    "    pridicter = logreg.predict(count_vect.transform([title]))\n",
    "    return categories[pridicter[0]]"
   ]
  },
  {
   "cell_type": "code",
   "execution_count": 47,
   "metadata": {},
   "outputs": [
    {
     "data": {
      "text/plain": [
       "'business'"
      ]
     },
     "execution_count": 47,
     "metadata": {},
     "output_type": "execute_result"
    }
   ],
   "source": [
    "# testing today's headline from Irish Times\n",
    "title_to_category(\"Total of 6,666 abortions carried out under new legislation last year\")\n",
    "# link to article: https://www.irishtimes.com/news/world/europe/french-hospital-discovers-it-had-case-of-coronavirus-in-december-1.4245275"
   ]
  },
  {
   "cell_type": "code",
   "execution_count": 48,
   "metadata": {},
   "outputs": [],
   "source": [
    "# title-category function\n",
    "def title_to_category2(title):\n",
    "    title=clean_text(title)\n",
    "    title=clean_shortforms(title)\n",
    "    categories = {'b' : 'business', \n",
    "                  't' : 'science and technology', \n",
    "                  'e' : 'entertainment', \n",
    "                  'm' : 'health'}\n",
    "    pridicter2 = sgd_grid.predict(count_vect.transform([title]))\n",
    "    return categories[pridicter2[0]]"
   ]
  },
  {
   "cell_type": "code",
   "execution_count": 49,
   "metadata": {},
   "outputs": [
    {
     "data": {
      "text/plain": [
       "'science and technology'"
      ]
     },
     "execution_count": 49,
     "metadata": {},
     "output_type": "execute_result"
    }
   ],
   "source": [
    "# testing today's headline from Irish Times\n",
    "title_to_category2(\"Samsung to pay Apple $539 million in iPhone patent case\")\n",
    "# link to article: https://www.irishtimes.com/news/world/europe/french-hospital-discovers-it-had-case-of-coronavirus-in-december-1.4245275"
   ]
  },
  {
   "cell_type": "code",
   "execution_count": 50,
   "metadata": {},
   "outputs": [],
   "source": [
    "# title-category function\n",
    "def title_to_category4(title):\n",
    "    title=clean_text(title)\n",
    "    title=clean_shortforms(title)\n",
    "    categories = {'b' : 'business', \n",
    "                  't' : 'science and technology', \n",
    "                  'e' : 'entertainment', \n",
    "                  'm' : 'health'}\n",
    "    pridicter4 = mnb.predict(count_vect.transform([title]))\n",
    "    return categories[pridicter4[0]]"
   ]
  },
  {
   "cell_type": "code",
   "execution_count": 51,
   "metadata": {},
   "outputs": [
    {
     "data": {
      "text/plain": [
       "'science and technology'"
      ]
     },
     "execution_count": 51,
     "metadata": {},
     "output_type": "execute_result"
    }
   ],
   "source": [
    "# testing today's headline from Irish Times\n",
    "title_to_category4(\"Samsung to pay Apple $539 million in iPhone patent case\")\n",
    "# link to article: https://www.irishtimes.com/news/world/europe/french-hospital-discovers-it-had-case-of-coronavirus-in-december-1.4245275"
   ]
  }
 ],
 "metadata": {
  "kernelspec": {
   "display_name": "Python 3",
   "language": "python",
   "name": "python3"
  },
  "language_info": {
   "codemirror_mode": {
    "name": "ipython",
    "version": 3
   },
   "file_extension": ".py",
   "mimetype": "text/x-python",
   "name": "python",
   "nbconvert_exporter": "python",
   "pygments_lexer": "ipython3",
   "version": "3.7.1"
  }
 },
 "nbformat": 4,
 "nbformat_minor": 4
}
