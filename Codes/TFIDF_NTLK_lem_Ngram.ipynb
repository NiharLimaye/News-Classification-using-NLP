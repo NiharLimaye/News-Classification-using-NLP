{
 "cells": [
  {
   "cell_type": "markdown",
   "metadata": {},
   "source": [
    "# Classification using TF-IDF & spaCy"
   ]
  },
  {
   "cell_type": "code",
   "execution_count": 1,
   "metadata": {},
   "outputs": [
    {
     "name": "stderr",
     "output_type": "stream",
     "text": [
      "[nltk_data] Downloading package punkt to\n",
      "[nltk_data]     C:\\Users\\Nihar\\AppData\\Roaming\\nltk_data...\n",
      "[nltk_data]   Package punkt is already up-to-date!\n",
      "[nltk_data] Downloading package stopwords to\n",
      "[nltk_data]     C:\\Users\\Nihar\\AppData\\Roaming\\nltk_data...\n",
      "[nltk_data]   Package stopwords is already up-to-date!\n",
      "[nltk_data] Downloading package wordnet to\n",
      "[nltk_data]     C:\\Users\\Nihar\\AppData\\Roaming\\nltk_data...\n",
      "[nltk_data]   Package wordnet is already up-to-date!\n"
     ]
    }
   ],
   "source": [
    "import numpy as np\n",
    "import pandas as pd\n",
    "import re\n",
    "import nltk\n",
    "nltk.download('punkt')\n",
    "nltk.download('stopwords')\n",
    "nltk.download('wordnet')\n",
    "from sklearn.preprocessing import LabelEncoder\n",
    "from sklearn.model_selection import GridSearchCV\n",
    "from sklearn.model_selection import train_test_split\n",
    "from sklearn.feature_extraction.text import TfidfVectorizer\n",
    "from sklearn.metrics import precision_score, recall_score, f1_score, accuracy_score\n",
    "from sklearn.pipeline import Pipeline\n",
    "from sklearn.naive_bayes import MultinomialNB\n",
    "from sklearn.ensemble import RandomForestClassifier, GradientBoostingClassifier\n",
    "from sklearn.linear_model import SGDClassifier\n",
    "from sklearn.model_selection import RandomizedSearchCV\n",
    "from sklearn.metrics import cohen_kappa_score\n",
    "from sklearn.metrics import hamming_loss\n",
    "from sklearn.metrics import log_loss\n",
    "from sklearn.metrics import zero_one_loss\n",
    "from sklearn.metrics import matthews_corrcoef\n",
    "from sklearn.metrics import balanced_accuracy_score\n",
    "\n",
    "import warnings\n",
    "warnings.filterwarnings(\"ignore\")\n",
    "from sklearn_evaluation.plot import confusion_matrix\n",
    "from sklearn.metrics import classification_report\n",
    "from sklearn.linear_model import LogisticRegression\n",
    "from sklearn.multiclass import OneVsRestClassifier\n",
    "\n",
    "\n",
    "import string\n",
    "\n",
    "from nltk.corpus import stopwords \n",
    "stop_words = set(stopwords.words('english')) \n",
    "from nltk.stem import WordNetLemmatizer \n",
    "lemmatizer = WordNetLemmatizer()\n",
    "\n",
    "pd.set_option('display.max_colwidth',100)\n"
   ]
  },
  {
   "cell_type": "code",
   "execution_count": 2,
   "metadata": {},
   "outputs": [
    {
     "name": "stdout",
     "output_type": "stream",
     "text": [
      "SHAPE OF DATASET:  (422406, 8) \n",
      "\n",
      "COLUMNS IN DATASET:  Index(['ID', 'TITLE', 'URL', 'PUBLISHER', 'CATEGORY', 'STORY', 'HOSTNAME',\n",
      "       'TIMESTAMP'],\n",
      "      dtype='object') \n",
      "\n",
      "CATEGORIES:  ['b' 't' 'e' 'm'] \n",
      "\n",
      "DATA SAMPLE: \n",
      "\n",
      "             ID  \\\n",
      "103434  103634   \n",
      "256894  257349   \n",
      "227826  228279   \n",
      "202301  202743   \n",
      "93993    94189   \n",
      "\n",
      "                                                                   TITLE  \\\n",
      "103434  Andrew Garfield: I love being naked, it's nothing to be shy over   \n",
      "256894        Ann Hornaday Responds To Seth Rogen's Tweet Over Shootings   \n",
      "227826  Lana Del Rey to perform at Kim Kardashian, Kanye West's wedding?   \n",
      "202301       Eurovision 2014: watch all the finalists' performances here   \n",
      "93993               Amazon's Prime Instant Video triples video streaming   \n",
      "\n",
      "                                                                                                        URL  \\\n",
      "103434  http://metro.co.uk/2014/04/11/andrew-garfield-i-love-being-naked-its-nothing-to-be-shy-over-4695...   \n",
      "256894          http://www.webpronews.com/ann-hornaday-responds-to-seth-rogens-tweet-over-shootings-2014-05   \n",
      "227826  http://www.reveal.co.uk/showbiz-celeb-gossip/news/a572164/lana-del-rey-to-perform-at-kim-kardash...   \n",
      "202301                        http://www.ok.co.uk/celebrity-news/eurovision-2014-all-finalists-performances   \n",
      "93993              http://thecelebritycafe.com/feature/2014/04/amazon-s-prime-instant-video-triples-revenue   \n",
      "\n",
      "                   PUBLISHER CATEGORY                          STORY  \\\n",
      "103434                 Metro        e  dRABY7gee_DvnyMzvKTMy503xqsLM   \n",
      "256894            WebProNews        e  dkELF1oHuU8yHNMcIvkJIiaA24f2M   \n",
      "227826                Reveal        e  dPq2eZpLsBVI39MzcKIInKv_a3KYM   \n",
      "202301         OK\\! Magazine        e  dyaHTRyzxDOk6fMoGuMjh-2X5JsQM   \n",
      "93993   TheCelebrityCafe.com        e  dYk25YZlX-eK7GMiJALmfLg4EGRKM   \n",
      "\n",
      "                    HOSTNAME     TIMESTAMP  \n",
      "103434           metro.co.uk  1.397300e+12  \n",
      "256894    www.webpronews.com  1.401230e+12  \n",
      "227826      www.reveal.co.uk  1.400650e+12  \n",
      "202301          www.ok.co.uk  1.399700e+12  \n",
      "93993   thecelebritycafe.com  1.397000e+12   \n",
      "\n",
      "\n"
     ]
    }
   ],
   "source": [
    "# Read data frame\n",
    "df = pd.read_csv('News Aggregator/uci-news-aggregator.csv')\n",
    "\n",
    "# Description of the dataset\n",
    "print('SHAPE OF DATASET: ', df.shape, '\\n\\nCOLUMNS IN DATASET: ', df.columns, '\\n\\nCATEGORIES: ', df.CATEGORY.unique(), '\\n\\nDATA SAMPLE: \\n\\n', df.sample(n=5), '\\n\\n')"
   ]
  },
  {
   "cell_type": "code",
   "execution_count": 3,
   "metadata": {},
   "outputs": [],
   "source": [
    "#Converting categories as balanced\n",
    "num_of_categories = 45639 #45639\n",
    "shuffled = df.reindex(np.random.permutation(df.index))\n",
    "e = shuffled[shuffled['CATEGORY'] == 'e'][:num_of_categories]\n",
    "b = shuffled[shuffled['CATEGORY'] == 'b'][:num_of_categories]\n",
    "t = shuffled[shuffled['CATEGORY'] == 't'][:num_of_categories]\n",
    "m = shuffled[shuffled['CATEGORY'] == 'm'][:num_of_categories]\n",
    "concated = pd.concat([e,b,t,m], ignore_index=True)\n",
    "#Shuffle the dataset\n",
    "concated = concated.reindex(np.random.permutation(concated.index))"
   ]
  },
  {
   "cell_type": "code",
   "execution_count": 4,
   "metadata": {},
   "outputs": [
    {
     "data": {
      "text/plain": [
       "e    45639\n",
       "m    45639\n",
       "b    45639\n",
       "t    45639\n",
       "Name: CATEGORY, dtype: int64"
      ]
     },
     "execution_count": 4,
     "metadata": {},
     "output_type": "execute_result"
    }
   ],
   "source": [
    "concated.CATEGORY.value_counts()"
   ]
  },
  {
   "cell_type": "code",
   "execution_count": 5,
   "metadata": {},
   "outputs": [
    {
     "data": {
      "text/html": [
       "<div>\n",
       "<style scoped>\n",
       "    .dataframe tbody tr th:only-of-type {\n",
       "        vertical-align: middle;\n",
       "    }\n",
       "\n",
       "    .dataframe tbody tr th {\n",
       "        vertical-align: top;\n",
       "    }\n",
       "\n",
       "    .dataframe thead th {\n",
       "        text-align: right;\n",
       "    }\n",
       "</style>\n",
       "<table border=\"1\" class=\"dataframe\">\n",
       "  <thead>\n",
       "    <tr style=\"text-align: right;\">\n",
       "      <th></th>\n",
       "      <th>ID</th>\n",
       "      <th>TITLE</th>\n",
       "      <th>URL</th>\n",
       "      <th>PUBLISHER</th>\n",
       "      <th>CATEGORY</th>\n",
       "      <th>STORY</th>\n",
       "      <th>HOSTNAME</th>\n",
       "      <th>TIMESTAMP</th>\n",
       "    </tr>\n",
       "  </thead>\n",
       "  <tbody>\n",
       "    <tr>\n",
       "      <th>92576</th>\n",
       "      <td>309323</td>\n",
       "      <td>change opens door to rogues</td>\n",
       "      <td>http://www.stuff.co.nz/southland-times/technology/60116891/Google-Play-change-opens-door-to-rogues</td>\n",
       "      <td>The Southland Times</td>\n",
       "      <td>t</td>\n",
       "      <td>dBFKOQ-KOcMgY1MZNebRMCk6PzXSM</td>\n",
       "      <td>www.stuff.co.nz</td>\n",
       "      <td>1.403550e+12</td>\n",
       "    </tr>\n",
       "    <tr>\n",
       "      <th>55063</th>\n",
       "      <td>192533</td>\n",
       "      <td>US urges restraint in Vietnam-China rig standoff</td>\n",
       "      <td>http://www.ourwindsor.ca/news-story/4506944-us-urges-restraint-in-vietnam-china-rig-standoff/</td>\n",
       "      <td>OurWindsor.ca</td>\n",
       "      <td>b</td>\n",
       "      <td>dNon3QbHmjev9RMZBV7iFz3EK5TRM</td>\n",
       "      <td>www.ourwindsor.ca</td>\n",
       "      <td>1.399560e+12</td>\n",
       "    </tr>\n",
       "    <tr>\n",
       "      <th>100129</th>\n",
       "      <td>260319</td>\n",
       "      <td>Microsoft unveils 'real-time' translating function for Skype</td>\n",
       "      <td>http://www.thedrum.com/news/2014/05/28/microsoft-unveils-real-time-translating-function-skype</td>\n",
       "      <td>The Drum</td>\n",
       "      <td>t</td>\n",
       "      <td>dR4u0M6btXOAJNMYimHwI9aziWkFM</td>\n",
       "      <td>www.thedrum.com</td>\n",
       "      <td>1.401290e+12</td>\n",
       "    </tr>\n",
       "    <tr>\n",
       "      <th>75647</th>\n",
       "      <td>60783</td>\n",
       "      <td>GBP/USD bounced back from 1.66, but may attack again</td>\n",
       "      <td>http://www.fxstreet.com/news/forex-news/article.aspx\\?storyid=34ab05ec-612d-4313-94b2-1f28cb37bd...</td>\n",
       "      <td>FXstreet.com</td>\n",
       "      <td>b</td>\n",
       "      <td>dEIyCRbEMAXMiNMV7JhWBb05S7FsM</td>\n",
       "      <td>www.fxstreet.com</td>\n",
       "      <td>1.396070e+12</td>\n",
       "    </tr>\n",
       "    <tr>\n",
       "      <th>125629</th>\n",
       "      <td>25867</td>\n",
       "      <td>Blackberry Z3 vs Samsung Galaxy S5: Price &amp; Specification Comparison</td>\n",
       "      <td>http://www.gamerheadlines.com/2014/03/blackberry-z3-vs-samsung-galaxy-s5-price-specification-com...</td>\n",
       "      <td>The Gamer Headlines</td>\n",
       "      <td>t</td>\n",
       "      <td>dYnGXrRyxeSSQyM475Lx4H5Xch0yM</td>\n",
       "      <td>www.gamerheadlines.com</td>\n",
       "      <td>1.395320e+12</td>\n",
       "    </tr>\n",
       "  </tbody>\n",
       "</table>\n",
       "</div>"
      ],
      "text/plain": [
       "            ID  \\\n",
       "92576   309323   \n",
       "55063   192533   \n",
       "100129  260319   \n",
       "75647    60783   \n",
       "125629   25867   \n",
       "\n",
       "                                                                       TITLE  \\\n",
       "92576                                            change opens door to rogues   \n",
       "55063                       US urges restraint in Vietnam-China rig standoff   \n",
       "100129          Microsoft unveils 'real-time' translating function for Skype   \n",
       "75647                   GBP/USD bounced back from 1.66, but may attack again   \n",
       "125629  Blackberry Z3 vs Samsung Galaxy S5: Price & Specification Comparison   \n",
       "\n",
       "                                                                                                        URL  \\\n",
       "92576    http://www.stuff.co.nz/southland-times/technology/60116891/Google-Play-change-opens-door-to-rogues   \n",
       "55063         http://www.ourwindsor.ca/news-story/4506944-us-urges-restraint-in-vietnam-china-rig-standoff/   \n",
       "100129        http://www.thedrum.com/news/2014/05/28/microsoft-unveils-real-time-translating-function-skype   \n",
       "75647   http://www.fxstreet.com/news/forex-news/article.aspx\\?storyid=34ab05ec-612d-4313-94b2-1f28cb37bd...   \n",
       "125629  http://www.gamerheadlines.com/2014/03/blackberry-z3-vs-samsung-galaxy-s5-price-specification-com...   \n",
       "\n",
       "                  PUBLISHER CATEGORY                          STORY  \\\n",
       "92576   The Southland Times        t  dBFKOQ-KOcMgY1MZNebRMCk6PzXSM   \n",
       "55063         OurWindsor.ca        b  dNon3QbHmjev9RMZBV7iFz3EK5TRM   \n",
       "100129             The Drum        t  dR4u0M6btXOAJNMYimHwI9aziWkFM   \n",
       "75647          FXstreet.com        b  dEIyCRbEMAXMiNMV7JhWBb05S7FsM   \n",
       "125629  The Gamer Headlines        t  dYnGXrRyxeSSQyM475Lx4H5Xch0yM   \n",
       "\n",
       "                      HOSTNAME     TIMESTAMP  \n",
       "92576          www.stuff.co.nz  1.403550e+12  \n",
       "55063        www.ourwindsor.ca  1.399560e+12  \n",
       "100129         www.thedrum.com  1.401290e+12  \n",
       "75647         www.fxstreet.com  1.396070e+12  \n",
       "125629  www.gamerheadlines.com  1.395320e+12  "
      ]
     },
     "execution_count": 5,
     "metadata": {},
     "output_type": "execute_result"
    }
   ],
   "source": [
    "concated.head()"
   ]
  },
  {
   "cell_type": "code",
   "execution_count": 6,
   "metadata": {},
   "outputs": [
    {
     "data": {
      "text/plain": [
       "ID           0\n",
       "TITLE        0\n",
       "URL          0\n",
       "PUBLISHER    0\n",
       "CATEGORY     0\n",
       "STORY        0\n",
       "HOSTNAME     0\n",
       "TIMESTAMP    0\n",
       "dtype: int64"
      ]
     },
     "execution_count": 6,
     "metadata": {},
     "output_type": "execute_result"
    }
   ],
   "source": [
    "# remove duplicates\n",
    "concated = concated.drop_duplicates()\n",
    "concated.isnull().sum()"
   ]
  },
  {
   "cell_type": "code",
   "execution_count": 7,
   "metadata": {},
   "outputs": [
    {
     "name": "stdout",
     "output_type": "stream",
     "text": [
      "<class 'pandas.core.frame.DataFrame'>\n",
      "Int64Index: 182556 entries, 92576 to 53028\n",
      "Data columns (total 9 columns):\n",
      " #   Column     Non-Null Count   Dtype  \n",
      "---  ------     --------------   -----  \n",
      " 0   ID         182556 non-null  int64  \n",
      " 1   TITLE      182556 non-null  object \n",
      " 2   URL        182556 non-null  object \n",
      " 3   PUBLISHER  182556 non-null  object \n",
      " 4   CATEGORY   182556 non-null  object \n",
      " 5   STORY      182556 non-null  object \n",
      " 6   HOSTNAME   182556 non-null  object \n",
      " 7   TIMESTAMP  182556 non-null  float64\n",
      " 8   text       182556 non-null  object \n",
      "dtypes: float64(1), int64(1), object(7)\n",
      "memory usage: 13.9+ MB\n"
     ]
    }
   ],
   "source": [
    "#Addting 2 columns as feature\n",
    "\n",
    "concated['text'] = concated.TITLE + \" \" + concated.PUBLISHER\n",
    "concated.info()"
   ]
  },
  {
   "cell_type": "code",
   "execution_count": 8,
   "metadata": {},
   "outputs": [],
   "source": [
    "# Drop null\n",
    "concated= concated.dropna(subset=['text'])"
   ]
  },
  {
   "cell_type": "code",
   "execution_count": 9,
   "metadata": {},
   "outputs": [
    {
     "data": {
      "text/plain": [
       "'At The Movies 4.17.14 Fort Smith Times Record'"
      ]
     },
     "execution_count": 9,
     "metadata": {},
     "output_type": "execute_result"
    }
   ],
   "source": [
    "concated.text.iloc[86]"
   ]
  },
  {
   "cell_type": "code",
   "execution_count": 10,
   "metadata": {},
   "outputs": [],
   "source": [
    "concated['text'].dropna(inplace=True)"
   ]
  },
  {
   "cell_type": "code",
   "execution_count": 11,
   "metadata": {},
   "outputs": [
    {
     "name": "stdout",
     "output_type": "stream",
     "text": [
      "<class 'pandas.core.frame.DataFrame'>\n",
      "Int64Index: 182556 entries, 92576 to 53028\n",
      "Data columns (total 9 columns):\n",
      " #   Column     Non-Null Count   Dtype  \n",
      "---  ------     --------------   -----  \n",
      " 0   ID         182556 non-null  int64  \n",
      " 1   TITLE      182556 non-null  object \n",
      " 2   URL        182556 non-null  object \n",
      " 3   PUBLISHER  182556 non-null  object \n",
      " 4   CATEGORY   182556 non-null  object \n",
      " 5   STORY      182556 non-null  object \n",
      " 6   HOSTNAME   182556 non-null  object \n",
      " 7   TIMESTAMP  182556 non-null  float64\n",
      " 8   text       182556 non-null  object \n",
      "dtypes: float64(1), int64(1), object(7)\n",
      "memory usage: 13.9+ MB\n"
     ]
    }
   ],
   "source": [
    "concated.info()"
   ]
  },
  {
   "cell_type": "code",
   "execution_count": 12,
   "metadata": {},
   "outputs": [
    {
     "data": {
      "text/plain": [
       "'At The Movies 4.17.14 Fort Smith Times Record'"
      ]
     },
     "execution_count": 12,
     "metadata": {},
     "output_type": "execute_result"
    }
   ],
   "source": [
    "concated.text.iloc[86]"
   ]
  },
  {
   "cell_type": "code",
   "execution_count": 13,
   "metadata": {},
   "outputs": [],
   "source": [
    "#concated['text'] = concated['text'].str.replace('[^\\w\\s]','') # unpunctuate\n",
    "\n",
    "symbols = [',', '.', '\"', ':', ')', '(', '-', '!', '?', '|', \n",
    "           ';', \"'\", '$', '&', '/', '[', ']', '>', '%', '=', \n",
    "           '#', '*', '+', '\\\\', '•',  '~', '@', '£', '·', '_', \n",
    "           '{', '}', '©', '^', '®', '`',  '<', '→', '°', '€', \n",
    "           '™', '›',  '♥', '←', '×', '§', '″', '′', 'Â', '█', \n",
    "           '½', 'à', '…', '“', '★', '”', '–', '●', 'â', '►', \n",
    "           '−', '¢', '²', '¬', '░', '¶', '↑', '±', '¿', '▾', \n",
    "           '═', '¦', '║', '―', '¥', '▓', '—', '‹', '─', '▒', '：', \n",
    "           '¼', '⊕', '▼', '▪', '†', '■', '’', '▀', '¨', '▄', '♫', \n",
    "           '☆', 'é', '¯', '♦', '¤', '▲', 'è', '¸', '¾', 'Ã', '⋅', \n",
    "           '‘', '∞', '∙', '）', '↓', '、', '│', '（', '»', '，', '♪', \n",
    "           '╩', '╚', '³', '・', '╦', '╣', '╔', '╗', '▬', '❤', 'ï', 'Ø', \n",
    "           '¹', '≤', '‡', '√', ]\n",
    "\n",
    "def clean_symbol(text):\n",
    "    text = str(text)\n",
    "    for symbol in symbols:\n",
    "        text = text.replace(symbol, '')\n",
    "    return text\n",
    "\n",
    "# remove symbols and punctuations \n",
    "concated['text'] = concated['text'].apply(lambda x: clean_symbol(x))"
   ]
  },
  {
   "cell_type": "code",
   "execution_count": 14,
   "metadata": {},
   "outputs": [],
   "source": [
    "import re\n",
    "import string\n",
    "\n",
    "def clean_text(text):\n",
    "    text = re.sub(\"[0-9]+\", \"\",text)\n",
    "    text = text.lower() # lowercase text\n",
    "    text = re.sub(' +',' ', text)\n",
    "    tokens=re.split('\\W+',text)\n",
    "    text1 = \" \".join([lemmatizer.lemmatize(word) for word in tokens if word not in stop_words and word not in string.punctuation and len(word) > 2])\n",
    "    return text1\n",
    "\n",
    "concated['cleaned_text'] = concated['text'].apply(lambda x:clean_text(x))"
   ]
  },
  {
   "cell_type": "code",
   "execution_count": 15,
   "metadata": {},
   "outputs": [
    {
     "data": {
      "text/plain": [
       "92576                                       change open door rogue southland time\n",
       "55063                       urge restraint vietnamchina rig standoff ourwindsorca\n",
       "100129                 microsoft unveils realtime translating function skype drum\n",
       "75647                                  gbpusd bounced back may attack fxstreetcom\n",
       "125629    blackberry samsung galaxy price specification comparison gamer headline\n",
       "                                           ...                                   \n",
       "12774                                                jacko died earlier newscomau\n",
       "35517                              met mother concludes nineyear run futon critic\n",
       "160616                        anxiety falsepositive mammogram temporary healthcom\n",
       "105195            facebooks study got wrong seeing friend happy make sad guardian\n",
       "53028                  dimon discloses throat cancer calling curable columbus ceo\n",
       "Name: cleaned_text, Length: 182556, dtype: object"
      ]
     },
     "execution_count": 15,
     "metadata": {},
     "output_type": "execute_result"
    }
   ],
   "source": [
    "concated['cleaned_text']"
   ]
  },
  {
   "cell_type": "code",
   "execution_count": 16,
   "metadata": {},
   "outputs": [],
   "source": [
    "titles = concated['cleaned_text']\n",
    "labels = concated['CATEGORY']"
   ]
  },
  {
   "cell_type": "code",
   "execution_count": 17,
   "metadata": {},
   "outputs": [],
   "source": [
    "# Dictionary of short form words and mispellings\n",
    "short_forms_dict = {\"ain't\": \"is not\", \"aren't\": \"are not\",\"can't\": \"cannot\", \n",
    "                    \"'cause\": \"because\", \"could've\": \"could have\", \"couldn't\": \"could not\", \n",
    "                    \"didn't\": \"did not\",  \"doesn't\": \"does not\", \"don't\": \"do not\", \"hadn't\": \"had not\", \n",
    "                    \"hasn't\": \"has not\", \"haven't\": \"have not\", \"he'd\": \"he would\",\"he'll\": \"he will\", \n",
    "                    \"he's\": \"he is\", \"how'd\": \"how did\", \"how'd'y\": \"how do you\", \"how'll\": \"how will\", \n",
    "                    \"how's\": \"how is\",  \"I'd\": \"I would\", \"I'd've\": \"I would have\", \"I'll\": \"I will\", \n",
    "                    \"I'll've\": \"I will have\",\"I'm\": \"I am\", \"I've\": \"I have\", \"i'd\": \"i would\", \n",
    "                    \"i'd've\": \"i would have\", \"i'll\": \"i will\",  \"i'll've\": \"i will have\",\"i'm\": \"i am\", \n",
    "                    \"i've\": \"i have\", \"isn't\": \"is not\", \"it'd\": \"it would\", \"it'd've\": \"it would have\", \n",
    "                    \"it'll\": \"it will\", \"it'll've\": \"it will have\",\"it's\": \"it is\", \"let's\": \"let us\", \n",
    "                    \"ma'am\": \"madam\", \"mayn't\": \"may not\", \"might've\": \"might have\",\"mightn't\": \"might not\",\n",
    "                    \"mightn't've\": \"might not have\", \"must've\": \"must have\", \"mustn't\": \"must not\", \n",
    "                    \"mustn't've\": \"must not have\", \"needn't\": \"need not\", \"needn't've\": \"need not have\",\n",
    "                    \"o'clock\": \"of the clock\", \"oughtn't\": \"ought not\", \"oughtn't've\": \"ought not have\", \n",
    "                    \"shan't\": \"shall not\", \"sha'n't\": \"shall not\", \"shan't've\": \"shall not have\", \n",
    "                    \"she'd\": \"she would\", \"she'd've\": \"she would have\", \"she'll\": \"she will\", \n",
    "                    \"she'll've\": \"she will have\", \"she's\": \"she is\", \"should've\": \"should have\", \n",
    "                    \"shouldn't\": \"should not\", \"shouldn't've\": \"should not have\", \"so've\": \"so have\",\n",
    "                    \"so's\": \"so as\", \"this's\": \"this is\",\"that'd\": \"that would\", \"that'd've\": \"that would have\", \n",
    "                    \"that's\": \"that is\", \"there'd\": \"there would\", \"there'd've\": \"there would have\", \n",
    "                    \"there's\": \"there is\", \"here's\": \"here is\",\"they'd\": \"they would\", \n",
    "                    \"they'd've\": \"they would have\", \"they'll\": \"they will\", \"they'll've\": \"they will have\", \n",
    "                    \"they're\": \"they are\", \"they've\": \"they have\", \"to've\": \"to have\", \"wasn't\": \"was not\", \n",
    "                    \"we'd\": \"we would\", \"we'd've\": \"we would have\", \"we'll\": \"we will\", \n",
    "                    \"we'll've\": \"we will have\", \"we're\": \"we are\", \"we've\": \"we have\", \n",
    "                    \"weren't\": \"were not\", \"what'll\": \"what will\", \"what'll've\": \"what will have\", \n",
    "                    \"what're\": \"what are\",  \"what's\": \"what is\", \"what've\": \"what have\", \n",
    "                    \"when's\": \"when is\", \"when've\": \"when have\", \"where'd\": \"where did\", \n",
    "                    \"where's\": \"where is\", \"where've\": \"where have\", \"who'll\": \"who will\", \n",
    "                    \"who'll've\": \"who will have\", \"who's\": \"who is\", \"who've\": \"who have\", \"why's\": \"why is\", \n",
    "                    \"why've\": \"why have\", \"will've\": \"will have\", \"won't\": \"will not\", \"won't've\": \"will not have\", \n",
    "                    \"would've\": \"would have\", \"wouldn't\": \"would not\", \"wouldn't've\": \"would not have\", \n",
    "                    \"y'all\": \"you all\", \"y'all'd\": \"you all would\",\"y'all'd've\": \"you all would have\",\n",
    "                    \"y'all're\": \"you all are\",\"y'all've\": \"you all have\",\"you'd\": \"you would\", \n",
    "                    \"you'd've\": \"you would have\", \"you'll\": \"you will\", \"you'll've\": \"you will have\", \n",
    "                    \"you're\": \"you are\", \"you've\": \"you have\"}\n",
    "\n",
    "def clean_shortforms(text):\n",
    "    clean_text = text\n",
    "    for shortform in short_forms_dict.keys():\n",
    "        if re.search(shortform, text):\n",
    "            clean_text = re.sub(shortform, short_forms_dict[shortform], text)\n",
    "    return clean_text\n",
    "\n",
    "# fix short forms\n",
    "titles = titles.apply(lambda x: clean_shortforms(x))"
   ]
  },
  {
   "cell_type": "code",
   "execution_count": 18,
   "metadata": {},
   "outputs": [],
   "source": [
    "titles = titles.str.replace('[^\\w\\s]','')# unpunctuate"
   ]
  },
  {
   "cell_type": "code",
   "execution_count": 19,
   "metadata": {},
   "outputs": [
    {
     "data": {
      "text/plain": [
       "92576                                       change open door rogue southland time\n",
       "55063                       urge restraint vietnamchina rig standoff ourwindsorca\n",
       "100129                 microsoft unveils realtime translating function skype drum\n",
       "75647                                  gbpusd bounced back may attack fxstreetcom\n",
       "125629    blackberry samsung galaxy price specification comparison gamer headline\n",
       "                                           ...                                   \n",
       "12774                                                jacko died earlier newscomau\n",
       "35517                              met mother concludes nineyear run futon critic\n",
       "160616                        anxiety falsepositive mammogram temporary healthcom\n",
       "105195            facebooks study got wrong seeing friend happy make sad guardian\n",
       "53028                  dimon discloses throat cancer calling curable columbus ceo\n",
       "Name: cleaned_text, Length: 182556, dtype: object"
      ]
     },
     "execution_count": 19,
     "metadata": {},
     "output_type": "execute_result"
    }
   ],
   "source": [
    "titles"
   ]
  },
  {
   "cell_type": "code",
   "execution_count": 20,
   "metadata": {},
   "outputs": [
    {
     "data": {
      "text/plain": [
       "92576     t\n",
       "55063     b\n",
       "100129    t\n",
       "75647     b\n",
       "125629    t\n",
       "         ..\n",
       "12774     e\n",
       "35517     e\n",
       "160616    m\n",
       "105195    t\n",
       "53028     b\n",
       "Name: CATEGORY, Length: 182556, dtype: object"
      ]
     },
     "execution_count": 20,
     "metadata": {},
     "output_type": "execute_result"
    }
   ],
   "source": [
    "labels"
   ]
  },
  {
   "cell_type": "code",
   "execution_count": 21,
   "metadata": {},
   "outputs": [],
   "source": [
    "def track_vocab(sentences, verbose =  True):\n",
    "    \n",
    "    vocab = {}\n",
    "    for sentence in sentences:\n",
    "        for word in sentence:\n",
    "            try:\n",
    "                vocab[word] += 1\n",
    "            except KeyError:\n",
    "                vocab[word] = 1\n",
    "                \n",
    "    return vocab"
   ]
  },
  {
   "cell_type": "code",
   "execution_count": 22,
   "metadata": {},
   "outputs": [],
   "source": [
    "# tokenize all titles in the data\n",
    "titles_token = titles.apply(lambda x: x.split())"
   ]
  },
  {
   "cell_type": "code",
   "execution_count": 23,
   "metadata": {},
   "outputs": [
    {
     "name": "stdout",
     "output_type": "stream",
     "text": [
      "{'change': 1634, 'open': 1060}\n"
     ]
    }
   ],
   "source": [
    "# count the occurrence of all words in the data\n",
    "vocab_count = track_vocab(titles_token)\n",
    "print({k: vocab_count[k] for k in list(vocab_count)[:2]})"
   ]
  },
  {
   "cell_type": "markdown",
   "metadata": {},
   "source": [
    "Classification using TFIDF vectorizer"
   ]
  },
  {
   "cell_type": "code",
   "execution_count": 24,
   "metadata": {},
   "outputs": [],
   "source": [
    "# Vectorize training and testing data\n",
    "def Vectorize(vec, X_train, X_test):    \n",
    "    \n",
    "    X_train_vec = vec.fit_transform(X_train)\n",
    "    X_test_vec = vec.transform(X_test)\n",
    "    \n",
    "    print('Vectorization complete.\\n')\n",
    "    \n",
    "    return X_train_vec, X_test_vec"
   ]
  },
  {
   "cell_type": "code",
   "execution_count": 25,
   "metadata": {},
   "outputs": [],
   "source": [
    "from sklearn.model_selection import cross_val_score\n",
    "# Use multiple classifiers and grid search for prediction\n",
    "def ML_modeling(models, params, X_train, X_test, y_train, y_test):    \n",
    "    \n",
    "    if not set(models.keys()).issubset(set(params.keys())):\n",
    "        raise ValueError('Some estimators are missing parameters')\n",
    "\n",
    "    for key in models.keys():\n",
    "    \n",
    "        model = models[key]\n",
    "        param = params[key]\n",
    "        gs = GridSearchCV(model, param, cv=5, error_score=0, refit=True)\n",
    "        gs.fit(X_train, y_train)\n",
    "        y_pred = gs.predict(X_test)\n",
    "        y_pred1= gs.predict(X_train)\n",
    "     \n",
    "        # Print scores for the classifier\n",
    "        print(key, ':', gs.best_params_)\n",
    "        a=accuracy_score(y_pred, y_test)*100\n",
    "        print(\"Test Accuracy:\",a)\n",
    "        b=accuracy_score(y_pred1, y_train)*100\n",
    "        print(\"Train Accuracy:\",b)\n",
    "        results_gs_cv = cross_val_score(gs, X_train, y_train, cv=10)\n",
    "        print('Cross Validation Accuracy',results_gs_cv.mean()*100)\n",
    "    \n",
    "        # Print scores for the classifier\n",
    "        print(confusion_matrix(y_test, y_pred, target_names = ['b','e','m','t']).grid(False))\n",
    "\n",
    "    return\n",
    "\n",
    "models = {\n",
    "    'Naive Bayes': MultinomialNB()\n",
    "}\n",
    "\n",
    "params = {\n",
    "    'Naive Bayes': { 'alpha': [0.5, 1], 'fit_prior': [True, False]}                \n",
    "}\n",
    "\n"
   ]
  },
  {
   "cell_type": "code",
   "execution_count": 26,
   "metadata": {},
   "outputs": [
    {
     "name": "stdout",
     "output_type": "stream",
     "text": [
      "Vectorization complete.\n",
      "\n",
      "Naive Bayes : {'alpha': 0.5, 'fit_prior': True}\n",
      "Test Accuracy: 93.51982032976062\n",
      "Train Accuracy: 97.91609606460649\n",
      "Cross Validation Accuracy 93.11678092203796\n",
      "None\n"
     ]
    },
    {
     "data": {
      "image/png": "[encoded data removed]",
      "text/plain": [
       "<Figure size 432x288 with 2 Axes>"
      ]
     },
     "metadata": {
      "needs_background": "light"
     },
     "output_type": "display_data"
    }
   ],
   "source": [
    "# Train-test split and vectorize\n",
    "X_train, X_test, y_train, y_test = train_test_split(titles, labels, test_size=0.3, shuffle=True)\n",
    "X_train_vec, X_test_vec = Vectorize(TfidfVectorizer(ngram_range=(1,2)),X_train, X_test)\n",
    "\n",
    "ML_modeling(models, params, X_train_vec, X_test_vec, y_train, y_test)"
   ]
  },
  {
   "cell_type": "code",
   "execution_count": 27,
   "metadata": {},
   "outputs": [],
   "source": [
    "#X_features = pd.DataFrame(X_train_vec.toarray())\n",
    "#X_features.head()"
   ]
  },
  {
   "cell_type": "markdown",
   "metadata": {},
   "source": [
    "Log Regression"
   ]
  },
  {
   "cell_type": "code",
   "execution_count": 28,
   "metadata": {},
   "outputs": [
    {
     "name": "stdout",
     "output_type": "stream",
     "text": [
      "Wall time: 1min 19s\n"
     ]
    },
    {
     "data": {
      "text/plain": [
       "LogisticRegression(C=1.0, class_weight=None, dual=False, fit_intercept=True,\n",
       "                   intercept_scaling=1, l1_ratio=None, max_iter=100,\n",
       "                   multi_class='multinomial', n_jobs=-1, penalty='l2',\n",
       "                   random_state=8, solver='newton-cg', tol=0.0001, verbose=0,\n",
       "                   warm_start=False)"
      ]
     },
     "execution_count": 28,
     "metadata": {},
     "output_type": "execute_result"
    }
   ],
   "source": [
    "%%time\n",
    "# First create the base model to tune\n",
    "logreg = LogisticRegression(n_jobs=-1,random_state=8,solver='newton-cg',penalty='l2',multi_class='multinomial',class_weight= None)\n",
    "\n",
    "# Fit the random search model\n",
    "logreg.fit(X_train_vec,y_train)"
   ]
  },
  {
   "cell_type": "code",
   "execution_count": 29,
   "metadata": {},
   "outputs": [
    {
     "name": "stdout",
     "output_type": "stream",
     "text": [
      "Logistic Test Accuracy: 93.44678364708675\n",
      "Logistic Train Accuracy: 97.37457840659212\n"
     ]
    }
   ],
   "source": [
    "y_pred_log_test = logreg.predict(X_test_vec)\n",
    "y_pred_log_train = logreg.predict(X_train_vec)\n",
    "#results_log_cv = cross_val_score(logreg, X_train, y_train, cv=5)\n",
    "\n",
    "# Model Accuracy\n",
    "print(\"Logistic Test Accuracy:\", accuracy_score(y_test, y_pred_log_test)*100)\n",
    "print(\"Logistic Train Accuracy:\", accuracy_score(y_train, y_pred_log_train)*100)\n",
    "#print('Cross Validation Accuracy',results_log_cv.mean()*100)"
   ]
  },
  {
   "cell_type": "code",
   "execution_count": 30,
   "metadata": {},
   "outputs": [
    {
     "data": {
      "image/png": "[encoded data removed]",
      "text/plain": [
       "<Figure size 432x288 with 2 Axes>"
      ]
     },
     "metadata": {
      "needs_background": "light"
     },
     "output_type": "display_data"
    }
   ],
   "source": [
    "# Test Confusion Matrix\n",
    "confusion_matrix(y_test, y_pred_log_test, target_names = ['b','e','m','t']).grid(False)"
   ]
  },
  {
   "cell_type": "code",
   "execution_count": 31,
   "metadata": {},
   "outputs": [
    {
     "data": {
      "image/png": "[encoded data removed]",
      "text/plain": [
       "<Figure size 432x288 with 2 Axes>"
      ]
     },
     "metadata": {
      "needs_background": "light"
     },
     "output_type": "display_data"
    }
   ],
   "source": [
    "# Train Confusion Matrix\n",
    "confusion_matrix(y_train, y_pred_log_train, target_names = ['b','e','m','t']).grid(False)"
   ]
  },
  {
   "cell_type": "code",
   "execution_count": 32,
   "metadata": {},
   "outputs": [
    {
     "name": "stdout",
     "output_type": "stream",
     "text": [
      "              precision    recall  f1-score   support\n",
      "\n",
      "           b       0.90      0.91      0.91     13730\n",
      "           e       0.96      0.96      0.96     13781\n",
      "           m       0.95      0.95      0.95     13588\n",
      "           t       0.93      0.91      0.92     13668\n",
      "\n",
      "    accuracy                           0.93     54767\n",
      "   macro avg       0.93      0.93      0.93     54767\n",
      "weighted avg       0.93      0.93      0.93     54767\n",
      "\n"
     ]
    }
   ],
   "source": [
    "print(classification_report(y_test, y_pred_log_test))"
   ]
  },
  {
   "cell_type": "markdown",
   "metadata": {},
   "source": [
    "SGD Classifier"
   ]
  },
  {
   "cell_type": "code",
   "execution_count": 33,
   "metadata": {},
   "outputs": [
    {
     "name": "stderr",
     "output_type": "stream",
     "text": [
      "[Parallel(n_jobs=-1)]: Using backend ThreadingBackend with 8 concurrent workers.\n"
     ]
    },
    {
     "name": "stdout",
     "output_type": "stream",
     "text": [
      "-- Epoch 1-- Epoch 1-- Epoch 1\n",
      "\n",
      "\n",
      "-- Epoch 1\n",
      "Norm: 132.75, NNZs: 125082, Bias: -0.862178, T: 127789, Avg. loss: 0.106297\n",
      "Total training time: 0.21 seconds.\n",
      "-- Epoch 2\n",
      "Norm: 139.12, NNZs: 146230, Bias: -0.822296, T: 127789, Avg. loss: 0.152204\n",
      "Total training time: 0.25 seconds.\n",
      "-- Epoch 2\n",
      "Norm: 132.85, NNZs: 123251, Bias: -0.636358, T: 127789, Avg. loss: 0.093188\n",
      "Total training time: 0.16 seconds.\n",
      "Norm: 145.36, NNZs: 159841, Bias: -0.731361, T: 127789, Avg. loss: 0.174583\n",
      "Total training time: 0.29 seconds.\n",
      "-- Epoch 2\n",
      "-- Epoch 2\n",
      "Norm: 117.07, NNZs: 166390, Bias: -0.741208, T: 255578, Avg. loss: 0.052107\n",
      "Total training time: 0.34 seconds.\n",
      "-- Epoch 3\n",
      "Norm: 123.67, NNZs: 192313, Bias: -0.763805, T: 255578, Avg. loss: 0.081467\n",
      "Total training time: 0.38 seconds.\n",
      "-- Epoch 3\n",
      "Norm: 115.89, NNZs: 164348, Bias: -0.582560, T: 255578, Avg. loss: 0.044408\n",
      "Total training time: 0.28 seconds.\n",
      "-- Epoch 3\n",
      "Norm: 129.76, NNZs: 205053, Bias: -0.691368, T: 255578, Avg. loss: 0.092664\n",
      "Total training time: 0.41 seconds.\n",
      "-- Epoch 3\n",
      "Norm: 112.62, NNZs: 185402, Bias: -0.727218, T: 383367, Avg. loss: 0.043176\n",
      "Total training time: 0.46 seconds.\n",
      "-- Epoch 4\n",
      "Norm: 119.25, NNZs: 213617, Bias: -0.767105, T: 383367, Avg. loss: 0.069293\n",
      "Total training time: 0.52 seconds.\n",
      "-- Epoch 4\n",
      "Norm: 111.60, NNZs: 183063, Bias: -0.518474, T: 383367, Avg. loss: 0.036747\n",
      "Total training time: 0.43 seconds.\n",
      "Norm: 125.70, NNZs: 224173, Bias: -0.653763, T: 383367, Avg. loss: 0.078902\n",
      "Total training time: 0.56 seconds.\n",
      "-- Epoch 4\n",
      "-- Epoch 4\n",
      "Norm: 111.06, NNZs: 195783, Bias: -0.717017, T: 511156, Avg. loss: 0.039027\n",
      "Total training time: 0.65 seconds.\n",
      "-- Epoch 5\n",
      "Norm: 117.60, NNZs: 225839, Bias: -0.695574, T: 511156, Avg. loss: 0.063531\n",
      "Total training time: 0.72 seconds.\n",
      "Norm: 123.96, NNZs: 233799, Bias: -0.649649, T: 511156, Avg. loss: 0.072269\n",
      "Total training time: 0.74 seconds.\n",
      "Norm: 109.72, NNZs: 193395, Bias: -0.512792, T: 511156, Avg. loss: 0.032666-- Epoch 5\n",
      "\n",
      "Total training time: 0.61 seconds.\n",
      "-- Epoch 5\n",
      "-- Epoch 5\n",
      "Norm: 110.19, NNZs: 202259, Bias: -0.702901, T: 638945, Avg. loss: 0.036259\n",
      "Total training time: 0.81 seconds.\n",
      "-- Epoch 6\n",
      "Norm: 108.73, NNZs: 199285, Bias: -0.513913, T: 638945, Avg. loss: 0.030352\n",
      "Total training time: 0.75 seconds.\n",
      "-- Epoch 6\n",
      "Norm: 116.74, NNZs: 233007, Bias: -0.699092, T: 638945, Avg. loss: 0.060098\n",
      "Total training time: 0.87 seconds.\n",
      "Norm: 123.28, NNZs: 239517, Bias: -0.623440, T: 638945, Avg. loss: 0.068278\n",
      "Total training time: 0.89 seconds.\n",
      "-- Epoch 6\n",
      "-- Epoch 6\n",
      "Norm: 109.54, NNZs: 206796, Bias: -0.703074, T: 766734, Avg. loss: 0.034470\n",
      "Total training time: 0.94 seconds.\n",
      "-- Epoch 7\n",
      "Norm: 108.24, NNZs: 203560, Bias: -0.509582, T: 766734, Avg. loss: 0.028649\n",
      "Total training time: 0.88 seconds.\n",
      "-- Epoch 7\n",
      "Norm: 116.26, NNZs: 237833, Bias: -0.700110, T: 766734, Avg. loss: 0.057722\n",
      "Total training time: 1.01 seconds.\n",
      "Norm: 122.93, NNZs: 243410, Bias: -0.621158, T: 766734, Avg. loss: 0.065457-- Epoch 7\n",
      "\n",
      "Total training time: 1.02 seconds.\n",
      "-- Epoch 7\n",
      "Norm: 109.25, NNZs: 209920, Bias: -0.678151, T: 894523, Avg. loss: 0.033222\n",
      "Total training time: 1.08 seconds.\n",
      "-- Epoch 8\n",
      "Norm: 122.63, NNZs: 245938, Bias: -0.607368, T: 894523, Avg. loss: 0.063397Norm: 107.85, NNZs: 206384, Bias: -0.506045, T: 894523, Avg. loss: 0.027479\n",
      "Total training time: 1.16 seconds.\n",
      "\n",
      "Total training time: 1.04 seconds.\n",
      "-- Epoch 8\n",
      "Norm: 115.93, NNZs: 241196, Bias: -0.682074, T: 894523, Avg. loss: 0.055960\n",
      "-- Epoch 8Total training time: 1.14 seconds.\n",
      "\n",
      "-- Epoch 8\n",
      "Norm: 109.04, NNZs: 212167, Bias: -0.666411, T: 1022312, Avg. loss: 0.032220\n",
      "Total training time: 1.20 seconds.\n",
      "-- Epoch 9\n",
      "Norm: 107.64, NNZs: 208431, Bias: -0.500009, T: 1022312, Avg. loss: 0.026573\n",
      "Total training time: 1.16 seconds.\n",
      "-- Epoch 9\n",
      "Norm: 122.48, NNZs: 247788, Bias: -0.603328, T: 1022312, Avg. loss: 0.062023\n",
      "Total training time: 1.30 seconds.\n",
      "Norm: 115.71, NNZs: 243645, Bias: -0.673737, T: 1022312, Avg. loss: 0.054646\n",
      "Total training time: 1.28 seconds.\n",
      "-- Epoch 9\n",
      "-- Epoch 9\n",
      "Norm: 108.88, NNZs: 213832, Bias: -0.667195, T: 1150101, Avg. loss: 0.031445\n",
      "Total training time: 1.33 seconds.\n",
      "-- Epoch 10\n",
      "Norm: 107.44, NNZs: 210058, Bias: -0.496720, T: 1150101, Avg. loss: 0.025896\n",
      "Total training time: 1.29 seconds.\n",
      "-- Epoch 10\n",
      "Norm: 122.38, NNZs: 249096, Bias: -0.602402, T: 1150101, Avg. loss: 0.060790Norm: 115.69, NNZs: 245597, Bias: -0.679755, T: 1150101, Avg. loss: 0.053648\n",
      "\n",
      "Total training time: 1.42 seconds.\n",
      "Total training time: 1.43 seconds.\n",
      "-- Epoch 10\n",
      "-- Epoch 10\n",
      "Norm: 108.75, NNZs: 214996, Bias: -0.669104, T: 1277890, Avg. loss: 0.030804\n",
      "Total training time: 1.46 seconds.\n",
      "-- Epoch 11\n",
      "Norm: 107.35, NNZs: 211340, Bias: -0.487773, T: 1277890, Avg. loss: 0.025324\n",
      "Total training time: 1.42 seconds.\n",
      "-- Epoch 11\n",
      "Norm: 115.54, NNZs: 247047, Bias: -0.678068, T: 1277890, Avg. loss: 0.052739\n",
      "Total training time: 1.54 seconds.\n",
      "-- Epoch 11\n",
      "Norm: 122.36, NNZs: 250144, Bias: -0.595179, T: 1277890, Avg. loss: 0.059820\n",
      "Total training time: 1.57 seconds.\n",
      "-- Epoch 11\n",
      "Norm: 108.64, NNZs: 216018, Bias: -0.664763, T: 1405679, Avg. loss: 0.030282\n",
      "Total training time: 1.62 seconds.\n",
      "-- Epoch 12\n",
      "Norm: 107.20, NNZs: 212341, Bias: -0.489494, T: 1405679, Avg. loss: 0.024863\n",
      "Total training time: 1.58 seconds.\n",
      "-- Epoch 12\n",
      "Norm: 115.46, NNZs: 248219, Bias: -0.657985, T: 1405679, Avg. loss: 0.052110\n",
      "Total training time: 1.71 seconds.\n",
      "-- Epoch 12\n",
      "Norm: 122.21, NNZs: 250909, Bias: -0.587705, T: 1405679, Avg. loss: 0.058963\n",
      "Total training time: 1.74 seconds.\n",
      "-- Epoch 12\n",
      "Norm: 108.62, NNZs: 216820, Bias: -0.661028, T: 1533468, Avg. loss: 0.029889\n",
      "Total training time: 1.77 seconds.\n",
      "-- Epoch 13\n",
      "Norm: 107.21, NNZs: 213186, Bias: -0.494723, T: 1533468, Avg. loss: 0.024413\n",
      "Total training time: 1.74 seconds.\n",
      "Convergence after 12 epochs took 1.74 seconds\n",
      "Norm: 115.39, NNZs: 249195, Bias: -0.663187, T: 1533468, Avg. loss: 0.051570\n",
      "Total training time: 1.87 seconds.\n",
      "-- Epoch 13\n",
      "Norm: 122.23, NNZs: 251586, Bias: -0.585198, T: 1533468, Avg. loss: 0.058407\n",
      "Total training time: 1.92 seconds.\n",
      "-- Epoch 13\n",
      "Norm: 108.54, NNZs: 217580, Bias: -0.661862, T: 1661257, Avg. loss: 0.029529\n",
      "Total training time: 1.91 seconds.\n",
      "Convergence after 13 epochs took 1.92 seconds\n",
      "Norm: 115.34, NNZs: 249894, Bias: -0.655495, T: 1661257, Avg. loss: 0.051117\n",
      "Total training time: 2.02 seconds.\n",
      "Convergence after 13 epochs took 2.02 seconds\n",
      "Norm: 122.19, NNZs: 252152, Bias: -0.593088, T: 1661257, Avg. loss: 0.057829\n",
      "Total training time: 2.08 seconds.\n",
      "-- Epoch 14\n",
      "Norm: 122.15, NNZs: 252566, Bias: -0.593079, T: 1789046, Avg. loss: 0.057370\n",
      "Total training time: 2.20 seconds.\n",
      "Convergence after 14 epochs took 2.20 seconds\n"
     ]
    },
    {
     "name": "stderr",
     "output_type": "stream",
     "text": [
      "[Parallel(n_jobs=-1)]: Done   4 out of   4 | elapsed:    2.3s remaining:    0.0s\n",
      "[Parallel(n_jobs=-1)]: Done   4 out of   4 | elapsed:    2.3s finished\n"
     ]
    },
    {
     "name": "stdout",
     "output_type": "stream",
     "text": [
      "Wall time: 3.02 s\n"
     ]
    }
   ],
   "source": [
    "%%time\n",
    "sgd = SGDClassifier(n_jobs=-1, max_iter=15, shuffle=True,alpha=0.00001,verbose=True)\n",
    "sgd.fit(X_train_vec,y_train)\n",
    "\n",
    "y_pred_test_sgd = sgd.predict(X_test_vec)\n",
    "y_pred_train_sgd = sgd.predict(X_train_vec)\n"
   ]
  },
  {
   "cell_type": "code",
   "execution_count": 34,
   "metadata": {},
   "outputs": [
    {
     "name": "stdout",
     "output_type": "stream",
     "text": [
      "Test Accuracy 94.94768747603484\n",
      "Train Accuracy 98.62038203601249\n"
     ]
    }
   ],
   "source": [
    "f=accuracy_score(y_pred_test_sgd,y_test)*100\n",
    "print ('Test Accuracy',f)\n",
    "\n",
    "g=accuracy_score(y_pred_train_sgd,y_train)*100\n",
    "print ('Train Accuracy',g)"
   ]
  },
  {
   "cell_type": "code",
   "execution_count": 35,
   "metadata": {},
   "outputs": [
    {
     "data": {
      "image/png": "[encoded data removed]",
      "text/plain": [
       "<Figure size 432x288 with 2 Axes>"
      ]
     },
     "metadata": {
      "needs_background": "light"
     },
     "output_type": "display_data"
    }
   ],
   "source": [
    "#Test confusion matrix\n",
    "confusion_matrix(y_test, y_pred_test_sgd, target_names = ['B','E','H','T']).grid(False)"
   ]
  },
  {
   "cell_type": "code",
   "execution_count": 36,
   "metadata": {},
   "outputs": [
    {
     "name": "stdout",
     "output_type": "stream",
     "text": [
      "              precision    recall  f1-score   support\n",
      "\n",
      "           b       0.92      0.93      0.92     13730\n",
      "           e       0.97      0.97      0.97     13781\n",
      "           m       0.97      0.97      0.97     13588\n",
      "           t       0.93      0.93      0.93     13668\n",
      "\n",
      "    accuracy                           0.95     54767\n",
      "   macro avg       0.95      0.95      0.95     54767\n",
      "weighted avg       0.95      0.95      0.95     54767\n",
      "\n"
     ]
    }
   ],
   "source": [
    "print(classification_report(y_test, y_pred_test_sgd))"
   ]
  },
  {
   "cell_type": "code",
   "execution_count": 37,
   "metadata": {},
   "outputs": [],
   "source": [
    "# Evaluation matrix\n",
    "bac=balanced_accuracy_score(y_test, y_pred_test_sgd)*100\n",
    "c_k_s=cohen_kappa_score(y_test, y_pred_test_sgd)*100\n",
    "mc=matthews_corrcoef(y_test, y_pred_test_sgd)*100"
   ]
  },
  {
   "cell_type": "code",
   "execution_count": 38,
   "metadata": {},
   "outputs": [
    {
     "name": "stdout",
     "output_type": "stream",
     "text": [
      "93.26350065487014\n",
      "93.26356462665912\n",
      "94.94795713287458\n"
     ]
    }
   ],
   "source": [
    "print(c_k_s)\n",
    "print(mc)\n",
    "print(bac)"
   ]
  },
  {
   "cell_type": "code",
   "execution_count": 39,
   "metadata": {},
   "outputs": [],
   "source": [
    "#b= y_test + \" \" + y_pred_test_sgd + \" \""
   ]
  },
  {
   "cell_type": "code",
   "execution_count": 40,
   "metadata": {},
   "outputs": [],
   "source": [
    "#b.to_csv('labeltf.csv')"
   ]
  },
  {
   "cell_type": "code",
   "execution_count": 41,
   "metadata": {},
   "outputs": [],
   "source": [
    "#X_test"
   ]
  },
  {
   "cell_type": "code",
   "execution_count": 42,
   "metadata": {},
   "outputs": [],
   "source": [
    "#X_test.to_csv('texttf.csv')"
   ]
  }
 ],
 "metadata": {
  "kernelspec": {
   "display_name": "Python 3",
   "language": "python",
   "name": "python3"
  },
  "language_info": {
   "codemirror_mode": {
    "name": "ipython",
    "version": 3
   },
   "file_extension": ".py",
   "mimetype": "text/x-python",
   "name": "python",
   "nbconvert_exporter": "python",
   "pygments_lexer": "ipython3",
   "version": "3.7.1"
  }
 },
 "nbformat": 4,
 "nbformat_minor": 4
}
