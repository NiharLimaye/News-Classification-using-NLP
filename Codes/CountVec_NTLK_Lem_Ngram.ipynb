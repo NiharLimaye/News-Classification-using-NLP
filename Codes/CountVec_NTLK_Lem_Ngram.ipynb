{
 "cells": [
  {
   "cell_type": "markdown",
   "metadata": {},
   "source": [
    "# Classification using CountVec & Nltk"
   ]
  },
  {
   "cell_type": "code",
   "execution_count": 2,
   "metadata": {},
   "outputs": [
    {
     "name": "stderr",
     "output_type": "stream",
     "text": [
      "Using TensorFlow backend.\n",
      "C:\\Users\\Nihar\\Anaconda3\\lib\\site-packages\\tensorflow\\python\\framework\\dtypes.py:526: FutureWarning: Passing (type, 1) or '1type' as a synonym of type is deprecated; in a future version of numpy, it will be understood as (type, (1,)) / '(1,)type'.\n",
      "  _np_qint8 = np.dtype([(\"qint8\", np.int8, 1)])\n",
      "C:\\Users\\Nihar\\Anaconda3\\lib\\site-packages\\tensorflow\\python\\framework\\dtypes.py:527: FutureWarning: Passing (type, 1) or '1type' as a synonym of type is deprecated; in a future version of numpy, it will be understood as (type, (1,)) / '(1,)type'.\n",
      "  _np_quint8 = np.dtype([(\"quint8\", np.uint8, 1)])\n",
      "C:\\Users\\Nihar\\Anaconda3\\lib\\site-packages\\tensorflow\\python\\framework\\dtypes.py:528: FutureWarning: Passing (type, 1) or '1type' as a synonym of type is deprecated; in a future version of numpy, it will be understood as (type, (1,)) / '(1,)type'.\n",
      "  _np_qint16 = np.dtype([(\"qint16\", np.int16, 1)])\n",
      "C:\\Users\\Nihar\\Anaconda3\\lib\\site-packages\\tensorflow\\python\\framework\\dtypes.py:529: FutureWarning: Passing (type, 1) or '1type' as a synonym of type is deprecated; in a future version of numpy, it will be understood as (type, (1,)) / '(1,)type'.\n",
      "  _np_quint16 = np.dtype([(\"quint16\", np.uint16, 1)])\n",
      "C:\\Users\\Nihar\\Anaconda3\\lib\\site-packages\\tensorflow\\python\\framework\\dtypes.py:530: FutureWarning: Passing (type, 1) or '1type' as a synonym of type is deprecated; in a future version of numpy, it will be understood as (type, (1,)) / '(1,)type'.\n",
      "  _np_qint32 = np.dtype([(\"qint32\", np.int32, 1)])\n",
      "C:\\Users\\Nihar\\Anaconda3\\lib\\site-packages\\tensorflow\\python\\framework\\dtypes.py:535: FutureWarning: Passing (type, 1) or '1type' as a synonym of type is deprecated; in a future version of numpy, it will be understood as (type, (1,)) / '(1,)type'.\n",
      "  np_resource = np.dtype([(\"resource\", np.ubyte, 1)])\n",
      "[nltk_data] Downloading package punkt to\n",
      "[nltk_data]     C:\\Users\\Nihar\\AppData\\Roaming\\nltk_data...\n",
      "[nltk_data]   Package punkt is already up-to-date!\n",
      "[nltk_data] Downloading package stopwords to\n",
      "[nltk_data]     C:\\Users\\Nihar\\AppData\\Roaming\\nltk_data...\n",
      "[nltk_data]   Package stopwords is already up-to-date!\n",
      "[nltk_data] Downloading package wordnet to\n",
      "[nltk_data]     C:\\Users\\Nihar\\AppData\\Roaming\\nltk_data...\n",
      "[nltk_data]   Package wordnet is already up-to-date!\n"
     ]
    }
   ],
   "source": [
    "import numpy as np\n",
    "import pandas as pd\n",
    "\n",
    "%matplotlib inline\n",
    "import matplotlib.pyplot as plt\n",
    "import seaborn as sns\n",
    "import re\n",
    "import string\n",
    "\n",
    "from sklearn.naive_bayes import MultinomialNB\n",
    "from sklearn.linear_model import SGDClassifier\n",
    "from sklearn.model_selection import train_test_split, GridSearchCV\n",
    "from sklearn_evaluation.plot import confusion_matrix\n",
    "from sklearn.feature_extraction.text import CountVectorizer\n",
    "from sklearn.metrics import precision_score, recall_score, f1_score, accuracy_score\n",
    "from sklearn.model_selection import cross_val_score\n",
    "from sklearn.linear_model import LogisticRegression\n",
    "from sklearn.multiclass import OneVsRestClassifier\n",
    "from sklearn.metrics import classification_report\n",
    "from sklearn.model_selection import GridSearchCV\n",
    "from sklearn.model_selection import RandomizedSearchCV\n",
    "from sklearn.linear_model import LogisticRegression\n",
    "from sklearn.feature_selection import chi2\n",
    "from keras.utils.np_utils import to_categorical\n",
    "from sklearn.metrics import cohen_kappa_score\n",
    "from sklearn.metrics import hamming_loss\n",
    "from sklearn.metrics import log_loss\n",
    "from sklearn.metrics import zero_one_loss\n",
    "from sklearn.metrics import matthews_corrcoef\n",
    "from sklearn.metrics import balanced_accuracy_score\n",
    "from sklearn.feature_selection import chi2\n",
    "\n",
    "\n",
    "import string\n",
    "import nltk\n",
    "from nltk.tokenize import sent_tokenize, word_tokenize\n",
    "\n",
    "nltk.download('punkt')\n",
    "nltk.download('stopwords')\n",
    "nltk.download('wordnet')\n",
    "\n",
    "from nltk.corpus import stopwords \n",
    "stop_words = set(stopwords.words('english')) \n",
    "from nltk.stem import WordNetLemmatizer \n",
    "lemmatizer = WordNetLemmatizer()\n",
    "\n",
    "pd.set_option('display.max_colwidth',100)"
   ]
  },
  {
   "cell_type": "code",
   "execution_count": 3,
   "metadata": {},
   "outputs": [
    {
     "data": {
      "text/html": [
       "<div>\n",
       "<style scoped>\n",
       "    .dataframe tbody tr th:only-of-type {\n",
       "        vertical-align: middle;\n",
       "    }\n",
       "\n",
       "    .dataframe tbody tr th {\n",
       "        vertical-align: top;\n",
       "    }\n",
       "\n",
       "    .dataframe thead th {\n",
       "        text-align: right;\n",
       "    }\n",
       "</style>\n",
       "<table border=\"1\" class=\"dataframe\">\n",
       "  <thead>\n",
       "    <tr style=\"text-align: right;\">\n",
       "      <th></th>\n",
       "      <th>ID</th>\n",
       "      <th>TITLE</th>\n",
       "      <th>URL</th>\n",
       "      <th>PUBLISHER</th>\n",
       "      <th>CATEGORY</th>\n",
       "      <th>STORY</th>\n",
       "      <th>HOSTNAME</th>\n",
       "      <th>TIMESTAMP</th>\n",
       "    </tr>\n",
       "  </thead>\n",
       "  <tbody>\n",
       "    <tr>\n",
       "      <th>0</th>\n",
       "      <td>1</td>\n",
       "      <td>Fed official says weak data caused by weather, should not slow taper</td>\n",
       "      <td>http://www.latimes.com/business/money/la-fi-mo-federal-reserve-plosser-stimulus-economy-20140310...</td>\n",
       "      <td>Los Angeles Times</td>\n",
       "      <td>b</td>\n",
       "      <td>ddUyU0VZz0BRneMioxUPQVP6sIxvM</td>\n",
       "      <td>www.latimes.com</td>\n",
       "      <td>1.394470e+12</td>\n",
       "    </tr>\n",
       "    <tr>\n",
       "      <th>1</th>\n",
       "      <td>2</td>\n",
       "      <td>Fed's Charles Plosser sees high bar for change in pace of tapering</td>\n",
       "      <td>http://www.livemint.com/Politics/H2EvwJSK2VE6OF7iK1g3PP/Feds-Charles-Plosser-sees-high-bar-for-c...</td>\n",
       "      <td>Livemint</td>\n",
       "      <td>b</td>\n",
       "      <td>ddUyU0VZz0BRneMioxUPQVP6sIxvM</td>\n",
       "      <td>www.livemint.com</td>\n",
       "      <td>1.394470e+12</td>\n",
       "    </tr>\n",
       "    <tr>\n",
       "      <th>2</th>\n",
       "      <td>3</td>\n",
       "      <td>US open: Stocks fall after Fed official hints at accelerated tapering</td>\n",
       "      <td>http://www.ifamagazine.com/news/us-open-stocks-fall-after-fed-official-hints-at-accelerated-tape...</td>\n",
       "      <td>IFA Magazine</td>\n",
       "      <td>b</td>\n",
       "      <td>ddUyU0VZz0BRneMioxUPQVP6sIxvM</td>\n",
       "      <td>www.ifamagazine.com</td>\n",
       "      <td>1.394470e+12</td>\n",
       "    </tr>\n",
       "    <tr>\n",
       "      <th>3</th>\n",
       "      <td>4</td>\n",
       "      <td>Fed risks falling 'behind the curve', Charles Plosser says</td>\n",
       "      <td>http://www.ifamagazine.com/news/fed-risks-falling-behind-the-curve-charles-plosser-says-294430</td>\n",
       "      <td>IFA Magazine</td>\n",
       "      <td>b</td>\n",
       "      <td>ddUyU0VZz0BRneMioxUPQVP6sIxvM</td>\n",
       "      <td>www.ifamagazine.com</td>\n",
       "      <td>1.394470e+12</td>\n",
       "    </tr>\n",
       "    <tr>\n",
       "      <th>4</th>\n",
       "      <td>5</td>\n",
       "      <td>Fed's Plosser: Nasty Weather Has Curbed Job Growth</td>\n",
       "      <td>http://www.moneynews.com/Economy/federal-reserve-charles-plosser-weather-job-growth/2014/03/10/i...</td>\n",
       "      <td>Moneynews</td>\n",
       "      <td>b</td>\n",
       "      <td>ddUyU0VZz0BRneMioxUPQVP6sIxvM</td>\n",
       "      <td>www.moneynews.com</td>\n",
       "      <td>1.394470e+12</td>\n",
       "    </tr>\n",
       "  </tbody>\n",
       "</table>\n",
       "</div>"
      ],
      "text/plain": [
       "   ID                                                                  TITLE  \\\n",
       "0   1   Fed official says weak data caused by weather, should not slow taper   \n",
       "1   2     Fed's Charles Plosser sees high bar for change in pace of tapering   \n",
       "2   3  US open: Stocks fall after Fed official hints at accelerated tapering   \n",
       "3   4             Fed risks falling 'behind the curve', Charles Plosser says   \n",
       "4   5                     Fed's Plosser: Nasty Weather Has Curbed Job Growth   \n",
       "\n",
       "                                                                                                   URL  \\\n",
       "0  http://www.latimes.com/business/money/la-fi-mo-federal-reserve-plosser-stimulus-economy-20140310...   \n",
       "1  http://www.livemint.com/Politics/H2EvwJSK2VE6OF7iK1g3PP/Feds-Charles-Plosser-sees-high-bar-for-c...   \n",
       "2  http://www.ifamagazine.com/news/us-open-stocks-fall-after-fed-official-hints-at-accelerated-tape...   \n",
       "3       http://www.ifamagazine.com/news/fed-risks-falling-behind-the-curve-charles-plosser-says-294430   \n",
       "4  http://www.moneynews.com/Economy/federal-reserve-charles-plosser-weather-job-growth/2014/03/10/i...   \n",
       "\n",
       "           PUBLISHER CATEGORY                          STORY  \\\n",
       "0  Los Angeles Times        b  ddUyU0VZz0BRneMioxUPQVP6sIxvM   \n",
       "1           Livemint        b  ddUyU0VZz0BRneMioxUPQVP6sIxvM   \n",
       "2       IFA Magazine        b  ddUyU0VZz0BRneMioxUPQVP6sIxvM   \n",
       "3       IFA Magazine        b  ddUyU0VZz0BRneMioxUPQVP6sIxvM   \n",
       "4          Moneynews        b  ddUyU0VZz0BRneMioxUPQVP6sIxvM   \n",
       "\n",
       "              HOSTNAME     TIMESTAMP  \n",
       "0      www.latimes.com  1.394470e+12  \n",
       "1     www.livemint.com  1.394470e+12  \n",
       "2  www.ifamagazine.com  1.394470e+12  \n",
       "3  www.ifamagazine.com  1.394470e+12  \n",
       "4    www.moneynews.com  1.394470e+12  "
      ]
     },
     "execution_count": 3,
     "metadata": {},
     "output_type": "execute_result"
    }
   ],
   "source": [
    "news = pd.read_csv('News Aggregator/uci-news-aggregator.csv')\n",
    "news.head()"
   ]
  },
  {
   "cell_type": "code",
   "execution_count": 4,
   "metadata": {},
   "outputs": [
    {
     "data": {
      "text/plain": [
       "ID           422406\n",
       "TITLE        422406\n",
       "URL          422406\n",
       "PUBLISHER    422404\n",
       "CATEGORY     422406\n",
       "STORY        422406\n",
       "HOSTNAME     422406\n",
       "TIMESTAMP    422406\n",
       "dtype: int64"
      ]
     },
     "execution_count": 4,
     "metadata": {},
     "output_type": "execute_result"
    }
   ],
   "source": [
    "news.count()"
   ]
  },
  {
   "cell_type": "code",
   "execution_count": 5,
   "metadata": {},
   "outputs": [
    {
     "data": {
      "text/plain": [
       "e    152462\n",
       "b    115964\n",
       "t    108341\n",
       "m     45639\n",
       "Name: CATEGORY, dtype: int64"
      ]
     },
     "execution_count": 5,
     "metadata": {},
     "output_type": "execute_result"
    }
   ],
   "source": [
    "news.CATEGORY.value_counts()"
   ]
  },
  {
   "cell_type": "code",
   "execution_count": 6,
   "metadata": {},
   "outputs": [
    {
     "data": {
      "text/html": [
       "<div>\n",
       "<style scoped>\n",
       "    .dataframe tbody tr th:only-of-type {\n",
       "        vertical-align: middle;\n",
       "    }\n",
       "\n",
       "    .dataframe tbody tr th {\n",
       "        vertical-align: top;\n",
       "    }\n",
       "\n",
       "    .dataframe thead th {\n",
       "        text-align: right;\n",
       "    }\n",
       "</style>\n",
       "<table border=\"1\" class=\"dataframe\">\n",
       "  <thead>\n",
       "    <tr style=\"text-align: right;\">\n",
       "      <th></th>\n",
       "      <th>ID</th>\n",
       "      <th>TITLE</th>\n",
       "      <th>URL</th>\n",
       "      <th>PUBLISHER</th>\n",
       "      <th>CATEGORY</th>\n",
       "      <th>STORY</th>\n",
       "      <th>HOSTNAME</th>\n",
       "      <th>TIMESTAMP</th>\n",
       "    </tr>\n",
       "  </thead>\n",
       "  <tbody>\n",
       "    <tr>\n",
       "      <th>0</th>\n",
       "      <td>1</td>\n",
       "      <td>Fed official says weak data caused by weather, should not slow taper</td>\n",
       "      <td>http://www.latimes.com/business/money/la-fi-mo-federal-reserve-plosser-stimulus-economy-20140310...</td>\n",
       "      <td>Los Angeles Times</td>\n",
       "      <td>b</td>\n",
       "      <td>ddUyU0VZz0BRneMioxUPQVP6sIxvM</td>\n",
       "      <td>www.latimes.com</td>\n",
       "      <td>1.394470e+12</td>\n",
       "    </tr>\n",
       "    <tr>\n",
       "      <th>1</th>\n",
       "      <td>2</td>\n",
       "      <td>Fed's Charles Plosser sees high bar for change in pace of tapering</td>\n",
       "      <td>http://www.livemint.com/Politics/H2EvwJSK2VE6OF7iK1g3PP/Feds-Charles-Plosser-sees-high-bar-for-c...</td>\n",
       "      <td>Livemint</td>\n",
       "      <td>b</td>\n",
       "      <td>ddUyU0VZz0BRneMioxUPQVP6sIxvM</td>\n",
       "      <td>www.livemint.com</td>\n",
       "      <td>1.394470e+12</td>\n",
       "    </tr>\n",
       "    <tr>\n",
       "      <th>2</th>\n",
       "      <td>3</td>\n",
       "      <td>US open: Stocks fall after Fed official hints at accelerated tapering</td>\n",
       "      <td>http://www.ifamagazine.com/news/us-open-stocks-fall-after-fed-official-hints-at-accelerated-tape...</td>\n",
       "      <td>IFA Magazine</td>\n",
       "      <td>b</td>\n",
       "      <td>ddUyU0VZz0BRneMioxUPQVP6sIxvM</td>\n",
       "      <td>www.ifamagazine.com</td>\n",
       "      <td>1.394470e+12</td>\n",
       "    </tr>\n",
       "    <tr>\n",
       "      <th>3</th>\n",
       "      <td>4</td>\n",
       "      <td>Fed risks falling 'behind the curve', Charles Plosser says</td>\n",
       "      <td>http://www.ifamagazine.com/news/fed-risks-falling-behind-the-curve-charles-plosser-says-294430</td>\n",
       "      <td>IFA Magazine</td>\n",
       "      <td>b</td>\n",
       "      <td>ddUyU0VZz0BRneMioxUPQVP6sIxvM</td>\n",
       "      <td>www.ifamagazine.com</td>\n",
       "      <td>1.394470e+12</td>\n",
       "    </tr>\n",
       "    <tr>\n",
       "      <th>4</th>\n",
       "      <td>5</td>\n",
       "      <td>Fed's Plosser: Nasty Weather Has Curbed Job Growth</td>\n",
       "      <td>http://www.moneynews.com/Economy/federal-reserve-charles-plosser-weather-job-growth/2014/03/10/i...</td>\n",
       "      <td>Moneynews</td>\n",
       "      <td>b</td>\n",
       "      <td>ddUyU0VZz0BRneMioxUPQVP6sIxvM</td>\n",
       "      <td>www.moneynews.com</td>\n",
       "      <td>1.394470e+12</td>\n",
       "    </tr>\n",
       "  </tbody>\n",
       "</table>\n",
       "</div>"
      ],
      "text/plain": [
       "   ID                                                                  TITLE  \\\n",
       "0   1   Fed official says weak data caused by weather, should not slow taper   \n",
       "1   2     Fed's Charles Plosser sees high bar for change in pace of tapering   \n",
       "2   3  US open: Stocks fall after Fed official hints at accelerated tapering   \n",
       "3   4             Fed risks falling 'behind the curve', Charles Plosser says   \n",
       "4   5                     Fed's Plosser: Nasty Weather Has Curbed Job Growth   \n",
       "\n",
       "                                                                                                   URL  \\\n",
       "0  http://www.latimes.com/business/money/la-fi-mo-federal-reserve-plosser-stimulus-economy-20140310...   \n",
       "1  http://www.livemint.com/Politics/H2EvwJSK2VE6OF7iK1g3PP/Feds-Charles-Plosser-sees-high-bar-for-c...   \n",
       "2  http://www.ifamagazine.com/news/us-open-stocks-fall-after-fed-official-hints-at-accelerated-tape...   \n",
       "3       http://www.ifamagazine.com/news/fed-risks-falling-behind-the-curve-charles-plosser-says-294430   \n",
       "4  http://www.moneynews.com/Economy/federal-reserve-charles-plosser-weather-job-growth/2014/03/10/i...   \n",
       "\n",
       "           PUBLISHER CATEGORY                          STORY  \\\n",
       "0  Los Angeles Times        b  ddUyU0VZz0BRneMioxUPQVP6sIxvM   \n",
       "1           Livemint        b  ddUyU0VZz0BRneMioxUPQVP6sIxvM   \n",
       "2       IFA Magazine        b  ddUyU0VZz0BRneMioxUPQVP6sIxvM   \n",
       "3       IFA Magazine        b  ddUyU0VZz0BRneMioxUPQVP6sIxvM   \n",
       "4          Moneynews        b  ddUyU0VZz0BRneMioxUPQVP6sIxvM   \n",
       "\n",
       "              HOSTNAME     TIMESTAMP  \n",
       "0      www.latimes.com  1.394470e+12  \n",
       "1     www.livemint.com  1.394470e+12  \n",
       "2  www.ifamagazine.com  1.394470e+12  \n",
       "3  www.ifamagazine.com  1.394470e+12  \n",
       "4    www.moneynews.com  1.394470e+12  "
      ]
     },
     "execution_count": 6,
     "metadata": {},
     "output_type": "execute_result"
    }
   ],
   "source": [
    "news.head()"
   ]
  },
  {
   "cell_type": "code",
   "execution_count": 7,
   "metadata": {},
   "outputs": [
    {
     "name": "stdout",
     "output_type": "stream",
     "text": [
      "163500    3\n",
      "146287    3\n",
      "91152     1\n",
      "157594    3\n",
      "137530    3\n",
      "113606    2\n",
      "97359     2\n",
      "1294      0\n",
      "59976     1\n",
      "81480     1\n",
      "Name: LABEL, dtype: int64\n",
      "[[0. 0. 0. 1.]\n",
      " [0. 0. 0. 1.]\n",
      " [0. 1. 0. 0.]\n",
      " [0. 0. 0. 1.]\n",
      " [0. 0. 0. 1.]\n",
      " [0. 0. 1. 0.]\n",
      " [0. 0. 1. 0.]\n",
      " [1. 0. 0. 0.]\n",
      " [0. 1. 0. 0.]\n",
      " [0. 1. 0. 0.]]\n"
     ]
    }
   ],
   "source": [
    "#Converting categories as balanced\n",
    "num_of_categories = 45639\n",
    "shuffled = news.reindex(np.random.permutation(news.index))\n",
    "e = shuffled[shuffled['CATEGORY'] == 'e'][:num_of_categories]\n",
    "b = shuffled[shuffled['CATEGORY'] == 'b'][:num_of_categories]\n",
    "t = shuffled[shuffled['CATEGORY'] == 't'][:num_of_categories]\n",
    "m = shuffled[shuffled['CATEGORY'] == 'm'][:num_of_categories]\n",
    "concated = pd.concat([e,b,t,m], ignore_index=True)\n",
    "#Shuffle the dataset\n",
    "concated = concated.reindex(np.random.permutation(concated.index))\n",
    "concated['LABEL'] = 0\n",
    "\n",
    "concated.loc[concated['CATEGORY'] == 'e', 'LABEL'] = 0\n",
    "concated.loc[concated['CATEGORY'] == 'b', 'LABEL'] = 1\n",
    "concated.loc[concated['CATEGORY'] == 't', 'LABEL'] = 2\n",
    "concated.loc[concated['CATEGORY'] == 'm', 'LABEL'] = 3\n",
    "print(concated['LABEL'][:10])\n",
    "labels = to_categorical(concated['LABEL'], num_classes=4)\n",
    "print(labels[:10])\n",
    "if 'CATEGORY' in concated.keys():\n",
    "      concated.drop(['CATEGORY'], axis=1)"
   ]
  },
  {
   "cell_type": "code",
   "execution_count": 8,
   "metadata": {},
   "outputs": [
    {
     "data": {
      "text/plain": [
       "b    45639\n",
       "m    45639\n",
       "t    45639\n",
       "e    45639\n",
       "Name: CATEGORY, dtype: int64"
      ]
     },
     "execution_count": 8,
     "metadata": {},
     "output_type": "execute_result"
    }
   ],
   "source": [
    "concated.CATEGORY.value_counts()"
   ]
  },
  {
   "cell_type": "code",
   "execution_count": 9,
   "metadata": {},
   "outputs": [
    {
     "data": {
      "text/plain": [
       "ID           0\n",
       "TITLE        0\n",
       "URL          0\n",
       "PUBLISHER    1\n",
       "CATEGORY     0\n",
       "STORY        0\n",
       "HOSTNAME     0\n",
       "TIMESTAMP    0\n",
       "LABEL        0\n",
       "dtype: int64"
      ]
     },
     "execution_count": 9,
     "metadata": {},
     "output_type": "execute_result"
    }
   ],
   "source": [
    "# remove duplicates\n",
    "concated = concated.drop_duplicates()\n",
    "concated.isnull().sum()"
   ]
  },
  {
   "cell_type": "code",
   "execution_count": 10,
   "metadata": {},
   "outputs": [
    {
     "data": {
      "text/plain": [
       "ID           182556\n",
       "TITLE        182556\n",
       "URL          182556\n",
       "PUBLISHER    182555\n",
       "CATEGORY     182556\n",
       "STORY        182556\n",
       "HOSTNAME     182556\n",
       "TIMESTAMP    182556\n",
       "LABEL        182556\n",
       "dtype: int64"
      ]
     },
     "execution_count": 10,
     "metadata": {},
     "output_type": "execute_result"
    }
   ],
   "source": [
    "concated.count()"
   ]
  },
  {
   "cell_type": "code",
   "execution_count": 11,
   "metadata": {},
   "outputs": [
    {
     "data": {
      "text/plain": [
       "array(['m', 'b', 't', 'e'], dtype=object)"
      ]
     },
     "execution_count": 11,
     "metadata": {},
     "output_type": "execute_result"
    }
   ],
   "source": [
    "concated['CATEGORY'].unique() # unique category labels"
   ]
  },
  {
   "cell_type": "code",
   "execution_count": 12,
   "metadata": {},
   "outputs": [
    {
     "name": "stdout",
     "output_type": "stream",
     "text": [
      "<class 'pandas.core.frame.DataFrame'>\n",
      "Int64Index: 182556 entries, 163500 to 90285\n",
      "Data columns (total 9 columns):\n",
      " #   Column     Non-Null Count   Dtype  \n",
      "---  ------     --------------   -----  \n",
      " 0   ID         182556 non-null  int64  \n",
      " 1   TITLE      182556 non-null  object \n",
      " 2   URL        182556 non-null  object \n",
      " 3   PUBLISHER  182555 non-null  object \n",
      " 4   CATEGORY   182556 non-null  object \n",
      " 5   STORY      182556 non-null  object \n",
      " 6   HOSTNAME   182556 non-null  object \n",
      " 7   TIMESTAMP  182556 non-null  float64\n",
      " 8   LABEL      182556 non-null  int64  \n",
      "dtypes: float64(1), int64(2), object(6)\n",
      "memory usage: 13.9+ MB\n"
     ]
    }
   ],
   "source": [
    "concated.info()"
   ]
  },
  {
   "cell_type": "code",
   "execution_count": 13,
   "metadata": {},
   "outputs": [
    {
     "name": "stdout",
     "output_type": "stream",
     "text": [
      "<class 'pandas.core.frame.DataFrame'>\n",
      "Int64Index: 182556 entries, 163500 to 90285\n",
      "Data columns (total 10 columns):\n",
      " #   Column     Non-Null Count   Dtype  \n",
      "---  ------     --------------   -----  \n",
      " 0   ID         182556 non-null  int64  \n",
      " 1   TITLE      182556 non-null  object \n",
      " 2   URL        182556 non-null  object \n",
      " 3   PUBLISHER  182555 non-null  object \n",
      " 4   CATEGORY   182556 non-null  object \n",
      " 5   STORY      182556 non-null  object \n",
      " 6   HOSTNAME   182556 non-null  object \n",
      " 7   TIMESTAMP  182556 non-null  float64\n",
      " 8   LABEL      182556 non-null  int64  \n",
      " 9   text       182555 non-null  object \n",
      "dtypes: float64(1), int64(2), object(7)\n",
      "memory usage: 15.3+ MB\n"
     ]
    }
   ],
   "source": [
    "concated['text'] = concated.TITLE + \" \" + concated.PUBLISHER\n",
    "concated.info()\n",
    "#df.text.to_string()"
   ]
  },
  {
   "cell_type": "code",
   "execution_count": 14,
   "metadata": {},
   "outputs": [],
   "source": [
    "# Drop null\n",
    "concated= concated.dropna(subset=['text'])"
   ]
  },
  {
   "cell_type": "code",
   "execution_count": 15,
   "metadata": {},
   "outputs": [
    {
     "name": "stdout",
     "output_type": "stream",
     "text": [
      "<class 'pandas.core.frame.DataFrame'>\n",
      "Int64Index: 182555 entries, 163500 to 90285\n",
      "Data columns (total 10 columns):\n",
      " #   Column     Non-Null Count   Dtype  \n",
      "---  ------     --------------   -----  \n",
      " 0   ID         182555 non-null  int64  \n",
      " 1   TITLE      182555 non-null  object \n",
      " 2   URL        182555 non-null  object \n",
      " 3   PUBLISHER  182555 non-null  object \n",
      " 4   CATEGORY   182555 non-null  object \n",
      " 5   STORY      182555 non-null  object \n",
      " 6   HOSTNAME   182555 non-null  object \n",
      " 7   TIMESTAMP  182555 non-null  float64\n",
      " 8   LABEL      182555 non-null  int64  \n",
      " 9   text       182555 non-null  object \n",
      "dtypes: float64(1), int64(2), object(7)\n",
      "memory usage: 15.3+ MB\n"
     ]
    }
   ],
   "source": [
    "concated.info()"
   ]
  },
  {
   "cell_type": "code",
   "execution_count": 16,
   "metadata": {},
   "outputs": [
    {
     "data": {
      "text/plain": [
       "\"'Guardians of the Galaxy' Screening: Chris Pratt, Zoe Saldana, Vin Diesel Hit  ... Hollywood Reporter \\\\(blog\\\\)\""
      ]
     },
     "execution_count": 16,
     "metadata": {},
     "output_type": "execute_result"
    }
   ],
   "source": [
    "concated.text.iloc[86]"
   ]
  },
  {
   "cell_type": "code",
   "execution_count": 17,
   "metadata": {},
   "outputs": [],
   "source": [
    "concated['text'].dropna(inplace=True)"
   ]
  },
  {
   "cell_type": "code",
   "execution_count": 18,
   "metadata": {},
   "outputs": [
    {
     "data": {
      "text/plain": [
       "\"'Guardians of the Galaxy' Screening: Chris Pratt, Zoe Saldana, Vin Diesel Hit  ... Hollywood Reporter \\\\(blog\\\\)\""
      ]
     },
     "execution_count": 18,
     "metadata": {},
     "output_type": "execute_result"
    }
   ],
   "source": [
    "concated.text.iloc[86]"
   ]
  },
  {
   "cell_type": "code",
   "execution_count": 19,
   "metadata": {},
   "outputs": [],
   "source": [
    "symbols = [',', '.', '\"', ':', ')', '(', '-', '!', '?', '|', \n",
    "           ';', \"'\", '$', '&', '/', '[', ']', '>', '%', '=', \n",
    "           '#', '*', '+', '\\\\', '•',  '~', '@', '£', '·', '_', \n",
    "           '{', '}', '©', '^', '®', '`',  '<', '→', '°', '€', \n",
    "           '™', '›',  '♥', '←', '×', '§', '″', '′', 'Â', '█', \n",
    "           '½', 'à', '…', '“', '★', '”', '–', '●', 'â', '►', \n",
    "           '−', '¢', '²', '¬', '░', '¶', '↑', '±', '¿', '▾', \n",
    "           '═', '¦', '║', '―', '¥', '▓', '—', '‹', '─', '▒', '：', \n",
    "           '¼', '⊕', '▼', '▪', '†', '■', '’', '▀', '¨', '▄', '♫', \n",
    "           '☆', 'é', '¯', '♦', '¤', '▲', 'è', '¸', '¾', 'Ã', '⋅', \n",
    "           '‘', '∞', '∙', '）', '↓', '、', '│', '（', '»', '，', '♪', \n",
    "           '╩', '╚', '³', '・', '╦', '╣', '╔', '╗', '▬', '❤', 'ï', 'Ø', \n",
    "           '¹', '≤', '‡', '√', ]"
   ]
  },
  {
   "cell_type": "code",
   "execution_count": 20,
   "metadata": {},
   "outputs": [],
   "source": [
    "def clean_symbol(text):\n",
    "    text = str(text)\n",
    "    for symbol in symbols:\n",
    "        text = text.replace(symbol, ' ')\n",
    "    return text\n",
    "\n",
    "# remove symbols and punctuations \n",
    "concated['text'] = concated['text'].apply(lambda x: clean_symbol(x))"
   ]
  },
  {
   "cell_type": "code",
   "execution_count": 21,
   "metadata": {},
   "outputs": [],
   "source": [
    "concated['text']  = concated['text'] .str.replace('[^\\w\\s]',' ')# unpunctuate"
   ]
  },
  {
   "cell_type": "code",
   "execution_count": 22,
   "metadata": {},
   "outputs": [],
   "source": [
    "# Dictionary of short form words and mispellings\n",
    "short_forms_dict = {\"ain't\": \"is not\", \"aren't\": \"are not\",\"can't\": \"cannot\", \n",
    "                    \"'cause\": \"because\", \"could've\": \"could have\", \"couldn't\": \"could not\", \n",
    "                    \"didn't\": \"did not\",  \"doesn't\": \"does not\", \"don't\": \"do not\", \"hadn't\": \"had not\", \n",
    "                    \"hasn't\": \"has not\", \"haven't\": \"have not\", \"he'd\": \"he would\",\"he'll\": \"he will\", \n",
    "                    \"he's\": \"he is\", \"how'd\": \"how did\", \"how'd'y\": \"how do you\", \"how'll\": \"how will\", \n",
    "                    \"how's\": \"how is\",  \"I'd\": \"I would\", \"I'd've\": \"I would have\", \"I'll\": \"I will\", \n",
    "                    \"I'll've\": \"I will have\",\"I'm\": \"I am\", \"I've\": \"I have\", \"i'd\": \"i would\", \n",
    "                    \"i'd've\": \"i would have\", \"i'll\": \"i will\",  \"i'll've\": \"i will have\",\"i'm\": \"i am\", \n",
    "                    \"i've\": \"i have\", \"isn't\": \"is not\", \"it'd\": \"it would\", \"it'd've\": \"it would have\", \n",
    "                    \"it'll\": \"it will\", \"it'll've\": \"it will have\",\"it's\": \"it is\", \"let's\": \"let us\", \n",
    "                    \"ma'am\": \"madam\", \"mayn't\": \"may not\", \"might've\": \"might have\",\"mightn't\": \"might not\",\n",
    "                    \"mightn't've\": \"might not have\", \"must've\": \"must have\", \"mustn't\": \"must not\", \n",
    "                    \"mustn't've\": \"must not have\", \"needn't\": \"need not\", \"needn't've\": \"need not have\",\n",
    "                    \"o'clock\": \"of the clock\", \"oughtn't\": \"ought not\", \"oughtn't've\": \"ought not have\", \n",
    "                    \"shan't\": \"shall not\", \"sha'n't\": \"shall not\", \"shan't've\": \"shall not have\", \n",
    "                    \"she'd\": \"she would\", \"she'd've\": \"she would have\", \"she'll\": \"she will\", \n",
    "                    \"she'll've\": \"she will have\", \"she's\": \"she is\", \"should've\": \"should have\", \n",
    "                    \"shouldn't\": \"should not\", \"shouldn't've\": \"should not have\", \"so've\": \"so have\",\n",
    "                    \"so's\": \"so as\", \"this's\": \"this is\",\"that'd\": \"that would\", \"that'd've\": \"that would have\", \n",
    "                    \"that's\": \"that is\", \"there'd\": \"there would\", \"there'd've\": \"there would have\", \n",
    "                    \"there's\": \"there is\", \"here's\": \"here is\",\"they'd\": \"they would\", \n",
    "                    \"they'd've\": \"they would have\", \"they'll\": \"they will\", \"they'll've\": \"they will have\", \n",
    "                    \"they're\": \"they are\", \"they've\": \"they have\", \"to've\": \"to have\", \"wasn't\": \"was not\", \n",
    "                    \"we'd\": \"we would\", \"we'd've\": \"we would have\", \"we'll\": \"we will\", \n",
    "                    \"we'll've\": \"we will have\", \"we're\": \"we are\", \"we've\": \"we have\", \n",
    "                    \"weren't\": \"were not\", \"what'll\": \"what will\", \"what'll've\": \"what will have\", \n",
    "                    \"what're\": \"what are\",  \"what's\": \"what is\", \"what've\": \"what have\", \n",
    "                    \"when's\": \"when is\", \"when've\": \"when have\", \"where'd\": \"where did\", \n",
    "                    \"where's\": \"where is\", \"where've\": \"where have\", \"who'll\": \"who will\", \n",
    "                    \"who'll've\": \"who will have\", \"who's\": \"who is\", \"who've\": \"who have\", \"why's\": \"why is\", \n",
    "                    \"why've\": \"why have\", \"will've\": \"will have\", \"won't\": \"will not\", \"won't've\": \"will not have\", \n",
    "                    \"would've\": \"would have\", \"wouldn't\": \"would not\", \"wouldn't've\": \"would not have\", \n",
    "                    \"y'all\": \"you all\", \"y'all'd\": \"you all would\",\"y'all'd've\": \"you all would have\",\n",
    "                    \"y'all're\": \"you all are\",\"y'all've\": \"you all have\",\"you'd\": \"you would\", \n",
    "                    \"you'd've\": \"you would have\", \"you'll\": \"you will\", \"you'll've\": \"you will have\", \n",
    "                    \"you're\": \"you are\", \"you've\": \"you have\"}"
   ]
  },
  {
   "cell_type": "code",
   "execution_count": 23,
   "metadata": {},
   "outputs": [],
   "source": [
    "def clean_shortforms(text):\n",
    "    clean_text = text\n",
    "    for shortform in short_forms_dict.keys():\n",
    "        if re.search(shortform, text):\n",
    "            clean_text = re.sub(shortform, short_forms_dict[shortform], text)\n",
    "    return clean_text\n",
    "\n",
    "# fix short forms\n",
    "concated['text'] = concated['text'].apply(lambda x: clean_shortforms(x))"
   ]
  },
  {
   "cell_type": "code",
   "execution_count": 24,
   "metadata": {},
   "outputs": [],
   "source": [
    "import re\n",
    "import string\n",
    "\n",
    "def clean_text(text):\n",
    "    text = re.sub(\"[0-9]+\",\" \",text)\n",
    "    text = text.lower() # lowercase text\n",
    "    text = re.sub(' +',' ', text)\n",
    "    tokens = re.split('\\W+',text)\n",
    "    text1 = \" \".join([word for word in tokens if word not in stop_words and word not in string.punctuation])\n",
    "    return text1"
   ]
  },
  {
   "cell_type": "code",
   "execution_count": 25,
   "metadata": {},
   "outputs": [],
   "source": [
    "concated['cleaned_text'] = concated['text'].apply(lambda x:clean_text(x))"
   ]
  },
  {
   "cell_type": "code",
   "execution_count": 26,
   "metadata": {},
   "outputs": [
    {
     "data": {
      "text/html": [
       "<div>\n",
       "<style scoped>\n",
       "    .dataframe tbody tr th:only-of-type {\n",
       "        vertical-align: middle;\n",
       "    }\n",
       "\n",
       "    .dataframe tbody tr th {\n",
       "        vertical-align: top;\n",
       "    }\n",
       "\n",
       "    .dataframe thead th {\n",
       "        text-align: right;\n",
       "    }\n",
       "</style>\n",
       "<table border=\"1\" class=\"dataframe\">\n",
       "  <thead>\n",
       "    <tr style=\"text-align: right;\">\n",
       "      <th></th>\n",
       "      <th>ID</th>\n",
       "      <th>TITLE</th>\n",
       "      <th>URL</th>\n",
       "      <th>PUBLISHER</th>\n",
       "      <th>CATEGORY</th>\n",
       "      <th>STORY</th>\n",
       "      <th>HOSTNAME</th>\n",
       "      <th>TIMESTAMP</th>\n",
       "      <th>LABEL</th>\n",
       "      <th>text</th>\n",
       "      <th>cleaned_text</th>\n",
       "    </tr>\n",
       "  </thead>\n",
       "  <tbody>\n",
       "    <tr>\n",
       "      <th>163500</th>\n",
       "      <td>49923</td>\n",
       "      <td>AG announces settlement with Four Loko drink maker</td>\n",
       "      <td>http://www.pennlive.com/midstate/index.ssf/2014/03/ag_announces_settlement_with_f.html</td>\n",
       "      <td>Penn Live</td>\n",
       "      <td>m</td>\n",
       "      <td>dvGuDQsYC8aoIAMrOF-hiKWVKak1M</td>\n",
       "      <td>www.pennlive.com</td>\n",
       "      <td>1.395890e+12</td>\n",
       "      <td>3</td>\n",
       "      <td>AG announces settlement with Four Loko drink maker Penn Live</td>\n",
       "      <td>ag announces settlement four loko drink maker penn live</td>\n",
       "    </tr>\n",
       "    <tr>\n",
       "      <th>146287</th>\n",
       "      <td>203360</td>\n",
       "      <td>Hurricanes Katrina and Rita Could Explain Half of New Orleans Stillbirths</td>\n",
       "      <td>http://www.natureworldnews.com/articles/6981/20140509/hurricanes-katrina-and-rita-could-explain-...</td>\n",
       "      <td>Nature World News</td>\n",
       "      <td>m</td>\n",
       "      <td>daoAEXlTICmkw_MBBmqjoFWNKob6M</td>\n",
       "      <td>www.natureworldnews.com</td>\n",
       "      <td>1.399710e+12</td>\n",
       "      <td>3</td>\n",
       "      <td>Hurricanes Katrina and Rita Could Explain Half of New Orleans Stillbirths Nature World News</td>\n",
       "      <td>hurricanes katrina rita could explain half new orleans stillbirths nature world news</td>\n",
       "    </tr>\n",
       "    <tr>\n",
       "      <th>91152</th>\n",
       "      <td>25084</td>\n",
       "      <td>Oracle slides as Q3 profit and sales miss estimates amid stiff rivalry</td>\n",
       "      <td>http://www.proactiveinvestors.com/companies/news/52850/oracle-slides-as-q3-profit-and-sales-miss...</td>\n",
       "      <td>Proactive Investors USA \\&amp; Canada</td>\n",
       "      <td>b</td>\n",
       "      <td>do8j0bCjY5DibxMZlDgqqxkTdZnyM</td>\n",
       "      <td>www.proactiveinvestors.com</td>\n",
       "      <td>1.395320e+12</td>\n",
       "      <td>1</td>\n",
       "      <td>Oracle slides as Q3 profit and sales miss estimates amid stiff rivalry Proactive Investors USA  ...</td>\n",
       "      <td>oracle slides q profit sales miss estimates amid stiff rivalry proactive investors usa canada</td>\n",
       "    </tr>\n",
       "    <tr>\n",
       "      <th>157594</th>\n",
       "      <td>422342</td>\n",
       "      <td>MC Mosquito Commission will be spraying in Ocean tonight</td>\n",
       "      <td>http://thelinknews.net/2014/08/26/mc-mosquito-commission-will-be-spraying-in-ocean-tonight/</td>\n",
       "      <td>The Link News</td>\n",
       "      <td>m</td>\n",
       "      <td>dqd7IwGtzHFAWvMr9ovUpSjN90jdM</td>\n",
       "      <td>thelinknews.net</td>\n",
       "      <td>1.409230e+12</td>\n",
       "      <td>3</td>\n",
       "      <td>MC Mosquito Commission will be spraying in Ocean tonight The Link News</td>\n",
       "      <td>mc mosquito commission spraying ocean tonight link news</td>\n",
       "    </tr>\n",
       "    <tr>\n",
       "      <th>137530</th>\n",
       "      <td>184093</td>\n",
       "      <td>Where is the best place to be a mom? Scandinavia.</td>\n",
       "      <td>http://www.washingtonpost.com/news/parenting/wp/2014/05/05/where-is-the-best-place-to-be-a-mom-s...</td>\n",
       "      <td>Washington Post</td>\n",
       "      <td>m</td>\n",
       "      <td>d8CZPZV9F6L8IOM0FMj43cRImSmRM</td>\n",
       "      <td>www.washingtonpost.com</td>\n",
       "      <td>1.399390e+12</td>\n",
       "      <td>3</td>\n",
       "      <td>Where is the best place to be a mom  Scandinavia  Washington Post</td>\n",
       "      <td>best place mom scandinavia washington post</td>\n",
       "    </tr>\n",
       "  </tbody>\n",
       "</table>\n",
       "</div>"
      ],
      "text/plain": [
       "            ID  \\\n",
       "163500   49923   \n",
       "146287  203360   \n",
       "91152    25084   \n",
       "157594  422342   \n",
       "137530  184093   \n",
       "\n",
       "                                                                            TITLE  \\\n",
       "163500                         AG announces settlement with Four Loko drink maker   \n",
       "146287  Hurricanes Katrina and Rita Could Explain Half of New Orleans Stillbirths   \n",
       "91152      Oracle slides as Q3 profit and sales miss estimates amid stiff rivalry   \n",
       "157594                   MC Mosquito Commission will be spraying in Ocean tonight   \n",
       "137530                          Where is the best place to be a mom? Scandinavia.   \n",
       "\n",
       "                                                                                                        URL  \\\n",
       "163500               http://www.pennlive.com/midstate/index.ssf/2014/03/ag_announces_settlement_with_f.html   \n",
       "146287  http://www.natureworldnews.com/articles/6981/20140509/hurricanes-katrina-and-rita-could-explain-...   \n",
       "91152   http://www.proactiveinvestors.com/companies/news/52850/oracle-slides-as-q3-profit-and-sales-miss...   \n",
       "157594          http://thelinknews.net/2014/08/26/mc-mosquito-commission-will-be-spraying-in-ocean-tonight/   \n",
       "137530  http://www.washingtonpost.com/news/parenting/wp/2014/05/05/where-is-the-best-place-to-be-a-mom-s...   \n",
       "\n",
       "                                PUBLISHER CATEGORY  \\\n",
       "163500                          Penn Live        m   \n",
       "146287                  Nature World News        m   \n",
       "91152   Proactive Investors USA \\& Canada        b   \n",
       "157594                      The Link News        m   \n",
       "137530                    Washington Post        m   \n",
       "\n",
       "                                STORY                    HOSTNAME  \\\n",
       "163500  dvGuDQsYC8aoIAMrOF-hiKWVKak1M            www.pennlive.com   \n",
       "146287  daoAEXlTICmkw_MBBmqjoFWNKob6M     www.natureworldnews.com   \n",
       "91152   do8j0bCjY5DibxMZlDgqqxkTdZnyM  www.proactiveinvestors.com   \n",
       "157594  dqd7IwGtzHFAWvMr9ovUpSjN90jdM             thelinknews.net   \n",
       "137530  d8CZPZV9F6L8IOM0FMj43cRImSmRM      www.washingtonpost.com   \n",
       "\n",
       "           TIMESTAMP  LABEL  \\\n",
       "163500  1.395890e+12      3   \n",
       "146287  1.399710e+12      3   \n",
       "91152   1.395320e+12      1   \n",
       "157594  1.409230e+12      3   \n",
       "137530  1.399390e+12      3   \n",
       "\n",
       "                                                                                                       text  \\\n",
       "163500                                         AG announces settlement with Four Loko drink maker Penn Live   \n",
       "146287          Hurricanes Katrina and Rita Could Explain Half of New Orleans Stillbirths Nature World News   \n",
       "91152   Oracle slides as Q3 profit and sales miss estimates amid stiff rivalry Proactive Investors USA  ...   \n",
       "157594                               MC Mosquito Commission will be spraying in Ocean tonight The Link News   \n",
       "137530                                    Where is the best place to be a mom  Scandinavia  Washington Post   \n",
       "\n",
       "                                                                                         cleaned_text  \n",
       "163500                                        ag announces settlement four loko drink maker penn live  \n",
       "146287           hurricanes katrina rita could explain half new orleans stillbirths nature world news  \n",
       "91152   oracle slides q profit sales miss estimates amid stiff rivalry proactive investors usa canada  \n",
       "157594                                        mc mosquito commission spraying ocean tonight link news  \n",
       "137530                                                     best place mom scandinavia washington post  "
      ]
     },
     "execution_count": 26,
     "metadata": {},
     "output_type": "execute_result"
    }
   ],
   "source": [
    "concated.head(5)"
   ]
  },
  {
   "cell_type": "code",
   "execution_count": 27,
   "metadata": {},
   "outputs": [],
   "source": [
    "import re\n",
    "import string\n",
    "\n",
    "def clean_text1(text):\n",
    "    text = string.capwords(text, sep = None) \n",
    "    tokens=re.split('\\W+',text)\n",
    "    tokens = list(set(tokens))\n",
    "    text1 = \" \".join([lemmatizer.lemmatize(word) for word in tokens if (len(word) >= 2 and len(word) < 14)])\n",
    "    return text1"
   ]
  },
  {
   "cell_type": "code",
   "execution_count": 28,
   "metadata": {},
   "outputs": [],
   "source": [
    "concated['cleaned_text'] = concated['cleaned_text'].apply(lambda x:clean_text1(x))"
   ]
  },
  {
   "cell_type": "code",
   "execution_count": 29,
   "metadata": {},
   "outputs": [
    {
     "data": {
      "text/plain": [
       "163500                                        Four Penn Live Announces Loko Settlement Ag Drink Maker\n",
       "146287           New World Explain Nature Hurricanes News Could Rita Katrina Half Orleans Stillbirths\n",
       "91152     Profit Estimates Amid Investors Canada Slides Miss Stiff Usa Sales Oracle Rivalry Proactive\n",
       "157594                                        Commission Ocean Mosquito Spraying Tonight News Mc Link\n",
       "137530                                                     Scandinavia Best Washington Mom Post Place\n",
       "                                                     ...                                             \n",
       "69376                                      New Goldman Sachs Cfo News Sky Twitter Executive Australia\n",
       "102941                                                       Samsung Galaxy Hands Tv Review Tab Stuff\n",
       "69069                                                 United Natural Mln Fine Rtt News Tony Buy Foods\n",
       "114448                                 Wall Google Journal City Blog Street Fiber Kansas Gets Snapped\n",
       "90285                        Forbes Video Policies Slack Fed Yellen Labor Strongly Cites Defends Easy\n",
       "Name: cleaned_text, Length: 182555, dtype: object"
      ]
     },
     "execution_count": 29,
     "metadata": {},
     "output_type": "execute_result"
    }
   ],
   "source": [
    "concated['cleaned_text'] "
   ]
  },
  {
   "cell_type": "code",
   "execution_count": 30,
   "metadata": {},
   "outputs": [],
   "source": [
    "titles = concated['cleaned_text']\n",
    "labels = concated['LABEL']"
   ]
  },
  {
   "cell_type": "code",
   "execution_count": 31,
   "metadata": {},
   "outputs": [
    {
     "data": {
      "text/plain": [
       "163500                                        Four Penn Live Announces Loko Settlement Ag Drink Maker\n",
       "146287           New World Explain Nature Hurricanes News Could Rita Katrina Half Orleans Stillbirths\n",
       "91152     Profit Estimates Amid Investors Canada Slides Miss Stiff Usa Sales Oracle Rivalry Proactive\n",
       "157594                                        Commission Ocean Mosquito Spraying Tonight News Mc Link\n",
       "137530                                                     Scandinavia Best Washington Mom Post Place\n",
       "                                                     ...                                             \n",
       "69376                                      New Goldman Sachs Cfo News Sky Twitter Executive Australia\n",
       "102941                                                       Samsung Galaxy Hands Tv Review Tab Stuff\n",
       "69069                                                 United Natural Mln Fine Rtt News Tony Buy Foods\n",
       "114448                                 Wall Google Journal City Blog Street Fiber Kansas Gets Snapped\n",
       "90285                        Forbes Video Policies Slack Fed Yellen Labor Strongly Cites Defends Easy\n",
       "Name: cleaned_text, Length: 182555, dtype: object"
      ]
     },
     "execution_count": 31,
     "metadata": {},
     "output_type": "execute_result"
    }
   ],
   "source": [
    "titles"
   ]
  },
  {
   "cell_type": "code",
   "execution_count": 32,
   "metadata": {},
   "outputs": [
    {
     "data": {
      "image/png": "[encoded data removed]",
      "text/plain": [
       "<Figure size 432x288 with 1 Axes>"
      ]
     },
     "metadata": {
      "needs_background": "light"
     },
     "output_type": "display_data"
    }
   ],
   "source": [
    "plt.hist([len(x) for x in titles])\n",
    "plt.show()"
   ]
  },
  {
   "cell_type": "code",
   "execution_count": 33,
   "metadata": {},
   "outputs": [],
   "source": [
    "def track_vocab(sentences, verbose =  True):\n",
    "    \n",
    "    vocab = {}\n",
    "    for sentence in sentences:\n",
    "        for word in sentence:\n",
    "            try:\n",
    "                vocab[word] += 1\n",
    "            except KeyError:\n",
    "                vocab[word] = 1\n",
    "                \n",
    "    return vocab"
   ]
  },
  {
   "cell_type": "code",
   "execution_count": 34,
   "metadata": {},
   "outputs": [],
   "source": [
    "# tokenize all titles in the data\n",
    "titles_token = titles.apply(lambda x: x.split())"
   ]
  },
  {
   "cell_type": "code",
   "execution_count": 35,
   "metadata": {},
   "outputs": [
    {
     "name": "stdout",
     "output_type": "stream",
     "text": [
      "39898\n",
      "{'Four': 557, 'Penn': 61, 'Live': 1702, 'Announces': 982, 'Loko': 63, 'Settlement': 360, 'Ag': 90, 'Drink': 207, 'Maker': 523, 'New': 12272}\n"
     ]
    }
   ],
   "source": [
    "# count the occurrence of all words in the data\n",
    "vocab_count = track_vocab(titles_token)\n",
    "print(len(vocab_count))\n",
    "print({k: vocab_count[k] for k in list(vocab_count)[:10]})"
   ]
  },
  {
   "cell_type": "code",
   "execution_count": 36,
   "metadata": {},
   "outputs": [
    {
     "data": {
      "text/plain": [
       "163500                                      [Four, Penn, Live, Announces, Loko, Settlement, Ag, Drink, Maker]\n",
       "146287      [New, World, Explain, Nature, Hurricanes, News, Could, Rita, Katrina, Half, Orleans, Stillbirths]\n",
       "91152     [Profit, Estimates, Amid, Investors, Canada, Slides, Miss, Stiff, Usa, Sales, Oracle, Rivalry, P...\n",
       "157594                                       [Commission, Ocean, Mosquito, Spraying, Tonight, News, Mc, Link]\n",
       "137530                                                      [Scandinavia, Best, Washington, Mom, Post, Place]\n",
       "                                                         ...                                                 \n",
       "69376                                    [New, Goldman, Sachs, Cfo, News, Sky, Twitter, Executive, Australia]\n",
       "102941                                                       [Samsung, Galaxy, Hands, Tv, Review, Tab, Stuff]\n",
       "69069                                               [United, Natural, Mln, Fine, Rtt, News, Tony, Buy, Foods]\n",
       "114448                              [Wall, Google, Journal, City, Blog, Street, Fiber, Kansas, Gets, Snapped]\n",
       "90285                    [Forbes, Video, Policies, Slack, Fed, Yellen, Labor, Strongly, Cites, Defends, Easy]\n",
       "Name: cleaned_text, Length: 182555, dtype: object"
      ]
     },
     "execution_count": 36,
     "metadata": {},
     "output_type": "execute_result"
    }
   ],
   "source": [
    "titles_token"
   ]
  },
  {
   "cell_type": "code",
   "execution_count": 37,
   "metadata": {},
   "outputs": [],
   "source": [
    "#X_train, X_test, y_train, y_test = train_test_split(titles, labels, test_size=0.3,shuffle=True) # 30% split"
   ]
  },
  {
   "cell_type": "markdown",
   "metadata": {},
   "source": [
    "Models"
   ]
  },
  {
   "cell_type": "markdown",
   "metadata": {},
   "source": [
    "Preliminary Naive Bayes Approach"
   ]
  },
  {
   "cell_type": "code",
   "execution_count": 38,
   "metadata": {},
   "outputs": [],
   "source": [
    "count_vect = CountVectorizer(ngram_range = (1,3),min_df = 10,max_df = 1.)\n",
    "\n",
    "#X_train_features = count_vect.fit_transform(X_train)\n",
    "#print(X_train_features.shape)\n",
    "\n",
    "#X_test_features = count_vect.transform(X_test)\n",
    "#print(X_test_features.shape)\n",
    "\n",
    "X = count_vect.fit_transform(titles)\n",
    "y = labels\n",
    "\n",
    "X_train, X_test, y_train, y_test = train_test_split(X, y, test_size=0.2,shuffle=True) # 30% split"
   ]
  },
  {
   "cell_type": "code",
   "execution_count": 39,
   "metadata": {},
   "outputs": [
    {
     "name": "stdout",
     "output_type": "stream",
     "text": [
      "Test Accuracy 91.47928021692093\n",
      "Train Accuracy 92.80764701048999\n",
      "Cross Validation Accuracy 91.65730876563154\n"
     ]
    }
   ],
   "source": [
    "# fit and score the bayesian classifier\n",
    "mnb = MultinomialNB(alpha=1)\n",
    "mnb.fit(X_train, y_train)\n",
    "\n",
    "y_pred_test=mnb.predict(X_test)\n",
    "a=accuracy_score(y_pred_test, y_test)*100\n",
    "print ('Test Accuracy',a)\n",
    "\n",
    "y_pred_train=mnb.predict(X_train)\n",
    "b=accuracy_score(y_train, y_pred_train)*100\n",
    "\n",
    "print ('Train Accuracy',b)\n",
    "\n",
    "results_mnb_cv = cross_val_score(mnb, X_train, y_train, cv=10)\n",
    "print('Cross Validation Accuracy',results_mnb_cv.mean()*100)"
   ]
  },
  {
   "cell_type": "code",
   "execution_count": 40,
   "metadata": {},
   "outputs": [
    {
     "data": {
      "image/png": "[encoded data removed]",
      "text/plain": [
       "<Figure size 432x288 with 2 Axes>"
      ]
     },
     "metadata": {
      "needs_background": "light"
     },
     "output_type": "display_data"
    }
   ],
   "source": [
    "# Test Confusion Matrix\n",
    "confusion_matrix(y_test, y_pred_test, target_names = ['b','e','m','t']).grid(False)"
   ]
  },
  {
   "cell_type": "code",
   "execution_count": 41,
   "metadata": {},
   "outputs": [
    {
     "data": {
      "image/png": "[encoded data removed]",
      "text/plain": [
       "<Figure size 432x288 with 2 Axes>"
      ]
     },
     "metadata": {
      "needs_background": "light"
     },
     "output_type": "display_data"
    }
   ],
   "source": [
    "# Train Confusion Matrix\n",
    "confusion_matrix(y_train, y_pred_train, target_names = ['b','e','m','t']).grid(False)"
   ]
  },
  {
   "cell_type": "code",
   "execution_count": 42,
   "metadata": {},
   "outputs": [
    {
     "name": "stdout",
     "output_type": "stream",
     "text": [
      "              precision    recall  f1-score   support\n",
      "\n",
      "           0       0.95      0.95      0.95      9149\n",
      "           1       0.88      0.88      0.88      9148\n",
      "           2       0.90      0.89      0.89      9109\n",
      "           3       0.93      0.94      0.93      9105\n",
      "\n",
      "    accuracy                           0.91     36511\n",
      "   macro avg       0.91      0.91      0.91     36511\n",
      "weighted avg       0.91      0.91      0.91     36511\n",
      "\n"
     ]
    }
   ],
   "source": [
    "print(classification_report(y_test, y_pred_test))"
   ]
  },
  {
   "cell_type": "markdown",
   "metadata": {},
   "source": [
    "Logistic Regression"
   ]
  },
  {
   "cell_type": "code",
   "execution_count": 43,
   "metadata": {},
   "outputs": [
    {
     "name": "stdout",
     "output_type": "stream",
     "text": [
      "Wall time: 39.5 s\n"
     ]
    },
    {
     "data": {
      "text/plain": [
       "LogisticRegression(C=1.0, class_weight=None, dual=False, fit_intercept=True,\n",
       "                   intercept_scaling=1, l1_ratio=None, max_iter=100,\n",
       "                   multi_class='multinomial', n_jobs=-1, penalty='l2',\n",
       "                   random_state=None, solver='lbfgs', tol=0.0001, verbose=0,\n",
       "                   warm_start=False)"
      ]
     },
     "execution_count": 43,
     "metadata": {},
     "output_type": "execute_result"
    }
   ],
   "source": [
    "%%time\n",
    "# First create the base model to tune\n",
    "logreg = LogisticRegression(n_jobs=-1,solver='lbfgs',penalty='l2',multi_class='multinomial',class_weight=None)\n",
    "\n",
    "# Fit the random search model\n",
    "logreg.fit(X_train, y_train)"
   ]
  },
  {
   "cell_type": "code",
   "execution_count": 44,
   "metadata": {},
   "outputs": [
    {
     "name": "stdout",
     "output_type": "stream",
     "text": [
      "Test Accuracy 93.45128865273479\n"
     ]
    }
   ],
   "source": [
    "y_pred_log_test = logreg.predict(X_test)\n",
    "e=accuracy_score(y_pred_log_test, y_test)*100\n",
    "print ('Test Accuracy',e)"
   ]
  },
  {
   "cell_type": "code",
   "execution_count": 45,
   "metadata": {},
   "outputs": [
    {
     "name": "stdout",
     "output_type": "stream",
     "text": [
      "Train Accuracy 97.52403385281148\n"
     ]
    }
   ],
   "source": [
    "y_pred_log_train = logreg.predict(X_train)\n",
    "f=accuracy_score(y_pred_log_train, y_train)*100\n",
    "print ('Train Accuracy',f)"
   ]
  },
  {
   "cell_type": "code",
   "execution_count": 46,
   "metadata": {},
   "outputs": [
    {
     "data": {
      "image/png": "[encoded data removed]",
      "text/plain": [
       "<Figure size 432x288 with 2 Axes>"
      ]
     },
     "metadata": {
      "needs_background": "light"
     },
     "output_type": "display_data"
    }
   ],
   "source": [
    "# Test Confusion Matrix\n",
    "confusion_matrix(y_test, y_pred_log_test, target_names = ['b','e','m','t']).grid(False)"
   ]
  },
  {
   "cell_type": "code",
   "execution_count": 47,
   "metadata": {},
   "outputs": [
    {
     "name": "stdout",
     "output_type": "stream",
     "text": [
      "              precision    recall  f1-score   support\n",
      "\n",
      "           0       0.96      0.96      0.96      9149\n",
      "           1       0.91      0.91      0.91      9148\n",
      "           2       0.92      0.92      0.92      9109\n",
      "           3       0.95      0.95      0.95      9105\n",
      "\n",
      "    accuracy                           0.93     36511\n",
      "   macro avg       0.93      0.93      0.93     36511\n",
      "weighted avg       0.93      0.93      0.93     36511\n",
      "\n"
     ]
    }
   ],
   "source": [
    "print(classification_report(y_test, y_pred_log_test))"
   ]
  },
  {
   "cell_type": "markdown",
   "metadata": {},
   "source": [
    "SGD Classifier"
   ]
  },
  {
   "cell_type": "code",
   "execution_count": 48,
   "metadata": {},
   "outputs": [
    {
     "data": {
      "text/plain": [
       "SGDClassifier(alpha=0.0001, average=False, class_weight='balanced',\n",
       "              early_stopping=False, epsilon=0.1, eta0=0.0, fit_intercept=True,\n",
       "              l1_ratio=0.15, learning_rate='optimal', loss='hinge', max_iter=50,\n",
       "              n_iter_no_change=5, n_jobs=-1, penalty='l2', power_t=0.5,\n",
       "              random_state=None, shuffle=True, tol=0.001,\n",
       "              validation_fraction=0.1, verbose=0, warm_start=False)"
      ]
     },
     "execution_count": 48,
     "metadata": {},
     "output_type": "execute_result"
    }
   ],
   "source": [
    "sgd_search = SGDClassifier(n_jobs=-1, max_iter=50,alpha=0.0001,class_weight='balanced')\n",
    "sgd_search.fit(X_train, y_train)"
   ]
  },
  {
   "cell_type": "code",
   "execution_count": 49,
   "metadata": {},
   "outputs": [
    {
     "name": "stdout",
     "output_type": "stream",
     "text": [
      "Test Accuracy 93.49784996302483\n",
      "Train Accuracy 95.24595327435567\n",
      "Cross Validation Accuracy 93.61356720303142\n"
     ]
    }
   ],
   "source": [
    "c=accuracy_score(y_test, sgd_search.predict(X_test))*100\n",
    "print ('Test Accuracy',c)\n",
    "\n",
    "d=accuracy_score(y_train, sgd_search.predict(X_train))*100\n",
    "print ('Train Accuracy',d)\n",
    "\n",
    "results_sgd_cv = cross_val_score(sgd_search, X_train, y_train, cv=10)\n",
    "print('Cross Validation Accuracy',results_sgd_cv.mean()*100)"
   ]
  },
  {
   "cell_type": "code",
   "execution_count": 50,
   "metadata": {},
   "outputs": [
    {
     "data": {
      "image/png": "[encoded data removed]",
      "text/plain": [
       "<Figure size 432x288 with 2 Axes>"
      ]
     },
     "metadata": {
      "needs_background": "light"
     },
     "output_type": "display_data"
    }
   ],
   "source": [
    "# Test Confusion Matrix\n",
    "confusion_matrix(y_test, sgd_search.predict(X_test), target_names = ['b','e','m','t']).grid(False)"
   ]
  },
  {
   "cell_type": "code",
   "execution_count": 51,
   "metadata": {},
   "outputs": [
    {
     "data": {
      "image/png": "[encoded data removed]",
      "text/plain": [
       "<Figure size 432x288 with 2 Axes>"
      ]
     },
     "metadata": {
      "needs_background": "light"
     },
     "output_type": "display_data"
    }
   ],
   "source": [
    "# Train Confusion Matrix\n",
    "confusion_matrix(y_train, sgd_search.predict(X_train), target_names = ['b','e','m','t']).grid(False)"
   ]
  },
  {
   "cell_type": "code",
   "execution_count": 52,
   "metadata": {},
   "outputs": [
    {
     "name": "stdout",
     "output_type": "stream",
     "text": [
      "              precision    recall  f1-score   support\n",
      "\n",
      "           0       0.96      0.96      0.96      9149\n",
      "           1       0.91      0.90      0.91      9148\n",
      "           2       0.92      0.92      0.92      9109\n",
      "           3       0.95      0.95      0.95      9105\n",
      "\n",
      "    accuracy                           0.93     36511\n",
      "   macro avg       0.93      0.93      0.93     36511\n",
      "weighted avg       0.93      0.93      0.93     36511\n",
      "\n"
     ]
    }
   ],
   "source": [
    "print(classification_report(y_test,sgd_search.predict(X_test)))"
   ]
  },
  {
   "cell_type": "code",
   "execution_count": 53,
   "metadata": {},
   "outputs": [],
   "source": [
    "#b= y_test + \" \" + sgd_search.predict(X_test) + \" \""
   ]
  },
  {
   "cell_type": "code",
   "execution_count": 54,
   "metadata": {},
   "outputs": [],
   "source": [
    "#b.to_csv('labelcv.csv')"
   ]
  },
  {
   "cell_type": "code",
   "execution_count": 55,
   "metadata": {},
   "outputs": [],
   "source": [
    "#X_test"
   ]
  },
  {
   "cell_type": "code",
   "execution_count": 56,
   "metadata": {},
   "outputs": [],
   "source": [
    "#X_test.to_csv('textcv.csv')"
   ]
  },
  {
   "cell_type": "code",
   "execution_count": 57,
   "metadata": {},
   "outputs": [
    {
     "name": "stdout",
     "output_type": "stream",
     "text": [
      "91.33047700780604\n",
      "91.3313595465568\n",
      "93.49863966639163\n"
     ]
    }
   ],
   "source": [
    "from sklearn import metrics\n",
    "\n",
    "bac=balanced_accuracy_score(y_test,sgd_search.predict(X_test))*100\n",
    "c_k_s=cohen_kappa_score(y_test,sgd_search.predict(X_test))*100\n",
    "mc=matthews_corrcoef(y_test,sgd_search.predict(X_test))*100\n",
    "\n",
    "print(c_k_s)\n",
    "print(mc)\n",
    "print(bac)"
   ]
  }
 ],
 "metadata": {
  "kernelspec": {
   "display_name": "Python 3",
   "language": "python",
   "name": "python3"
  },
  "language_info": {
   "codemirror_mode": {
    "name": "ipython",
    "version": 3
   },
   "file_extension": ".py",
   "mimetype": "text/x-python",
   "name": "python",
   "nbconvert_exporter": "python",
   "pygments_lexer": "ipython3",
   "version": "3.7.1"
  }
 },
 "nbformat": 4,
 "nbformat_minor": 4
}
