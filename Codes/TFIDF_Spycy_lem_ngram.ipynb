{
 "cells": [
  {
   "cell_type": "markdown",
   "metadata": {},
   "source": [
    "# Classification using TF-IDF"
   ]
  },
  {
   "cell_type": "code",
   "execution_count": 1,
   "metadata": {},
   "outputs": [],
   "source": [
    "#Importing python packages\n",
    "import numpy as np\n",
    "import pandas as pd\n",
    "import re\n",
    "import string\n",
    "\n",
    "%matplotlib inline\n",
    "import matplotlib.pyplot as plt\n",
    "import seaborn as sns\n",
    "\n",
    "from sklearn.model_selection import train_test_split, GridSearchCV\n",
    "from sklearn_evaluation.plot import confusion_matrix\n",
    "from sklearn.feature_extraction.text import TfidfVectorizer\n",
    "from sklearn.base import TransformerMixin\n",
    "from sklearn.metrics import accuracy_score, recall_score, plot_confusion_matrix\n",
    "from sklearn.linear_model import LogisticRegression\n",
    "from sklearn.multiclass import OneVsRestClassifier\n",
    "from sklearn.ensemble import RandomForestClassifier, GradientBoostingClassifier\n",
    "from sklearn.metrics import classification_report\n",
    "from sklearn.model_selection import cross_val_score\n",
    "from sklearn.metrics import precision_recall_fscore_support as score\n",
    "from sklearn.naive_bayes import MultinomialNB\n",
    "from sklearn.model_selection import RandomizedSearchCV\n",
    "\n",
    "import time\n",
    "import spacy\n",
    "from spacy.lang.en.stop_words import STOP_WORDS\n",
    "from spacy.lang.en import English"
   ]
  },
  {
   "cell_type": "code",
   "execution_count": 2,
   "metadata": {},
   "outputs": [
    {
     "data": {
      "text/html": [
       "<div>\n",
       "<style scoped>\n",
       "    .dataframe tbody tr th:only-of-type {\n",
       "        vertical-align: middle;\n",
       "    }\n",
       "\n",
       "    .dataframe tbody tr th {\n",
       "        vertical-align: top;\n",
       "    }\n",
       "\n",
       "    .dataframe thead th {\n",
       "        text-align: right;\n",
       "    }\n",
       "</style>\n",
       "<table border=\"1\" class=\"dataframe\">\n",
       "  <thead>\n",
       "    <tr style=\"text-align: right;\">\n",
       "      <th></th>\n",
       "      <th>ID</th>\n",
       "      <th>TITLE</th>\n",
       "      <th>URL</th>\n",
       "      <th>PUBLISHER</th>\n",
       "      <th>CATEGORY</th>\n",
       "      <th>STORY</th>\n",
       "      <th>HOSTNAME</th>\n",
       "      <th>TIMESTAMP</th>\n",
       "    </tr>\n",
       "  </thead>\n",
       "  <tbody>\n",
       "    <tr>\n",
       "      <th>0</th>\n",
       "      <td>1</td>\n",
       "      <td>Fed official says weak data caused by weather,...</td>\n",
       "      <td>http://www.latimes.com/business/money/la-fi-mo...</td>\n",
       "      <td>Los Angeles Times</td>\n",
       "      <td>b</td>\n",
       "      <td>ddUyU0VZz0BRneMioxUPQVP6sIxvM</td>\n",
       "      <td>www.latimes.com</td>\n",
       "      <td>1.394470e+12</td>\n",
       "    </tr>\n",
       "    <tr>\n",
       "      <th>1</th>\n",
       "      <td>2</td>\n",
       "      <td>Fed's Charles Plosser sees high bar for change...</td>\n",
       "      <td>http://www.livemint.com/Politics/H2EvwJSK2VE6O...</td>\n",
       "      <td>Livemint</td>\n",
       "      <td>b</td>\n",
       "      <td>ddUyU0VZz0BRneMioxUPQVP6sIxvM</td>\n",
       "      <td>www.livemint.com</td>\n",
       "      <td>1.394470e+12</td>\n",
       "    </tr>\n",
       "    <tr>\n",
       "      <th>2</th>\n",
       "      <td>3</td>\n",
       "      <td>US open: Stocks fall after Fed official hints ...</td>\n",
       "      <td>http://www.ifamagazine.com/news/us-open-stocks...</td>\n",
       "      <td>IFA Magazine</td>\n",
       "      <td>b</td>\n",
       "      <td>ddUyU0VZz0BRneMioxUPQVP6sIxvM</td>\n",
       "      <td>www.ifamagazine.com</td>\n",
       "      <td>1.394470e+12</td>\n",
       "    </tr>\n",
       "    <tr>\n",
       "      <th>3</th>\n",
       "      <td>4</td>\n",
       "      <td>Fed risks falling 'behind the curve', Charles ...</td>\n",
       "      <td>http://www.ifamagazine.com/news/fed-risks-fall...</td>\n",
       "      <td>IFA Magazine</td>\n",
       "      <td>b</td>\n",
       "      <td>ddUyU0VZz0BRneMioxUPQVP6sIxvM</td>\n",
       "      <td>www.ifamagazine.com</td>\n",
       "      <td>1.394470e+12</td>\n",
       "    </tr>\n",
       "    <tr>\n",
       "      <th>4</th>\n",
       "      <td>5</td>\n",
       "      <td>Fed's Plosser: Nasty Weather Has Curbed Job Gr...</td>\n",
       "      <td>http://www.moneynews.com/Economy/federal-reser...</td>\n",
       "      <td>Moneynews</td>\n",
       "      <td>b</td>\n",
       "      <td>ddUyU0VZz0BRneMioxUPQVP6sIxvM</td>\n",
       "      <td>www.moneynews.com</td>\n",
       "      <td>1.394470e+12</td>\n",
       "    </tr>\n",
       "  </tbody>\n",
       "</table>\n",
       "</div>"
      ],
      "text/plain": [
       "   ID                                              TITLE  \\\n",
       "0   1  Fed official says weak data caused by weather,...   \n",
       "1   2  Fed's Charles Plosser sees high bar for change...   \n",
       "2   3  US open: Stocks fall after Fed official hints ...   \n",
       "3   4  Fed risks falling 'behind the curve', Charles ...   \n",
       "4   5  Fed's Plosser: Nasty Weather Has Curbed Job Gr...   \n",
       "\n",
       "                                                 URL          PUBLISHER  \\\n",
       "0  http://www.latimes.com/business/money/la-fi-mo...  Los Angeles Times   \n",
       "1  http://www.livemint.com/Politics/H2EvwJSK2VE6O...           Livemint   \n",
       "2  http://www.ifamagazine.com/news/us-open-stocks...       IFA Magazine   \n",
       "3  http://www.ifamagazine.com/news/fed-risks-fall...       IFA Magazine   \n",
       "4  http://www.moneynews.com/Economy/federal-reser...          Moneynews   \n",
       "\n",
       "  CATEGORY                          STORY             HOSTNAME     TIMESTAMP  \n",
       "0        b  ddUyU0VZz0BRneMioxUPQVP6sIxvM      www.latimes.com  1.394470e+12  \n",
       "1        b  ddUyU0VZz0BRneMioxUPQVP6sIxvM     www.livemint.com  1.394470e+12  \n",
       "2        b  ddUyU0VZz0BRneMioxUPQVP6sIxvM  www.ifamagazine.com  1.394470e+12  \n",
       "3        b  ddUyU0VZz0BRneMioxUPQVP6sIxvM  www.ifamagazine.com  1.394470e+12  \n",
       "4        b  ddUyU0VZz0BRneMioxUPQVP6sIxvM    www.moneynews.com  1.394470e+12  "
      ]
     },
     "execution_count": 2,
     "metadata": {},
     "output_type": "execute_result"
    }
   ],
   "source": [
    "#Importing data file\n",
    "news = pd.read_csv('News Aggregator/uci-news-aggregator.csv')\n",
    "news.head()"
   ]
  },
  {
   "cell_type": "code",
   "execution_count": 3,
   "metadata": {},
   "outputs": [
    {
     "data": {
      "text/plain": [
       "ID           422406\n",
       "TITLE        422406\n",
       "URL          422406\n",
       "PUBLISHER    422404\n",
       "CATEGORY     422406\n",
       "STORY        422406\n",
       "HOSTNAME     422406\n",
       "TIMESTAMP    422406\n",
       "dtype: int64"
      ]
     },
     "execution_count": 3,
     "metadata": {},
     "output_type": "execute_result"
    }
   ],
   "source": [
    "news.count()"
   ]
  },
  {
   "cell_type": "code",
   "execution_count": 4,
   "metadata": {},
   "outputs": [
    {
     "data": {
      "text/plain": [
       "e    152462\n",
       "b    115964\n",
       "t    108341\n",
       "m     45639\n",
       "Name: CATEGORY, dtype: int64"
      ]
     },
     "execution_count": 4,
     "metadata": {},
     "output_type": "execute_result"
    }
   ],
   "source": [
    "news.CATEGORY.value_counts()"
   ]
  },
  {
   "cell_type": "code",
   "execution_count": 5,
   "metadata": {},
   "outputs": [
    {
     "data": {
      "text/html": [
       "<div>\n",
       "<style scoped>\n",
       "    .dataframe tbody tr th:only-of-type {\n",
       "        vertical-align: middle;\n",
       "    }\n",
       "\n",
       "    .dataframe tbody tr th {\n",
       "        vertical-align: top;\n",
       "    }\n",
       "\n",
       "    .dataframe thead th {\n",
       "        text-align: right;\n",
       "    }\n",
       "</style>\n",
       "<table border=\"1\" class=\"dataframe\">\n",
       "  <thead>\n",
       "    <tr style=\"text-align: right;\">\n",
       "      <th></th>\n",
       "      <th>ID</th>\n",
       "      <th>TITLE</th>\n",
       "      <th>URL</th>\n",
       "      <th>PUBLISHER</th>\n",
       "      <th>CATEGORY</th>\n",
       "      <th>STORY</th>\n",
       "      <th>HOSTNAME</th>\n",
       "      <th>TIMESTAMP</th>\n",
       "    </tr>\n",
       "  </thead>\n",
       "  <tbody>\n",
       "    <tr>\n",
       "      <th>0</th>\n",
       "      <td>1</td>\n",
       "      <td>Fed official says weak data caused by weather,...</td>\n",
       "      <td>http://www.latimes.com/business/money/la-fi-mo...</td>\n",
       "      <td>Los Angeles Times</td>\n",
       "      <td>b</td>\n",
       "      <td>ddUyU0VZz0BRneMioxUPQVP6sIxvM</td>\n",
       "      <td>www.latimes.com</td>\n",
       "      <td>1.394470e+12</td>\n",
       "    </tr>\n",
       "    <tr>\n",
       "      <th>1</th>\n",
       "      <td>2</td>\n",
       "      <td>Fed's Charles Plosser sees high bar for change...</td>\n",
       "      <td>http://www.livemint.com/Politics/H2EvwJSK2VE6O...</td>\n",
       "      <td>Livemint</td>\n",
       "      <td>b</td>\n",
       "      <td>ddUyU0VZz0BRneMioxUPQVP6sIxvM</td>\n",
       "      <td>www.livemint.com</td>\n",
       "      <td>1.394470e+12</td>\n",
       "    </tr>\n",
       "    <tr>\n",
       "      <th>2</th>\n",
       "      <td>3</td>\n",
       "      <td>US open: Stocks fall after Fed official hints ...</td>\n",
       "      <td>http://www.ifamagazine.com/news/us-open-stocks...</td>\n",
       "      <td>IFA Magazine</td>\n",
       "      <td>b</td>\n",
       "      <td>ddUyU0VZz0BRneMioxUPQVP6sIxvM</td>\n",
       "      <td>www.ifamagazine.com</td>\n",
       "      <td>1.394470e+12</td>\n",
       "    </tr>\n",
       "    <tr>\n",
       "      <th>3</th>\n",
       "      <td>4</td>\n",
       "      <td>Fed risks falling 'behind the curve', Charles ...</td>\n",
       "      <td>http://www.ifamagazine.com/news/fed-risks-fall...</td>\n",
       "      <td>IFA Magazine</td>\n",
       "      <td>b</td>\n",
       "      <td>ddUyU0VZz0BRneMioxUPQVP6sIxvM</td>\n",
       "      <td>www.ifamagazine.com</td>\n",
       "      <td>1.394470e+12</td>\n",
       "    </tr>\n",
       "    <tr>\n",
       "      <th>4</th>\n",
       "      <td>5</td>\n",
       "      <td>Fed's Plosser: Nasty Weather Has Curbed Job Gr...</td>\n",
       "      <td>http://www.moneynews.com/Economy/federal-reser...</td>\n",
       "      <td>Moneynews</td>\n",
       "      <td>b</td>\n",
       "      <td>ddUyU0VZz0BRneMioxUPQVP6sIxvM</td>\n",
       "      <td>www.moneynews.com</td>\n",
       "      <td>1.394470e+12</td>\n",
       "    </tr>\n",
       "  </tbody>\n",
       "</table>\n",
       "</div>"
      ],
      "text/plain": [
       "   ID                                              TITLE  \\\n",
       "0   1  Fed official says weak data caused by weather,...   \n",
       "1   2  Fed's Charles Plosser sees high bar for change...   \n",
       "2   3  US open: Stocks fall after Fed official hints ...   \n",
       "3   4  Fed risks falling 'behind the curve', Charles ...   \n",
       "4   5  Fed's Plosser: Nasty Weather Has Curbed Job Gr...   \n",
       "\n",
       "                                                 URL          PUBLISHER  \\\n",
       "0  http://www.latimes.com/business/money/la-fi-mo...  Los Angeles Times   \n",
       "1  http://www.livemint.com/Politics/H2EvwJSK2VE6O...           Livemint   \n",
       "2  http://www.ifamagazine.com/news/us-open-stocks...       IFA Magazine   \n",
       "3  http://www.ifamagazine.com/news/fed-risks-fall...       IFA Magazine   \n",
       "4  http://www.moneynews.com/Economy/federal-reser...          Moneynews   \n",
       "\n",
       "  CATEGORY                          STORY             HOSTNAME     TIMESTAMP  \n",
       "0        b  ddUyU0VZz0BRneMioxUPQVP6sIxvM      www.latimes.com  1.394470e+12  \n",
       "1        b  ddUyU0VZz0BRneMioxUPQVP6sIxvM     www.livemint.com  1.394470e+12  \n",
       "2        b  ddUyU0VZz0BRneMioxUPQVP6sIxvM  www.ifamagazine.com  1.394470e+12  \n",
       "3        b  ddUyU0VZz0BRneMioxUPQVP6sIxvM  www.ifamagazine.com  1.394470e+12  \n",
       "4        b  ddUyU0VZz0BRneMioxUPQVP6sIxvM    www.moneynews.com  1.394470e+12  "
      ]
     },
     "execution_count": 5,
     "metadata": {},
     "output_type": "execute_result"
    }
   ],
   "source": [
    "news.head()"
   ]
  },
  {
   "cell_type": "code",
   "execution_count": 6,
   "metadata": {},
   "outputs": [
    {
     "data": {
      "text/html": [
       "<div>\n",
       "<style scoped>\n",
       "    .dataframe tbody tr th:only-of-type {\n",
       "        vertical-align: middle;\n",
       "    }\n",
       "\n",
       "    .dataframe tbody tr th {\n",
       "        vertical-align: top;\n",
       "    }\n",
       "\n",
       "    .dataframe thead th {\n",
       "        text-align: right;\n",
       "    }\n",
       "</style>\n",
       "<table border=\"1\" class=\"dataframe\">\n",
       "  <thead>\n",
       "    <tr style=\"text-align: right;\">\n",
       "      <th></th>\n",
       "      <th>ID</th>\n",
       "      <th>TITLE</th>\n",
       "      <th>URL</th>\n",
       "      <th>PUBLISHER</th>\n",
       "      <th>CATEGORY</th>\n",
       "      <th>STORY</th>\n",
       "      <th>HOSTNAME</th>\n",
       "      <th>TIMESTAMP</th>\n",
       "    </tr>\n",
       "  </thead>\n",
       "  <tbody>\n",
       "    <tr>\n",
       "      <th>422401</th>\n",
       "      <td>422933</td>\n",
       "      <td>Surgeons to remove 4-year-old's rib to rebuild...</td>\n",
       "      <td>http://www.cbs3springfield.com/story/26378648/...</td>\n",
       "      <td>WSHM-TV</td>\n",
       "      <td>m</td>\n",
       "      <td>dpcLMoJD69UYMXMxaoEFnWql9YjQM</td>\n",
       "      <td>www.cbs3springfield.com</td>\n",
       "      <td>1.409230e+12</td>\n",
       "    </tr>\n",
       "    <tr>\n",
       "      <th>422402</th>\n",
       "      <td>422934</td>\n",
       "      <td>Boy to have surgery on esophagus after battery...</td>\n",
       "      <td>http://www.wlwt.com/news/boy-to-have-surgery-o...</td>\n",
       "      <td>WLWT Cincinnati</td>\n",
       "      <td>m</td>\n",
       "      <td>dpcLMoJD69UYMXMxaoEFnWql9YjQM</td>\n",
       "      <td>www.wlwt.com</td>\n",
       "      <td>1.409230e+12</td>\n",
       "    </tr>\n",
       "    <tr>\n",
       "      <th>422403</th>\n",
       "      <td>422935</td>\n",
       "      <td>Child who swallowed battery to have reconstruc...</td>\n",
       "      <td>http://www.newsnet5.com/news/local-news/child-...</td>\n",
       "      <td>NewsNet5.com</td>\n",
       "      <td>m</td>\n",
       "      <td>dpcLMoJD69UYMXMxaoEFnWql9YjQM</td>\n",
       "      <td>www.newsnet5.com</td>\n",
       "      <td>1.409230e+12</td>\n",
       "    </tr>\n",
       "    <tr>\n",
       "      <th>422404</th>\n",
       "      <td>422936</td>\n",
       "      <td>Phoenix boy undergoes surgery to repair throat...</td>\n",
       "      <td>http://www.wfsb.com/story/26368078/phoenix-boy...</td>\n",
       "      <td>WFSB</td>\n",
       "      <td>m</td>\n",
       "      <td>dpcLMoJD69UYMXMxaoEFnWql9YjQM</td>\n",
       "      <td>www.wfsb.com</td>\n",
       "      <td>1.409230e+12</td>\n",
       "    </tr>\n",
       "    <tr>\n",
       "      <th>422405</th>\n",
       "      <td>422937</td>\n",
       "      <td>Phoenix boy undergoes surgery to repair throat...</td>\n",
       "      <td>http://www.cbs3springfield.com/story/26368078/...</td>\n",
       "      <td>WSHM-TV</td>\n",
       "      <td>m</td>\n",
       "      <td>dpcLMoJD69UYMXMxaoEFnWql9YjQM</td>\n",
       "      <td>www.cbs3springfield.com</td>\n",
       "      <td>1.409230e+12</td>\n",
       "    </tr>\n",
       "  </tbody>\n",
       "</table>\n",
       "</div>"
      ],
      "text/plain": [
       "            ID                                              TITLE  \\\n",
       "422401  422933  Surgeons to remove 4-year-old's rib to rebuild...   \n",
       "422402  422934  Boy to have surgery on esophagus after battery...   \n",
       "422403  422935  Child who swallowed battery to have reconstruc...   \n",
       "422404  422936  Phoenix boy undergoes surgery to repair throat...   \n",
       "422405  422937  Phoenix boy undergoes surgery to repair throat...   \n",
       "\n",
       "                                                      URL        PUBLISHER  \\\n",
       "422401  http://www.cbs3springfield.com/story/26378648/...          WSHM-TV   \n",
       "422402  http://www.wlwt.com/news/boy-to-have-surgery-o...  WLWT Cincinnati   \n",
       "422403  http://www.newsnet5.com/news/local-news/child-...     NewsNet5.com   \n",
       "422404  http://www.wfsb.com/story/26368078/phoenix-boy...             WFSB   \n",
       "422405  http://www.cbs3springfield.com/story/26368078/...          WSHM-TV   \n",
       "\n",
       "       CATEGORY                          STORY                 HOSTNAME  \\\n",
       "422401        m  dpcLMoJD69UYMXMxaoEFnWql9YjQM  www.cbs3springfield.com   \n",
       "422402        m  dpcLMoJD69UYMXMxaoEFnWql9YjQM             www.wlwt.com   \n",
       "422403        m  dpcLMoJD69UYMXMxaoEFnWql9YjQM         www.newsnet5.com   \n",
       "422404        m  dpcLMoJD69UYMXMxaoEFnWql9YjQM             www.wfsb.com   \n",
       "422405        m  dpcLMoJD69UYMXMxaoEFnWql9YjQM  www.cbs3springfield.com   \n",
       "\n",
       "           TIMESTAMP  \n",
       "422401  1.409230e+12  \n",
       "422402  1.409230e+12  \n",
       "422403  1.409230e+12  \n",
       "422404  1.409230e+12  \n",
       "422405  1.409230e+12  "
      ]
     },
     "execution_count": 6,
     "metadata": {},
     "output_type": "execute_result"
    }
   ],
   "source": [
    "news.tail()"
   ]
  },
  {
   "cell_type": "code",
   "execution_count": 7,
   "metadata": {},
   "outputs": [],
   "source": [
    "#Converting categories as balanced\n",
    "num_of_categories = 45639 #45639\n",
    "shuffled = news.reindex(np.random.permutation(news.index))\n",
    "e = shuffled[shuffled['CATEGORY'] == 'e'][:num_of_categories]\n",
    "b = shuffled[shuffled['CATEGORY'] == 'b'][:num_of_categories]\n",
    "t = shuffled[shuffled['CATEGORY'] == 't'][:num_of_categories]\n",
    "m = shuffled[shuffled['CATEGORY'] == 'm'][:num_of_categories]\n",
    "concated = pd.concat([e,b,t,m], ignore_index=True)\n",
    "#Shuffle the dataset\n",
    "concated = concated.reindex(np.random.permutation(concated.index))"
   ]
  },
  {
   "cell_type": "code",
   "execution_count": 8,
   "metadata": {},
   "outputs": [
    {
     "data": {
      "text/plain": [
       "ID           182556\n",
       "TITLE        182556\n",
       "URL          182556\n",
       "PUBLISHER    182556\n",
       "CATEGORY     182556\n",
       "STORY        182556\n",
       "HOSTNAME     182556\n",
       "TIMESTAMP    182556\n",
       "dtype: int64"
      ]
     },
     "execution_count": 8,
     "metadata": {},
     "output_type": "execute_result"
    }
   ],
   "source": [
    "concated.count()"
   ]
  },
  {
   "cell_type": "code",
   "execution_count": 9,
   "metadata": {},
   "outputs": [
    {
     "data": {
      "text/plain": [
       "t    45639\n",
       "e    45639\n",
       "b    45639\n",
       "m    45639\n",
       "Name: CATEGORY, dtype: int64"
      ]
     },
     "execution_count": 9,
     "metadata": {},
     "output_type": "execute_result"
    }
   ],
   "source": [
    "concated.CATEGORY.value_counts()"
   ]
  },
  {
   "cell_type": "code",
   "execution_count": 10,
   "metadata": {},
   "outputs": [
    {
     "data": {
      "text/html": [
       "<div>\n",
       "<style scoped>\n",
       "    .dataframe tbody tr th:only-of-type {\n",
       "        vertical-align: middle;\n",
       "    }\n",
       "\n",
       "    .dataframe tbody tr th {\n",
       "        vertical-align: top;\n",
       "    }\n",
       "\n",
       "    .dataframe thead th {\n",
       "        text-align: right;\n",
       "    }\n",
       "</style>\n",
       "<table border=\"1\" class=\"dataframe\">\n",
       "  <thead>\n",
       "    <tr style=\"text-align: right;\">\n",
       "      <th></th>\n",
       "      <th>ID</th>\n",
       "      <th>TITLE</th>\n",
       "      <th>URL</th>\n",
       "      <th>PUBLISHER</th>\n",
       "      <th>CATEGORY</th>\n",
       "      <th>STORY</th>\n",
       "      <th>HOSTNAME</th>\n",
       "      <th>TIMESTAMP</th>\n",
       "    </tr>\n",
       "  </thead>\n",
       "  <tbody>\n",
       "    <tr>\n",
       "      <th>40268</th>\n",
       "      <td>89858</td>\n",
       "      <td>Peaches Geldof death 'not suspicious'</td>\n",
       "      <td>http://www.stuff.co.nz/entertainment/9915635/P...</td>\n",
       "      <td>Auckland stuff.co.nz</td>\n",
       "      <td>e</td>\n",
       "      <td>dbkX8-vtewxCqcMTbv2ELSzyqzFNM</td>\n",
       "      <td>www.stuff.co.nz</td>\n",
       "      <td>1.396940e+12</td>\n",
       "    </tr>\n",
       "    <tr>\n",
       "      <th>122700</th>\n",
       "      <td>224362</td>\n",
       "      <td>YouTube Makes $1B Play for Game Streaming Site...</td>\n",
       "      <td>http://newsok.com/youtube-makes-1b-play-for-ga...</td>\n",
       "      <td>NewsOK.com</td>\n",
       "      <td>t</td>\n",
       "      <td>d7ygfGk3Nqp8X4Mb77zfVrO2tAcXM</td>\n",
       "      <td>newsok.com</td>\n",
       "      <td>1.400580e+12</td>\n",
       "    </tr>\n",
       "    <tr>\n",
       "      <th>159665</th>\n",
       "      <td>55801</td>\n",
       "      <td>Alli Recall: Foreign Pills Found in Bottles of...</td>\n",
       "      <td>http://www.kolotv.com/home/headlines/Foreign-P...</td>\n",
       "      <td>KOLO</td>\n",
       "      <td>m</td>\n",
       "      <td>dl06z0LSB6LB4LM7M4_3GX6WUrvIM</td>\n",
       "      <td>www.kolotv.com</td>\n",
       "      <td>1.395970e+12</td>\n",
       "    </tr>\n",
       "    <tr>\n",
       "      <th>180407</th>\n",
       "      <td>28448</td>\n",
       "      <td>Woman told to 'cover up' in gym because toned ...</td>\n",
       "      <td>http://newsok.com/woman-told-to-cover-up-in-gy...</td>\n",
       "      <td>NewsOK.com</td>\n",
       "      <td>m</td>\n",
       "      <td>dHtARnI3D2cdbyMcD3S_v2qOP1nFM</td>\n",
       "      <td>newsok.com</td>\n",
       "      <td>1.395340e+12</td>\n",
       "    </tr>\n",
       "    <tr>\n",
       "      <th>83294</th>\n",
       "      <td>230339</td>\n",
       "      <td>Moscow says Russian troops leaving positions n...</td>\n",
       "      <td>http://www.dailysabah.com/europe/2014/05/21/mo...</td>\n",
       "      <td>Daily Sabah</td>\n",
       "      <td>b</td>\n",
       "      <td>dUMUefLsWyac8iMK0AjZjjzMKcA8M</td>\n",
       "      <td>www.dailysabah.com</td>\n",
       "      <td>1.400680e+12</td>\n",
       "    </tr>\n",
       "  </tbody>\n",
       "</table>\n",
       "</div>"
      ],
      "text/plain": [
       "            ID                                              TITLE  \\\n",
       "40268    89858              Peaches Geldof death 'not suspicious'   \n",
       "122700  224362  YouTube Makes $1B Play for Game Streaming Site...   \n",
       "159665   55801  Alli Recall: Foreign Pills Found in Bottles of...   \n",
       "180407   28448  Woman told to 'cover up' in gym because toned ...   \n",
       "83294   230339  Moscow says Russian troops leaving positions n...   \n",
       "\n",
       "                                                      URL  \\\n",
       "40268   http://www.stuff.co.nz/entertainment/9915635/P...   \n",
       "122700  http://newsok.com/youtube-makes-1b-play-for-ga...   \n",
       "159665  http://www.kolotv.com/home/headlines/Foreign-P...   \n",
       "180407  http://newsok.com/woman-told-to-cover-up-in-gy...   \n",
       "83294   http://www.dailysabah.com/europe/2014/05/21/mo...   \n",
       "\n",
       "                   PUBLISHER CATEGORY                          STORY  \\\n",
       "40268   Auckland stuff.co.nz        e  dbkX8-vtewxCqcMTbv2ELSzyqzFNM   \n",
       "122700            NewsOK.com        t  d7ygfGk3Nqp8X4Mb77zfVrO2tAcXM   \n",
       "159665                  KOLO        m  dl06z0LSB6LB4LM7M4_3GX6WUrvIM   \n",
       "180407            NewsOK.com        m  dHtARnI3D2cdbyMcD3S_v2qOP1nFM   \n",
       "83294            Daily Sabah        b  dUMUefLsWyac8iMK0AjZjjzMKcA8M   \n",
       "\n",
       "                  HOSTNAME     TIMESTAMP  \n",
       "40268      www.stuff.co.nz  1.396940e+12  \n",
       "122700          newsok.com  1.400580e+12  \n",
       "159665      www.kolotv.com  1.395970e+12  \n",
       "180407          newsok.com  1.395340e+12  \n",
       "83294   www.dailysabah.com  1.400680e+12  "
      ]
     },
     "execution_count": 10,
     "metadata": {},
     "output_type": "execute_result"
    }
   ],
   "source": [
    "concated.head()"
   ]
  },
  {
   "cell_type": "code",
   "execution_count": 11,
   "metadata": {},
   "outputs": [
    {
     "data": {
      "text/plain": [
       "ID           0\n",
       "TITLE        0\n",
       "URL          0\n",
       "PUBLISHER    0\n",
       "CATEGORY     0\n",
       "STORY        0\n",
       "HOSTNAME     0\n",
       "TIMESTAMP    0\n",
       "dtype: int64"
      ]
     },
     "execution_count": 11,
     "metadata": {},
     "output_type": "execute_result"
    }
   ],
   "source": [
    "# remove duplicates\n",
    "concated = concated.drop_duplicates()\n",
    "concated.isnull().sum()"
   ]
  },
  {
   "cell_type": "code",
   "execution_count": 12,
   "metadata": {},
   "outputs": [
    {
     "name": "stdout",
     "output_type": "stream",
     "text": [
      "<class 'pandas.core.frame.DataFrame'>\n",
      "Int64Index: 182556 entries, 40268 to 15280\n",
      "Data columns (total 8 columns):\n",
      " #   Column     Non-Null Count   Dtype  \n",
      "---  ------     --------------   -----  \n",
      " 0   ID         182556 non-null  int64  \n",
      " 1   TITLE      182556 non-null  object \n",
      " 2   URL        182556 non-null  object \n",
      " 3   PUBLISHER  182556 non-null  object \n",
      " 4   CATEGORY   182556 non-null  object \n",
      " 5   STORY      182556 non-null  object \n",
      " 6   HOSTNAME   182556 non-null  object \n",
      " 7   TIMESTAMP  182556 non-null  float64\n",
      "dtypes: float64(1), int64(1), object(6)\n",
      "memory usage: 12.5+ MB\n"
     ]
    }
   ],
   "source": [
    "concated.info()"
   ]
  },
  {
   "cell_type": "code",
   "execution_count": 13,
   "metadata": {},
   "outputs": [
    {
     "name": "stdout",
     "output_type": "stream",
     "text": [
      "<class 'pandas.core.frame.DataFrame'>\n",
      "Int64Index: 182556 entries, 40268 to 15280\n",
      "Data columns (total 9 columns):\n",
      " #   Column     Non-Null Count   Dtype  \n",
      "---  ------     --------------   -----  \n",
      " 0   ID         182556 non-null  int64  \n",
      " 1   TITLE      182556 non-null  object \n",
      " 2   URL        182556 non-null  object \n",
      " 3   PUBLISHER  182556 non-null  object \n",
      " 4   CATEGORY   182556 non-null  object \n",
      " 5   STORY      182556 non-null  object \n",
      " 6   HOSTNAME   182556 non-null  object \n",
      " 7   TIMESTAMP  182556 non-null  float64\n",
      " 8   text       182556 non-null  object \n",
      "dtypes: float64(1), int64(1), object(7)\n",
      "memory usage: 13.9+ MB\n"
     ]
    }
   ],
   "source": [
    "#Addting 2 columns as feature\n",
    "concated['text'] = concated.TITLE + \" \" + concated.PUBLISHER\n",
    "concated.info()"
   ]
  },
  {
   "cell_type": "code",
   "execution_count": 14,
   "metadata": {},
   "outputs": [],
   "source": [
    "# Drop null\n",
    "concated= concated.dropna(subset=['text'])"
   ]
  },
  {
   "cell_type": "code",
   "execution_count": 15,
   "metadata": {},
   "outputs": [
    {
     "name": "stdout",
     "output_type": "stream",
     "text": [
      "<class 'pandas.core.frame.DataFrame'>\n",
      "Int64Index: 182556 entries, 40268 to 15280\n",
      "Data columns (total 9 columns):\n",
      " #   Column     Non-Null Count   Dtype  \n",
      "---  ------     --------------   -----  \n",
      " 0   ID         182556 non-null  int64  \n",
      " 1   TITLE      182556 non-null  object \n",
      " 2   URL        182556 non-null  object \n",
      " 3   PUBLISHER  182556 non-null  object \n",
      " 4   CATEGORY   182556 non-null  object \n",
      " 5   STORY      182556 non-null  object \n",
      " 6   HOSTNAME   182556 non-null  object \n",
      " 7   TIMESTAMP  182556 non-null  float64\n",
      " 8   text       182556 non-null  object \n",
      "dtypes: float64(1), int64(1), object(7)\n",
      "memory usage: 13.9+ MB\n"
     ]
    }
   ],
   "source": [
    "concated.info()"
   ]
  },
  {
   "cell_type": "code",
   "execution_count": 16,
   "metadata": {},
   "outputs": [
    {
     "data": {
      "text/plain": [
       "'Netflix Does a Bad Deal With Verizon Motley Fool'"
      ]
     },
     "execution_count": 16,
     "metadata": {},
     "output_type": "execute_result"
    }
   ],
   "source": [
    "concated.text.iloc[86]"
   ]
  },
  {
   "cell_type": "code",
   "execution_count": 17,
   "metadata": {},
   "outputs": [],
   "source": [
    "concated['text'].dropna(inplace=True)"
   ]
  },
  {
   "cell_type": "code",
   "execution_count": 18,
   "metadata": {},
   "outputs": [
    {
     "data": {
      "text/plain": [
       "'Netflix Does a Bad Deal With Verizon Motley Fool'"
      ]
     },
     "execution_count": 18,
     "metadata": {},
     "output_type": "execute_result"
    }
   ],
   "source": [
    "concated.text.iloc[86]"
   ]
  },
  {
   "cell_type": "code",
   "execution_count": 19,
   "metadata": {},
   "outputs": [],
   "source": [
    "symbols = [',', '.', '\"', ':', ')', '(', '-', '!', '?', '|', \n",
    "           ';', \"'\", '$', '&', '/', '[', ']', '>', '%', '=', \n",
    "           '#', '*', '+', '\\\\', '•',  '~', '@', '£', '·', '_', \n",
    "           '{', '}', '©', '^', '®', '`',  '<', '→', '°', '€', \n",
    "           '™', '›',  '♥', '←', '×', '§', '″', '′', 'Â', '█', \n",
    "           '½', 'à', '…', '“', '★', '”', '–', '●', 'â', '►', \n",
    "           '−', '¢', '²', '¬', '░', '¶', '↑', '±', '¿', '▾', \n",
    "           '═', '¦', '║', '―', '¥', '▓', '—', '‹', '─', '▒', '：', \n",
    "           '¼', '⊕', '▼', '▪', '†', '■', '’', '▀', '¨', '▄', '♫', \n",
    "           '☆', 'é', '¯', '♦', '¤', '▲', 'è', '¸', '¾', 'Ã', '⋅', \n",
    "           '‘', '∞', '∙', '）', '↓', '、', '│', '（', '»', '，', '♪', \n",
    "           '╩', '╚', '³', '・', '╦', '╣', '╔', '╗', '▬', '❤', 'ï', 'Ø', \n",
    "           '¹', '≤', '‡', '√', ]"
   ]
  },
  {
   "cell_type": "code",
   "execution_count": 20,
   "metadata": {},
   "outputs": [],
   "source": [
    "def clean_symbol(text):\n",
    "    text = str(text)\n",
    "    for symbol in symbols:\n",
    "        text = text.replace(symbol, '')\n",
    "    return text\n",
    "\n",
    "# remove symbols and punctuations \n",
    "concated['text'] = concated['text'].apply(lambda x: clean_symbol(x))"
   ]
  },
  {
   "cell_type": "code",
   "execution_count": 21,
   "metadata": {},
   "outputs": [],
   "source": [
    "def clean_text(s):\n",
    "    s = re.sub(\"[0-9]+\", \"\",s)\n",
    "    s = re.sub(' +',' ', s)\n",
    "    return s\n",
    "\n",
    "# remove numbers and special characters\n",
    "concated['text'] = [clean_text(s) for s in concated['text']]"
   ]
  },
  {
   "cell_type": "code",
   "execution_count": 22,
   "metadata": {},
   "outputs": [
    {
     "data": {
      "text/plain": [
       "'Netflix Does a Bad Deal With Verizon Motley Fool'"
      ]
     },
     "execution_count": 22,
     "metadata": {},
     "output_type": "execute_result"
    }
   ],
   "source": [
    "concated.text.iloc[86]"
   ]
  },
  {
   "cell_type": "code",
   "execution_count": 23,
   "metadata": {},
   "outputs": [],
   "source": [
    "# Dictionary of short form words and mispellings\n",
    "short_forms_dict = {\"ain't\": \"is not\", \"aren't\": \"are not\",\"can't\": \"cannot\", \n",
    "                    \"'cause\": \"because\", \"could've\": \"could have\", \"couldn't\": \"could not\", \n",
    "                    \"didn't\": \"did not\",  \"doesn't\": \"does not\", \"don't\": \"do not\", \"hadn't\": \"had not\", \n",
    "                    \"hasn't\": \"has not\", \"haven't\": \"have not\", \"he'd\": \"he would\",\"he'll\": \"he will\", \n",
    "                    \"he's\": \"he is\", \"how'd\": \"how did\", \"how'd'y\": \"how do you\", \"how'll\": \"how will\", \n",
    "                    \"how's\": \"how is\",  \"I'd\": \"I would\", \"I'd've\": \"I would have\", \"I'll\": \"I will\", \n",
    "                    \"I'll've\": \"I will have\",\"I'm\": \"I am\", \"I've\": \"I have\", \"i'd\": \"i would\", \n",
    "                    \"i'd've\": \"i would have\", \"i'll\": \"i will\",  \"i'll've\": \"i will have\",\"i'm\": \"i am\", \n",
    "                    \"i've\": \"i have\", \"isn't\": \"is not\", \"it'd\": \"it would\", \"it'd've\": \"it would have\", \n",
    "                    \"it'll\": \"it will\", \"it'll've\": \"it will have\",\"it's\": \"it is\", \"let's\": \"let us\", \n",
    "                    \"ma'am\": \"madam\", \"mayn't\": \"may not\", \"might've\": \"might have\",\"mightn't\": \"might not\",\n",
    "                    \"mightn't've\": \"might not have\", \"must've\": \"must have\", \"mustn't\": \"must not\", \n",
    "                    \"mustn't've\": \"must not have\", \"needn't\": \"need not\", \"needn't've\": \"need not have\",\n",
    "                    \"o'clock\": \"of the clock\", \"oughtn't\": \"ought not\", \"oughtn't've\": \"ought not have\", \n",
    "                    \"shan't\": \"shall not\", \"sha'n't\": \"shall not\", \"shan't've\": \"shall not have\", \n",
    "                    \"she'd\": \"she would\", \"she'd've\": \"she would have\", \"she'll\": \"she will\", \n",
    "                    \"she'll've\": \"she will have\", \"she's\": \"she is\", \"should've\": \"should have\", \n",
    "                    \"shouldn't\": \"should not\", \"shouldn't've\": \"should not have\", \"so've\": \"so have\",\n",
    "                    \"so's\": \"so as\", \"this's\": \"this is\",\"that'd\": \"that would\", \"that'd've\": \"that would have\", \n",
    "                    \"that's\": \"that is\", \"there'd\": \"there would\", \"there'd've\": \"there would have\", \n",
    "                    \"there's\": \"there is\", \"here's\": \"here is\",\"they'd\": \"they would\", \n",
    "                    \"they'd've\": \"they would have\", \"they'll\": \"they will\", \"they'll've\": \"they will have\", \n",
    "                    \"they're\": \"they are\", \"they've\": \"they have\", \"to've\": \"to have\", \"wasn't\": \"was not\", \n",
    "                    \"we'd\": \"we would\", \"we'd've\": \"we would have\", \"we'll\": \"we will\", \n",
    "                    \"we'll've\": \"we will have\", \"we're\": \"we are\", \"we've\": \"we have\", \n",
    "                    \"weren't\": \"were not\", \"what'll\": \"what will\", \"what'll've\": \"what will have\", \n",
    "                    \"what're\": \"what are\",  \"what's\": \"what is\", \"what've\": \"what have\", \n",
    "                    \"when's\": \"when is\", \"when've\": \"when have\", \"where'd\": \"where did\", \n",
    "                    \"where's\": \"where is\", \"where've\": \"where have\", \"who'll\": \"who will\", \n",
    "                    \"who'll've\": \"who will have\", \"who's\": \"who is\", \"who've\": \"who have\", \"why's\": \"why is\", \n",
    "                    \"why've\": \"why have\", \"will've\": \"will have\", \"won't\": \"will not\", \"won't've\": \"will not have\", \n",
    "                    \"would've\": \"would have\", \"wouldn't\": \"would not\", \"wouldn't've\": \"would not have\", \n",
    "                    \"y'all\": \"you all\", \"y'all'd\": \"you all would\",\"y'all'd've\": \"you all would have\",\n",
    "                    \"y'all're\": \"you all are\",\"y'all've\": \"you all have\",\"you'd\": \"you would\", \n",
    "                    \"you'd've\": \"you would have\", \"you'll\": \"you will\", \"you'll've\": \"you will have\", \n",
    "                    \"you're\": \"you are\", \"you've\": \"you have\"}"
   ]
  },
  {
   "cell_type": "code",
   "execution_count": 24,
   "metadata": {},
   "outputs": [],
   "source": [
    "def clean_shortforms(text):\n",
    "    clean_text = text\n",
    "    for shortform in short_forms_dict.keys():\n",
    "        if re.search(shortform, text):\n",
    "            clean_text = re.sub(shortform, short_forms_dict[shortform], text)\n",
    "    return clean_text\n",
    "\n",
    "# fix short forms\n",
    "concated['text'] = concated['text'].apply(lambda x: clean_shortforms(x))"
   ]
  },
  {
   "cell_type": "code",
   "execution_count": 25,
   "metadata": {},
   "outputs": [],
   "source": [
    "concated['text'] = concated['text'].str.replace('[^\\w\\s]','')# unpunctuate"
   ]
  },
  {
   "cell_type": "code",
   "execution_count": 26,
   "metadata": {},
   "outputs": [],
   "source": [
    "# Create our list of punctuation marks\n",
    "punctuations = string.punctuation\n",
    "\n",
    "# Create our list of stopwords\n",
    "nlp = spacy.load('en_core_web_sm')\n",
    "stop_words = spacy.lang.en.stop_words.STOP_WORDS\n",
    "\n",
    "# Load English tokenizer, tagger, parser, NER and word vectors\n",
    "parser = English()\n",
    "\n",
    "# Creating our tokenizer function\n",
    "def spacy_tokenizer(sentence):\n",
    "    # Creating our token object, which is used to create documents with linguistic annotations.\n",
    "    mytokens = parser(sentence)\n",
    "\n",
    "    # Lemmatizing each token and converting each token into lowercase\n",
    "    mytokens = [ word.lemma_.lower().strip() if word.lemma_ != \"-PRON-\" else word.lower_ for word in mytokens ]\n",
    "\n",
    "    # Removing stop words\n",
    "    mytokens = [ word for word in mytokens if word not in stop_words and word not in punctuations ]\n",
    "\n",
    "    # return preprocessed list of tokens\n",
    "    return mytokens"
   ]
  },
  {
   "cell_type": "code",
   "execution_count": 27,
   "metadata": {},
   "outputs": [],
   "source": [
    "count_vect = TfidfVectorizer(tokenizer = spacy_tokenizer)#, ngram_range=(1,2))\n",
    "\n",
    "X = count_vect.fit_transform(concated['text'])\n",
    "\n",
    "y = concated['CATEGORY']"
   ]
  },
  {
   "cell_type": "code",
   "execution_count": 28,
   "metadata": {},
   "outputs": [],
   "source": [
    "X_train, X_test, y_train, y_test = train_test_split(X, y, test_size=0.3,shuffle=True) # 30% split"
   ]
  },
  {
   "cell_type": "markdown",
   "metadata": {},
   "source": [
    "Naive Bayes"
   ]
  },
  {
   "cell_type": "code",
   "execution_count": 29,
   "metadata": {},
   "outputs": [
    {
     "name": "stdout",
     "output_type": "stream",
     "text": [
      "Test Accuracy 91.76328811145397\n",
      "Train Accuracy 93.50257064379564\n",
      "Cross Validation Accuracy 91.69411951108208\n"
     ]
    }
   ],
   "source": [
    "# fit and score the bayesian classifier\n",
    "mnb = MultinomialNB(alpha=1)\n",
    "mnb.fit(X_train, y_train)\n",
    "y_pred_test_mnb=mnb.predict(X_test)\n",
    "a=accuracy_score(y_pred_test_mnb, y_test)*100\n",
    "print ('Test Accuracy',a)\n",
    "y_pred_train_mnb=mnb.predict(X_train)\n",
    "b=accuracy_score(y_train, y_pred_train_mnb)*100\n",
    "print ('Train Accuracy',b)\n",
    "\n",
    "results_mnb_cv = cross_val_score(mnb, X_train, y_train, cv=10)\n",
    "print('Cross Validation Accuracy',results_mnb_cv.mean()*100)"
   ]
  },
  {
   "cell_type": "code",
   "execution_count": 30,
   "metadata": {},
   "outputs": [
    {
     "name": "stdout",
     "output_type": "stream",
     "text": [
      "              precision    recall  f1-score   support\n",
      "\n",
      "           b       0.89      0.89      0.89     13784\n",
      "           e       0.95      0.94      0.95     13693\n",
      "           m       0.93      0.94      0.94     13651\n",
      "           t       0.90      0.90      0.90     13639\n",
      "\n",
      "    accuracy                           0.92     54767\n",
      "   macro avg       0.92      0.92      0.92     54767\n",
      "weighted avg       0.92      0.92      0.92     54767\n",
      "\n"
     ]
    }
   ],
   "source": [
    "print(classification_report(y_test, y_pred_test_mnb))"
   ]
  },
  {
   "cell_type": "code",
   "execution_count": 31,
   "metadata": {},
   "outputs": [
    {
     "data": {
      "image/png": "[encoded data removed]",
      "text/plain": [
       "<Figure size 432x288 with 2 Axes>"
      ]
     },
     "metadata": {
      "needs_background": "light"
     },
     "output_type": "display_data"
    }
   ],
   "source": [
    "confusion_matrix(y_test, y_pred_test_mnb, target_names = ['b','e','m','t']).grid(False)"
   ]
  },
  {
   "cell_type": "code",
   "execution_count": 32,
   "metadata": {},
   "outputs": [
    {
     "data": {
      "image/png": "[encoded data removed]",
      "text/plain": [
       "<Figure size 432x288 with 2 Axes>"
      ]
     },
     "metadata": {
      "needs_background": "light"
     },
     "output_type": "display_data"
    }
   ],
   "source": [
    "confusion_matrix(y_train, y_pred_train_mnb, target_names = ['b','e','m','t']).grid(False)"
   ]
  },
  {
   "cell_type": "markdown",
   "metadata": {},
   "source": [
    "Logistic Regression"
   ]
  },
  {
   "cell_type": "code",
   "execution_count": 33,
   "metadata": {},
   "outputs": [
    {
     "data": {
      "text/plain": [
       "LogisticRegression(C=1.0, class_weight='balanced', dual=False,\n",
       "                   fit_intercept=True, intercept_scaling=1, l1_ratio=None,\n",
       "                   max_iter=100, multi_class='multinomial', n_jobs=-1,\n",
       "                   penalty='l2', random_state=8, solver='newton-cg', tol=0.0001,\n",
       "                   verbose=0, warm_start=False)"
      ]
     },
     "execution_count": 33,
     "metadata": {},
     "output_type": "execute_result"
    }
   ],
   "source": [
    "# First create the base model to tune\n",
    "logreg = LogisticRegression(n_jobs=-1,solver='newton-cg',penalty='l2',multi_class='multinomial',class_weight='balanced',random_state=8)\n",
    "\n",
    "# Fit the random search model\n",
    "logreg.fit(X_train,y_train)"
   ]
  },
  {
   "cell_type": "code",
   "execution_count": 34,
   "metadata": {},
   "outputs": [
    {
     "name": "stdout",
     "output_type": "stream",
     "text": [
      "Logistic Test Accuracy: 93.34088045720964\n",
      "Logistic Train Accuracy: 95.70307303445523\n"
     ]
    }
   ],
   "source": [
    "y_pred_log_test = logreg.predict(X_test)\n",
    "y_pred_log_train = logreg.predict(X_train)\n",
    "#results_log_cv = cross_val_score(logreg, X_train, y_train, cv=5)\n",
    "\n",
    "# Model Accuracy\n",
    "print(\"Logistic Test Accuracy:\", accuracy_score(y_test, y_pred_log_test)*100)\n",
    "print(\"Logistic Train Accuracy:\", accuracy_score(y_train, y_pred_log_train)*100)\n",
    "#print('Cross Validation Accuracy',results_log_cv.mean()*100)"
   ]
  },
  {
   "cell_type": "code",
   "execution_count": 35,
   "metadata": {},
   "outputs": [
    {
     "data": {
      "image/png": "[encoded data removed]",
      "text/plain": [
       "<Figure size 432x288 with 2 Axes>"
      ]
     },
     "metadata": {
      "needs_background": "light"
     },
     "output_type": "display_data"
    }
   ],
   "source": [
    "# Test Confusion Matrix\n",
    "confusion_matrix(y_test, y_pred_log_test, target_names = ['b','e','m','t']).grid(False)"
   ]
  },
  {
   "cell_type": "code",
   "execution_count": 36,
   "metadata": {},
   "outputs": [
    {
     "data": {
      "image/png": "[encoded data removed]",
      "text/plain": [
       "<Figure size 432x288 with 2 Axes>"
      ]
     },
     "metadata": {
      "needs_background": "light"
     },
     "output_type": "display_data"
    }
   ],
   "source": [
    "# Train Confusion Matrix\n",
    "confusion_matrix(y_train, y_pred_log_train, target_names = ['b','e','m','t']).grid(False)"
   ]
  },
  {
   "cell_type": "code",
   "execution_count": 37,
   "metadata": {},
   "outputs": [
    {
     "name": "stdout",
     "output_type": "stream",
     "text": [
      "              precision    recall  f1-score   support\n",
      "\n",
      "           b       0.90      0.91      0.91     13784\n",
      "           e       0.95      0.96      0.96     13693\n",
      "           m       0.95      0.95      0.95     13651\n",
      "           t       0.93      0.91      0.92     13639\n",
      "\n",
      "    accuracy                           0.93     54767\n",
      "   macro avg       0.93      0.93      0.93     54767\n",
      "weighted avg       0.93      0.93      0.93     54767\n",
      "\n"
     ]
    }
   ],
   "source": [
    "print(classification_report(y_test, y_pred_log_test))"
   ]
  },
  {
   "cell_type": "markdown",
   "metadata": {},
   "source": [
    "SGD Classifier"
   ]
  },
  {
   "cell_type": "code",
   "execution_count": 38,
   "metadata": {},
   "outputs": [
    {
     "name": "stderr",
     "output_type": "stream",
     "text": [
      "[Parallel(n_jobs=-1)]: Using backend ThreadingBackend with 8 concurrent workers.\n"
     ]
    },
    {
     "name": "stdout",
     "output_type": "stream",
     "text": [
      "-- Epoch 1-- Epoch 1-- Epoch 1\n",
      "-- Epoch 1\n",
      "\n",
      "\n",
      "Norm: 109.30, NNZs: 21347, Bias: -1.040801, T: 127789, Avg. loss: 0.179670\n",
      "Total training time: 0.16 seconds.\n",
      "-- Epoch 2Norm: 107.54, NNZs: 20949, Bias: -0.648424, T: 127789, Avg. loss: 0.105420\n",
      "\n",
      "Total training time: 0.17 seconds.\n",
      "-- Epoch 2\n",
      "Norm: 106.92, NNZs: 20007, Bias: -0.944482, T: 127789, Avg. loss: 0.116443\n",
      "Total training time: 0.14 seconds.\n",
      "-- Epoch 2\n",
      "Norm: 113.72, NNZs: 22778, Bias: -0.921870, T: 127789, Avg. loss: 0.204581\n",
      "Total training time: 0.12 seconds.\n",
      "-- Epoch 2\n",
      "Norm: 96.00, NNZs: 24592, Bias: -0.632560, T: 255578, Avg. loss: 0.057501\n",
      "Total training time: 0.23 seconds.\n",
      "-- Epoch 3\n",
      "Norm: 101.93, NNZs: 26317, Bias: -0.839274, T: 255578, Avg. loss: 0.125030\n",
      "Norm: 97.22, NNZs: 24843, Bias: -0.875826, T: 255578, Avg. loss: 0.108430Total training time: 0.18 seconds.\n",
      "\n",
      "Total training time: 0.23 seconds.\n",
      "-- Epoch 3\n",
      "-- Epoch 3\n",
      "Norm: 95.81, NNZs: 23514, Bias: -0.828355, T: 255578, Avg. loss: 0.065672\n",
      "Total training time: 0.21 seconds.\n",
      "-- Epoch 3\n",
      "Norm: 93.86, NNZs: 26254, Bias: -0.822979, T: 383367, Avg. loss: 0.099449\n",
      "Total training time: 0.29 seconds.\n",
      "-- Epoch 4\n",
      "Norm: 92.57, NNZs: 25841, Bias: -0.575486, T: 383367, Avg. loss: 0.051795\n",
      "Total training time: 0.30 seconds.\n",
      "-- Epoch 4\n",
      "Norm: 92.31, NNZs: 24863, Bias: -0.822329, T: 383367, Avg. loss: 0.059417\n",
      "Total training time: 0.27 seconds.\n",
      "-- Epoch 4\n",
      "Norm: 98.14, NNZs: 27619, Bias: -0.724612, T: 383367, Avg. loss: 0.114415\n",
      "Total training time: 0.26 seconds.\n",
      "-- Epoch 4\n",
      "Norm: 92.01, NNZs: 26933, Bias: -0.818961, T: 511156, Avg. loss: 0.095445\n",
      "Total training time: 0.37 seconds.\n",
      "-- Epoch 5\n",
      "Norm: 91.02, NNZs: 26481, Bias: -0.591556, T: 511156, Avg. loss: 0.048784\n",
      "Total training time: 0.38 seconds.\n",
      "-- Epoch 5\n",
      "Norm: 90.98, NNZs: 25540, Bias: -0.780042, T: 511156, Avg. loss: 0.056582\n",
      "Total training time: 0.35 seconds.\n",
      "-- Epoch 5\n",
      "Norm: 96.47, NNZs: 28219, Bias: -0.699876, T: 511156, Avg. loss: 0.109768\n",
      "Total training time: 0.34 seconds.\n",
      "-- Epoch 5\n",
      "Norm: 91.22, NNZs: 27323, Bias: -0.812655, T: 638945, Avg. loss: 0.093037\n",
      "Total training time: 0.47 seconds.\n",
      "-- Epoch 6Norm: 90.16, NNZs: 26812, Bias: -0.578787, T: 638945, Avg. loss: 0.047163\n",
      "\n",
      "Total training time: 0.48 seconds.\n",
      "-- Epoch 6\n",
      "Norm: 90.02, NNZs: 25905, Bias: -0.750243, T: 638945, Avg. loss: 0.054615\n",
      "Total training time: 0.45 seconds.\n",
      "-- Epoch 6\n",
      "Norm: 95.68, NNZs: 28556, Bias: -0.705383, T: 638945, Avg. loss: 0.107012\n",
      "Total training time: 0.44 seconds.\n",
      "-- Epoch 6\n",
      "Norm: 89.66, NNZs: 27011, Bias: -0.559917, T: 766734, Avg. loss: 0.046007\n",
      "Total training time: 0.57 seconds.\n",
      "-- Epoch 7\n",
      "Norm: 90.54, NNZs: 27603, Bias: -0.786445, T: 766734, Avg. loss: 0.091279\n",
      "Total training time: 0.57 seconds.\n",
      "-- Epoch 7\n",
      "Norm: 89.39, NNZs: 26162, Bias: -0.767771, T: 766734, Avg. loss: 0.053446\n",
      "Total training time: 0.54 seconds.\n",
      "-- Epoch 7\n",
      "Norm: 95.26, NNZs: 28749, Bias: -0.675167, T: 766734, Avg. loss: 0.104915\n",
      "Total training time: 0.54 seconds.\n",
      "-- Epoch 7\n",
      "Norm: 89.22, NNZs: 27132, Bias: -0.567184, T: 894523, Avg. loss: 0.045071\n",
      "Total training time: 0.65 seconds.\n",
      "Norm: 89.11, NNZs: 26307, Bias: -0.762690, T: 894523, Avg. loss: 0.052563-- Epoch 8\n",
      "\n",
      "Total training time: 0.62 seconds.\n",
      "-- Epoch 8\n",
      "Norm: 90.29, NNZs: 27811, Bias: -0.799841, T: 894523, Avg. loss: 0.090132\n",
      "Total training time: 0.66 seconds.\n",
      "-- Epoch 8\n",
      "Norm: 94.85, NNZs: 28891, Bias: -0.667373, T: 894523, Avg. loss: 0.103438\n",
      "Total training time: 0.64 seconds.\n",
      "-- Epoch 8\n",
      "Norm: 88.97, NNZs: 27219, Bias: -0.542709, T: 1022312, Avg. loss: 0.044524\n",
      "Total training time: 0.73 seconds.\n",
      "-- Epoch 9\n",
      "Norm: 88.82, NNZs: 26414, Bias: -0.761027, T: 1022312, Avg. loss: 0.051768\n",
      "Total training time: 0.71 seconds.\n",
      "-- Epoch 9\n",
      "Norm: 89.98, NNZs: 27925, Bias: -0.785733, T: 1022312, Avg. loss: 0.089076\n",
      "Total training time: 0.74 seconds.\n",
      "-- Epoch 9\n",
      "Norm: 94.60, NNZs: 28993, Bias: -0.661005, T: 1022312, Avg. loss: 0.102316\n",
      "Total training time: 0.71 seconds.\n",
      "-- Epoch 9\n",
      "Norm: 88.81, NNZs: 27291, Bias: -0.537495, T: 1150101, Avg. loss: 0.044015\n",
      "Total training time: 0.80 seconds.\n",
      "-- Epoch 10\n",
      "Norm: 88.64, NNZs: 26506, Bias: -0.734433, T: 1150101, Avg. loss: 0.051315\n",
      "Total training time: 0.77 seconds.\n",
      "-- Epoch 10\n",
      "Norm: 89.78, NNZs: 28031, Bias: -0.806385, T: 1150101, Avg. loss: 0.088407\n",
      "Total training time: 0.80 seconds.\n",
      "-- Epoch 10\n",
      "Norm: 94.39, NNZs: 29053, Bias: -0.665120, T: 1150101, Avg. loss: 0.101606\n",
      "Total training time: 0.78 seconds.\n",
      "-- Epoch 10\n",
      "Norm: 88.69, NNZs: 27352, Bias: -0.554085, T: 1277890, Avg. loss: 0.043565Norm: 88.47, NNZs: 26578, Bias: -0.767940, T: 1277890, Avg. loss: 0.050857\n",
      "Total training time: 0.86 seconds.\n",
      "\n",
      "Total training time: 0.83 seconds.\n",
      "-- Epoch 11\n",
      "-- Epoch 11\n",
      "Norm: 89.68, NNZs: 28096, Bias: -0.805519, T: 1277890, Avg. loss: 0.087790\n",
      "Total training time: 0.86 seconds.\n",
      "-- Epoch 11\n",
      "Norm: 94.29, NNZs: 29114, Bias: -0.681160, T: 1277890, Avg. loss: 0.100875\n",
      "Total training time: 0.83 seconds.\n",
      "-- Epoch 11\n",
      "Norm: 88.57, NNZs: 27398, Bias: -0.545402, T: 1405679, Avg. loss: 0.043181\n",
      "Total training time: 0.93 seconds.\n",
      "Convergence after 11 epochs took 0.93 seconds\n",
      "Norm: 88.36, NNZs: 26622, Bias: -0.761990, T: 1405679, Avg. loss: 0.050459\n",
      "Total training time: 0.89 seconds.\n",
      "Convergence after 11 epochs took 0.89 seconds\n",
      "Norm: 89.57, NNZs: 28146, Bias: -0.776653, T: 1405679, Avg. loss: 0.087318\n",
      "Total training time: 0.93 seconds.\n",
      "-- Epoch 12\n",
      "Norm: 94.20, NNZs: 29146, Bias: -0.662991, T: 1405679, Avg. loss: 0.100281\n",
      "Total training time: 0.91 seconds.\n",
      "-- Epoch 12\n",
      "Norm: 89.53, NNZs: 28186, Bias: -0.786798, T: 1533468, Avg. loss: 0.086879\n",
      "Total training time: 1.00 seconds.\n",
      "-- Epoch 13\n",
      "Norm: 94.13, NNZs: 29182, Bias: -0.665293, T: 1533468, Avg. loss: 0.099809\n",
      "Total training time: 0.98 seconds.\n",
      "-- Epoch 13\n",
      "Norm: 89.46, NNZs: 28208, Bias: -0.765925, T: 1661257, Avg. loss: 0.086514\n",
      "Total training time: 1.09 seconds.\n",
      "Convergence after 13 epochs took 1.09 seconds\n",
      "Norm: 94.06, NNZs: 29201, Bias: -0.654166, T: 1661257, Avg. loss: 0.099309\n",
      "Total training time: 1.06 seconds.\n",
      "Convergence after 13 epochs took 1.06 seconds\n"
     ]
    },
    {
     "name": "stderr",
     "output_type": "stream",
     "text": [
      "[Parallel(n_jobs=-1)]: Done   4 out of   4 | elapsed:    1.3s remaining:    0.0s\n",
      "[Parallel(n_jobs=-1)]: Done   4 out of   4 | elapsed:    1.3s finished\n"
     ]
    },
    {
     "data": {
      "text/plain": [
       "SGDClassifier(alpha=1e-05, average=False, class_weight=None,\n",
       "              early_stopping=False, epsilon=0.1, eta0=0.0, fit_intercept=True,\n",
       "              l1_ratio=0.15, learning_rate='optimal', loss='hinge', max_iter=15,\n",
       "              n_iter_no_change=5, n_jobs=-1, penalty='l2', power_t=0.5,\n",
       "              random_state=None, shuffle=True, tol=0.001,\n",
       "              validation_fraction=0.1, verbose=True, warm_start=False)"
      ]
     },
     "execution_count": 38,
     "metadata": {},
     "output_type": "execute_result"
    }
   ],
   "source": [
    "from sklearn.linear_model import SGDClassifier\n",
    "sgd_grid = SGDClassifier(n_jobs=-1, max_iter=15,alpha=0.00001,verbose=True)\n",
    "sgd_grid.fit(X_train, y_train)"
   ]
  },
  {
   "cell_type": "code",
   "execution_count": 39,
   "metadata": {},
   "outputs": [
    {
     "name": "stdout",
     "output_type": "stream",
     "text": [
      "SGD Test Accuracy: 94.10046195701791\n",
      "SGD Train Accuracy: 96.36118914773571\n"
     ]
    }
   ],
   "source": [
    "y_pred_sgd_test = sgd_grid.predict(X_test)\n",
    "y_pred_sgd_train = sgd_grid.predict(X_train)\n",
    "#results_sgd_cv = cross_val_score(sgd_grid, X_train, y_train, cv=5)\n",
    "\n",
    "# Model Accuracy\n",
    "print(\"SGD Test Accuracy:\", accuracy_score(y_test, y_pred_sgd_test)*100)\n",
    "print(\"SGD Train Accuracy:\", accuracy_score(y_train, y_pred_sgd_train)*100)\n",
    "#print('Cross Validation Accuracy',results_sgd_cv.mean()*100)"
   ]
  },
  {
   "cell_type": "code",
   "execution_count": 40,
   "metadata": {},
   "outputs": [
    {
     "data": {
      "image/png": "[encoded data removed]",
      "text/plain": [
       "<Figure size 432x288 with 2 Axes>"
      ]
     },
     "metadata": {
      "needs_background": "light"
     },
     "output_type": "display_data"
    }
   ],
   "source": [
    "# Test confusion matrix\n",
    "confusion_matrix(y_test, y_pred_sgd_test, target_names = ['b','e','m','t']).grid(False)"
   ]
  },
  {
   "cell_type": "code",
   "execution_count": 41,
   "metadata": {},
   "outputs": [
    {
     "data": {
      "image/png": "[encoded data removed]",
      "text/plain": [
       "<Figure size 432x288 with 2 Axes>"
      ]
     },
     "metadata": {
      "needs_background": "light"
     },
     "output_type": "display_data"
    }
   ],
   "source": [
    "# Train Confusion matrix\n",
    "confusion_matrix(y_train, y_pred_sgd_train, target_names = ['b','e','m','t']).grid(False)"
   ]
  },
  {
   "cell_type": "code",
   "execution_count": 42,
   "metadata": {},
   "outputs": [
    {
     "name": "stdout",
     "output_type": "stream",
     "text": [
      "              precision    recall  f1-score   support\n",
      "\n",
      "           b       0.92      0.91      0.91     13784\n",
      "           e       0.96      0.97      0.97     13693\n",
      "           m       0.96      0.96      0.96     13651\n",
      "           t       0.92      0.93      0.93     13639\n",
      "\n",
      "    accuracy                           0.94     54767\n",
      "   macro avg       0.94      0.94      0.94     54767\n",
      "weighted avg       0.94      0.94      0.94     54767\n",
      "\n"
     ]
    }
   ],
   "source": [
    "print(classification_report(y_test, y_pred_sgd_test))"
   ]
  },
  {
   "cell_type": "markdown",
   "metadata": {},
   "source": [
    "Testing"
   ]
  },
  {
   "cell_type": "code",
   "execution_count": 43,
   "metadata": {},
   "outputs": [],
   "source": [
    "# title-category function\n",
    "def title_to_category(title):\n",
    "    title=clean_text(title)\n",
    "    categories = {'b' : 'business', \n",
    "                  't' : 'science and technology', \n",
    "                  'e' : 'entertainment', \n",
    "                  'm' : 'health'}\n",
    "    pridicter = logreg.predict(count_vect.transform([title]))\n",
    "    return categories[pridicter[0]]"
   ]
  },
  {
   "cell_type": "code",
   "execution_count": 44,
   "metadata": {},
   "outputs": [
    {
     "data": {
      "text/plain": [
       "'science and technology'"
      ]
     },
     "execution_count": 44,
     "metadata": {},
     "output_type": "execute_result"
    }
   ],
   "source": [
    "# testing today's headline from Irish Times\n",
    "title_to_category(\"Samsung to pay Apple $539 million in iPhone patent case\")\n",
    "# link to article: https://www.irishtimes.com/news/world/europe/french-hospital-discovers-it-had-case-of-coronavirus-in-december-1.4245275"
   ]
  },
  {
   "cell_type": "code",
   "execution_count": 45,
   "metadata": {},
   "outputs": [],
   "source": [
    "# title-category function\n",
    "def title_to_category2(title):\n",
    "    title=clean_text(title)\n",
    "    categories = {'b' : 'business', \n",
    "                  't' : 'science and technology', \n",
    "                  'e' : 'entertainment', \n",
    "                  'm' : 'health'}\n",
    "    pridicter2 = sgd_grid.predict(count_vect.transform([title]))\n",
    "    return categories[pridicter2[0]]"
   ]
  },
  {
   "cell_type": "code",
   "execution_count": 46,
   "metadata": {},
   "outputs": [
    {
     "data": {
      "text/plain": [
       "'science and technology'"
      ]
     },
     "execution_count": 46,
     "metadata": {},
     "output_type": "execute_result"
    }
   ],
   "source": [
    "# testing today's headline from Irish Times\n",
    "title_to_category2(\"Samsung to pay Apple $539 million in iPhone patent case\")\n",
    "# link to article: https://www.irishtimes.com/news/world/europe/french-hospital-discovers-it-had-case-of-coronavirus-in-december-1.4245275"
   ]
  },
  {
   "cell_type": "code",
   "execution_count": 47,
   "metadata": {},
   "outputs": [],
   "source": [
    "# title-category function\n",
    "def title_to_category4(title):\n",
    "    title=clean_text(title)\n",
    "    categories = {'b' : 'business', \n",
    "                  't' : 'science and technology', \n",
    "                  'e' : 'entertainment', \n",
    "                  'm' : 'health'}\n",
    "    pridicter4 = mnb.predict(count_vect.transform([title]))\n",
    "    return categories[pridicter4[0]]"
   ]
  },
  {
   "cell_type": "code",
   "execution_count": 48,
   "metadata": {},
   "outputs": [
    {
     "data": {
      "text/plain": [
       "'science and technology'"
      ]
     },
     "execution_count": 48,
     "metadata": {},
     "output_type": "execute_result"
    }
   ],
   "source": [
    "# testing today's headline from Irish Times\n",
    "title_to_category4(\"Samsung to pay Apple $539 million in iPhone patent case\")\n",
    "# link to article: https://www.irishtimes.com/news/world/europe/french-hospital-discovers-it-had-case-of-coronavirus-in-december-1.4245275"
   ]
  }
 ],
 "metadata": {
  "kernelspec": {
   "display_name": "Python 3",
   "language": "python",
   "name": "python3"
  },
  "language_info": {
   "codemirror_mode": {
    "name": "ipython",
    "version": 3
   },
   "file_extension": ".py",
   "mimetype": "text/x-python",
   "name": "python",
   "nbconvert_exporter": "python",
   "pygments_lexer": "ipython3",
   "version": "3.7.1"
  }
 },
 "nbformat": 4,
 "nbformat_minor": 4
}
